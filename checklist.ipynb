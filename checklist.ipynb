{
 "cells": [
  {
   "cell_type": "markdown",
   "metadata": {},
   "source": [
    "---\n",
    "### Checklist"
   ]
  },
  {
   "cell_type": "markdown",
   "metadata": {},
   "source": [
    "* Project Notebook(s)\n",
    "* Slideshow (pdf)\n",
    "* Slideshow Video\n",
    "* Blog Post (1000 words)\n",
    "* README.md"
   ]
  },
  {
   "cell_type": "markdown",
   "metadata": {},
   "source": [
    "---\n",
    "#### Convert notebook to readme.md\n",
    "* jupyter nbconvert --to markdown notebook_name.ipynb\n",
    "* mv README.md README_old.md\n",
    "* mv notebook_name.md README.md\n",
    "\n",
    "##### From your project notebook:\n",
    "\n",
    "* Select File > Download as > Markdown\n",
    "* Notebook + output images will be downloaded a zip file.\n",
    "* Extract contents of zip folder to main folder of repo.\n",
    "* Rename the original README.md to README_old.md\n",
    "* Rename the notebook.md to README.md"
   ]
  },
  {
   "cell_type": "markdown",
   "metadata": {},
   "source": [
    "## Rubric checklist\n",
    "\n",
    "* Business case constructed clearly. \n",
    "* clearly articulated the business stakeholder requirements that the project aims to accomplish.\n",
    "* Combine questions in unique ways like how does zipcode impact house prices?\n",
    "\n",
    "* 4 meaningful data visualizations, with corresponding interpretations. \n",
    "* All visualizations are well labeled with axes labels, a title, and a legend (when appropriate)\n",
    " \n",
    "* pose at least 3 meaningful questions and aswer them through EDA. \n",
    "* These questions should be well labled and easy to identify inside the notebook.\n",
    "* Level Up: Each question is clearly answered with a visualization that makes the answer easy to understand.\n",
    "* Your notebook should contain 1 - 2 paragraphs briefly explaining your approach to this project through the OSEMN framework.\n",
    "\n",
    "#### Model Quality/Approach\n",
    "* Your model should not include any predictors with p-values greater than .05.\n",
    "* Your notebook shows an iterative approach to modeling, and details the parameters and results of the model at each iteration.\n",
    "* Level Up: Whenever necessary, you briefly explain the changes made from one iteration to the next, and why you made these choices.\n",
    "* You provide at least 1 paragraph explaining your final model.\n",
    "* You pick at least 3 coefficients from your final model and explain their impact on the price of a house in this dataset."
   ]
  },
  {
   "cell_type": "markdown",
   "metadata": {},
   "source": [
    "* \"how did you pick the question(s) that you did?\"\n",
    "* \"why are these questions important from a business perspective?\"\n",
    "* \"how did you decide on the data cleaning options you performed?\"\n",
    "* \"why did you choose a given method or library?\"\n",
    "* \"why did you select those visualizations and what did you learn from each of them?\"\n",
    "* \"why did you pick those features as predictors?\"\n",
    "* \"how would you interpret the results?\"\n",
    "* \"how confident are you in the predictive quality of the results?\"\n",
    "* \"what are some of the things that could cause the results to be wrong?\""
   ]
  },
  {
   "cell_type": "code",
   "execution_count": null,
   "metadata": {},
   "outputs": [],
   "source": []
  }
 ],
 "metadata": {
  "kernelspec": {
   "display_name": "Python [conda env:learn-env] *",
   "language": "python",
   "name": "conda-env-learn-env-py"
  },
  "language_info": {
   "codemirror_mode": {
    "name": "ipython",
    "version": 3
   },
   "file_extension": ".py",
   "mimetype": "text/x-python",
   "name": "python",
   "nbconvert_exporter": "python",
   "pygments_lexer": "ipython3",
   "version": "3.6.9"
  }
 },
 "nbformat": 4,
 "nbformat_minor": 2
}
