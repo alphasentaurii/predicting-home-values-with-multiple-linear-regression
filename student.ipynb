{
 "cells": [
  {
   "cell_type": "markdown",
   "metadata": {},
   "source": [
    "## Final Project Submission\n",
    "\n",
    "* Student name: **Ru Keïn**\n",
    "* Student pace: **Full-Time**\n",
    "* Scheduled project review date/time: \n",
    "* Instructor name: **James Irving, PhD**\n",
    "* Blog post URL:\n"
   ]
  },
  {
   "cell_type": "markdown",
   "metadata": {},
   "source": [
    "---\n",
    "# Obtain\n",
    "* Import requisite libraries and data\n",
    "* Inspect columns, dataypes\n",
    "    * df.head()"
   ]
  },
  {
   "cell_type": "code",
   "execution_count": 85,
   "metadata": {
    "scrolled": false
   },
   "outputs": [],
   "source": [
    "# import PyPi package for cohort libraries using shortcut\n",
    "#!pip install -U fsds_100719 # comment out after install so it won't run again"
   ]
  },
  {
   "cell_type": "code",
   "execution_count": 86,
   "metadata": {
    "scrolled": false
   },
   "outputs": [],
   "source": [
    "import fsds_100719 as fs\n",
    "from fsds_100719.imports import *\n",
    "plt.style.use('seaborn')\n",
    "#inline_rc = dict(mpl.rcParams)\n",
    "import statsmodels.api as sm\n",
    "import statsmodels.formula.api as smf\n",
    "from scipy.stats import normaltest as normtest # D'Agostino and Pearson's omnibus test\n",
    "from collections import Counter\n",
    "from sklearn.preprocessing import RobustScaler\n",
    "from sklearn.preprocessing import MinMaxScaler"
   ]
  },
  {
   "cell_type": "code",
   "execution_count": 87,
   "metadata": {
    "scrolled": false
   },
   "outputs": [],
   "source": [
    "#ignore pink warnings\n",
    "import warnings\n",
    "warnings.filterwarnings('ignore')\n",
    "\n",
    "# Allow for large # columns\n",
    "pd.set_option('display.max_columns', 0)\n",
    "# pd.set_option('display.max_rows','')"
   ]
  },
  {
   "cell_type": "code",
   "execution_count": 88,
   "metadata": {
    "scrolled": false
   },
   "outputs": [
    {
     "data": {
      "text/html": [
       "<div>\n",
       "<style scoped>\n",
       "    .dataframe tbody tr th:only-of-type {\n",
       "        vertical-align: middle;\n",
       "    }\n",
       "\n",
       "    .dataframe tbody tr th {\n",
       "        vertical-align: top;\n",
       "    }\n",
       "\n",
       "    .dataframe thead th {\n",
       "        text-align: right;\n",
       "    }\n",
       "</style>\n",
       "<table border=\"1\" class=\"dataframe\">\n",
       "  <thead>\n",
       "    <tr style=\"text-align: right;\">\n",
       "      <th></th>\n",
       "      <th>id</th>\n",
       "      <th>date</th>\n",
       "      <th>price</th>\n",
       "      <th>bedrooms</th>\n",
       "      <th>bathrooms</th>\n",
       "      <th>sqft_living</th>\n",
       "      <th>sqft_lot</th>\n",
       "      <th>floors</th>\n",
       "      <th>waterfront</th>\n",
       "      <th>view</th>\n",
       "      <th>condition</th>\n",
       "      <th>grade</th>\n",
       "      <th>sqft_above</th>\n",
       "      <th>sqft_basement</th>\n",
       "      <th>yr_built</th>\n",
       "      <th>yr_renovated</th>\n",
       "      <th>zipcode</th>\n",
       "      <th>lat</th>\n",
       "      <th>long</th>\n",
       "      <th>sqft_living15</th>\n",
       "      <th>sqft_lot15</th>\n",
       "    </tr>\n",
       "  </thead>\n",
       "  <tbody>\n",
       "    <tr>\n",
       "      <td>0</td>\n",
       "      <td>7129300520</td>\n",
       "      <td>10/13/2014</td>\n",
       "      <td>221900.0</td>\n",
       "      <td>3</td>\n",
       "      <td>1.00</td>\n",
       "      <td>1180</td>\n",
       "      <td>5650</td>\n",
       "      <td>1.0</td>\n",
       "      <td>NaN</td>\n",
       "      <td>0.0</td>\n",
       "      <td>3</td>\n",
       "      <td>7</td>\n",
       "      <td>1180</td>\n",
       "      <td>0.0</td>\n",
       "      <td>1955</td>\n",
       "      <td>0.0</td>\n",
       "      <td>98178</td>\n",
       "      <td>47.5112</td>\n",
       "      <td>-122.257</td>\n",
       "      <td>1340</td>\n",
       "      <td>5650</td>\n",
       "    </tr>\n",
       "    <tr>\n",
       "      <td>1</td>\n",
       "      <td>6414100192</td>\n",
       "      <td>12/9/2014</td>\n",
       "      <td>538000.0</td>\n",
       "      <td>3</td>\n",
       "      <td>2.25</td>\n",
       "      <td>2570</td>\n",
       "      <td>7242</td>\n",
       "      <td>2.0</td>\n",
       "      <td>0.0</td>\n",
       "      <td>0.0</td>\n",
       "      <td>3</td>\n",
       "      <td>7</td>\n",
       "      <td>2170</td>\n",
       "      <td>400.0</td>\n",
       "      <td>1951</td>\n",
       "      <td>1991.0</td>\n",
       "      <td>98125</td>\n",
       "      <td>47.7210</td>\n",
       "      <td>-122.319</td>\n",
       "      <td>1690</td>\n",
       "      <td>7639</td>\n",
       "    </tr>\n",
       "    <tr>\n",
       "      <td>2</td>\n",
       "      <td>5631500400</td>\n",
       "      <td>2/25/2015</td>\n",
       "      <td>180000.0</td>\n",
       "      <td>2</td>\n",
       "      <td>1.00</td>\n",
       "      <td>770</td>\n",
       "      <td>10000</td>\n",
       "      <td>1.0</td>\n",
       "      <td>0.0</td>\n",
       "      <td>0.0</td>\n",
       "      <td>3</td>\n",
       "      <td>6</td>\n",
       "      <td>770</td>\n",
       "      <td>0.0</td>\n",
       "      <td>1933</td>\n",
       "      <td>NaN</td>\n",
       "      <td>98028</td>\n",
       "      <td>47.7379</td>\n",
       "      <td>-122.233</td>\n",
       "      <td>2720</td>\n",
       "      <td>8062</td>\n",
       "    </tr>\n",
       "    <tr>\n",
       "      <td>3</td>\n",
       "      <td>2487200875</td>\n",
       "      <td>12/9/2014</td>\n",
       "      <td>604000.0</td>\n",
       "      <td>4</td>\n",
       "      <td>3.00</td>\n",
       "      <td>1960</td>\n",
       "      <td>5000</td>\n",
       "      <td>1.0</td>\n",
       "      <td>0.0</td>\n",
       "      <td>0.0</td>\n",
       "      <td>5</td>\n",
       "      <td>7</td>\n",
       "      <td>1050</td>\n",
       "      <td>910.0</td>\n",
       "      <td>1965</td>\n",
       "      <td>0.0</td>\n",
       "      <td>98136</td>\n",
       "      <td>47.5208</td>\n",
       "      <td>-122.393</td>\n",
       "      <td>1360</td>\n",
       "      <td>5000</td>\n",
       "    </tr>\n",
       "    <tr>\n",
       "      <td>4</td>\n",
       "      <td>1954400510</td>\n",
       "      <td>2/18/2015</td>\n",
       "      <td>510000.0</td>\n",
       "      <td>3</td>\n",
       "      <td>2.00</td>\n",
       "      <td>1680</td>\n",
       "      <td>8080</td>\n",
       "      <td>1.0</td>\n",
       "      <td>0.0</td>\n",
       "      <td>0.0</td>\n",
       "      <td>3</td>\n",
       "      <td>8</td>\n",
       "      <td>1680</td>\n",
       "      <td>0.0</td>\n",
       "      <td>1987</td>\n",
       "      <td>0.0</td>\n",
       "      <td>98074</td>\n",
       "      <td>47.6168</td>\n",
       "      <td>-122.045</td>\n",
       "      <td>1800</td>\n",
       "      <td>7503</td>\n",
       "    </tr>\n",
       "  </tbody>\n",
       "</table>\n",
       "</div>"
      ],
      "text/plain": [
       "           id        date     price  bedrooms  ...      lat     long  sqft_living15  sqft_lot15\n",
       "0  7129300520  10/13/2014  221900.0         3  ...  47.5112 -122.257           1340        5650\n",
       "1  6414100192   12/9/2014  538000.0         3  ...  47.7210 -122.319           1690        7639\n",
       "2  5631500400   2/25/2015  180000.0         2  ...  47.7379 -122.233           2720        8062\n",
       "3  2487200875   12/9/2014  604000.0         4  ...  47.5208 -122.393           1360        5000\n",
       "4  1954400510   2/18/2015  510000.0         3  ...  47.6168 -122.045           1800        7503\n",
       "\n",
       "[5 rows x 21 columns]"
      ]
     },
     "execution_count": 88,
     "metadata": {},
     "output_type": "execute_result"
    }
   ],
   "source": [
    "# import dataset\n",
    "df = pd.read_csv('kc_house_data.csv') \n",
    "df.head()"
   ]
  },
  {
   "cell_type": "markdown",
   "metadata": {},
   "source": [
    "---\n",
    "### Column Names and descriptions for Kings County Data Set\n",
    "\n",
    "#### SET_INDEX\n",
    "* **id** - unique identified for a house\n",
    "\n",
    "#### TARGET\n",
    "* **pricePrice** -  is prediction target\n",
    "\n",
    "#### DATETIME\n",
    "* **dateDate** - house was sold\n",
    "* **yr_built** - Built Year\n",
    "\n",
    "#### BOOL\n",
    "* **yr_renovated** - Year when house was renovated\n",
    "* **waterfront** - House which has a view to a waterfront\n",
    "\n",
    "#### CONTINUOUS\n",
    "* **sqft_livingsquare** -  footage of the home\n",
    "(drop or combine with sqft_living if both == higher coef)\n",
    "* **sqft_living15** - The square footage of interior housing living space for the nearest 15 neighbors\n",
    "* **sqft_lot15** - The square footage of the land lots of the nearest 15 neighbors\n",
    "* **sqft_lotsquare** -  footage of the lot\n",
    "* **sqft_above** - square footage of house apart from basement\n",
    "* **sqft_basement** - square footage of the basement\n",
    "\n",
    "\n",
    "#### CATEGORICAL\n",
    "\n",
    "* **grade** - overall grade given to the housing unit, based on King County grading system\n",
    "(drop bc or multicollinearity - or combine with grade if higher coef)\n",
    "* **condition** - How good the condition is ( Overall )\n",
    "* **bathroomsNumber** -  of bathrooms/bedrooms\n",
    "* **bedroomsNumber** -  of Bedrooms/House\n",
    "* **floorsTotal** -  floors (levels) in house\n",
    "* **view** - Has been viewed\n",
    "\n",
    "* **zipcode** - zip\n",
    "(drop - redundant with zipcode)\n",
    "* **lat** - Latitude coordinate\n",
    "* **long** - Longitude coordinate\n",
    "---"
   ]
  },
  {
   "cell_type": "markdown",
   "metadata": {},
   "source": [
    "---\n",
    "# SCRUB \n",
    "\n",
    "## Scrub 1 : categorizing / casting data types\n",
    "\n",
    "**Q1: Which predictors should be analyzed as continuous data, vs binned/categorical data?**\n",
    "\n",
    "+ preliminary analysis, data casting, and visualizations\n",
    "+ check for linearity, normal distributions\n",
    "\n",
    "### Review initial data summaries\n",
    "\n",
    "       * Check and cast data types\n",
    "               * df.info()\n",
    "               * df.set_index()\n",
    "               * df.unique()\n",
    "               * df.isna().sum()\n",
    "               * df.describe()\n",
    "               * df.min(), .max()\n",
    "               * df.value_counts()\n",
    "          "
   ]
  },
  {
   "cell_type": "markdown",
   "metadata": {},
   "source": [
    "#### Display Info  "
   ]
  },
  {
   "cell_type": "code",
   "execution_count": 107,
   "metadata": {
    "scrolled": false
   },
   "outputs": [
    {
     "name": "stdout",
     "output_type": "stream",
     "text": [
      "<class 'pandas.core.frame.DataFrame'>\n",
      "Int64Index: 21597 entries, 7129300520 to 1523300157\n",
      "Data columns (total 20 columns):\n",
      "date             21597 non-null object\n",
      "price            21597 non-null float64\n",
      "bedrooms         21597 non-null int64\n",
      "bathrooms        21597 non-null float64\n",
      "sqft_living      21597 non-null int64\n",
      "sqft_lot         21597 non-null int64\n",
      "floors           21597 non-null float64\n",
      "waterfront       21597 non-null float64\n",
      "view             21534 non-null float64\n",
      "condition        21597 non-null int64\n",
      "grade            21597 non-null int64\n",
      "sqft_above       21597 non-null int64\n",
      "sqft_basement    21597 non-null object\n",
      "yr_built         21597 non-null int64\n",
      "yr_renovated     17755 non-null float64\n",
      "zipcode          21597 non-null int64\n",
      "lat              21597 non-null float64\n",
      "long             21597 non-null float64\n",
      "sqft_living15    21597 non-null int64\n",
      "sqft_lot15       21597 non-null int64\n",
      "dtypes: float64(8), int64(10), object(2)\n",
      "memory usage: 3.5+ MB\n"
     ]
    }
   ],
   "source": [
    "# Display information about the variables, columns and datatypes\n",
    "# The raw dataset contains 2 objects: 'date', 'sqft_basement'\n",
    "# dtypes: float64(8), int64(11), object(2)\n",
    "  \n",
    "df.info()"
   ]
  },
  {
   "cell_type": "markdown",
   "metadata": {},
   "source": [
    "#### Set dataframe index to 'id'"
   ]
  },
  {
   "cell_type": "code",
   "execution_count": 90,
   "metadata": {},
   "outputs": [
    {
     "data": {
      "text/html": [
       "<div>\n",
       "<style scoped>\n",
       "    .dataframe tbody tr th:only-of-type {\n",
       "        vertical-align: middle;\n",
       "    }\n",
       "\n",
       "    .dataframe tbody tr th {\n",
       "        vertical-align: top;\n",
       "    }\n",
       "\n",
       "    .dataframe thead th {\n",
       "        text-align: right;\n",
       "    }\n",
       "</style>\n",
       "<table border=\"1\" class=\"dataframe\">\n",
       "  <thead>\n",
       "    <tr style=\"text-align: right;\">\n",
       "      <th></th>\n",
       "      <th>date</th>\n",
       "      <th>price</th>\n",
       "      <th>bedrooms</th>\n",
       "      <th>bathrooms</th>\n",
       "      <th>sqft_living</th>\n",
       "      <th>sqft_lot</th>\n",
       "      <th>floors</th>\n",
       "      <th>waterfront</th>\n",
       "      <th>view</th>\n",
       "      <th>condition</th>\n",
       "      <th>grade</th>\n",
       "      <th>sqft_above</th>\n",
       "      <th>sqft_basement</th>\n",
       "      <th>yr_built</th>\n",
       "      <th>yr_renovated</th>\n",
       "      <th>zipcode</th>\n",
       "      <th>lat</th>\n",
       "      <th>long</th>\n",
       "      <th>sqft_living15</th>\n",
       "      <th>sqft_lot15</th>\n",
       "    </tr>\n",
       "    <tr>\n",
       "      <th>id</th>\n",
       "      <th></th>\n",
       "      <th></th>\n",
       "      <th></th>\n",
       "      <th></th>\n",
       "      <th></th>\n",
       "      <th></th>\n",
       "      <th></th>\n",
       "      <th></th>\n",
       "      <th></th>\n",
       "      <th></th>\n",
       "      <th></th>\n",
       "      <th></th>\n",
       "      <th></th>\n",
       "      <th></th>\n",
       "      <th></th>\n",
       "      <th></th>\n",
       "      <th></th>\n",
       "      <th></th>\n",
       "      <th></th>\n",
       "      <th></th>\n",
       "    </tr>\n",
       "  </thead>\n",
       "  <tbody>\n",
       "    <tr>\n",
       "      <td>7129300520</td>\n",
       "      <td>10/13/2014</td>\n",
       "      <td>221900.0</td>\n",
       "      <td>3</td>\n",
       "      <td>1.00</td>\n",
       "      <td>1180</td>\n",
       "      <td>5650</td>\n",
       "      <td>1.0</td>\n",
       "      <td>NaN</td>\n",
       "      <td>0.0</td>\n",
       "      <td>3</td>\n",
       "      <td>7</td>\n",
       "      <td>1180</td>\n",
       "      <td>0.0</td>\n",
       "      <td>1955</td>\n",
       "      <td>0.0</td>\n",
       "      <td>98178</td>\n",
       "      <td>47.5112</td>\n",
       "      <td>-122.257</td>\n",
       "      <td>1340</td>\n",
       "      <td>5650</td>\n",
       "    </tr>\n",
       "    <tr>\n",
       "      <td>6414100192</td>\n",
       "      <td>12/9/2014</td>\n",
       "      <td>538000.0</td>\n",
       "      <td>3</td>\n",
       "      <td>2.25</td>\n",
       "      <td>2570</td>\n",
       "      <td>7242</td>\n",
       "      <td>2.0</td>\n",
       "      <td>0.0</td>\n",
       "      <td>0.0</td>\n",
       "      <td>3</td>\n",
       "      <td>7</td>\n",
       "      <td>2170</td>\n",
       "      <td>400.0</td>\n",
       "      <td>1951</td>\n",
       "      <td>1991.0</td>\n",
       "      <td>98125</td>\n",
       "      <td>47.7210</td>\n",
       "      <td>-122.319</td>\n",
       "      <td>1690</td>\n",
       "      <td>7639</td>\n",
       "    </tr>\n",
       "    <tr>\n",
       "      <td>5631500400</td>\n",
       "      <td>2/25/2015</td>\n",
       "      <td>180000.0</td>\n",
       "      <td>2</td>\n",
       "      <td>1.00</td>\n",
       "      <td>770</td>\n",
       "      <td>10000</td>\n",
       "      <td>1.0</td>\n",
       "      <td>0.0</td>\n",
       "      <td>0.0</td>\n",
       "      <td>3</td>\n",
       "      <td>6</td>\n",
       "      <td>770</td>\n",
       "      <td>0.0</td>\n",
       "      <td>1933</td>\n",
       "      <td>NaN</td>\n",
       "      <td>98028</td>\n",
       "      <td>47.7379</td>\n",
       "      <td>-122.233</td>\n",
       "      <td>2720</td>\n",
       "      <td>8062</td>\n",
       "    </tr>\n",
       "    <tr>\n",
       "      <td>2487200875</td>\n",
       "      <td>12/9/2014</td>\n",
       "      <td>604000.0</td>\n",
       "      <td>4</td>\n",
       "      <td>3.00</td>\n",
       "      <td>1960</td>\n",
       "      <td>5000</td>\n",
       "      <td>1.0</td>\n",
       "      <td>0.0</td>\n",
       "      <td>0.0</td>\n",
       "      <td>5</td>\n",
       "      <td>7</td>\n",
       "      <td>1050</td>\n",
       "      <td>910.0</td>\n",
       "      <td>1965</td>\n",
       "      <td>0.0</td>\n",
       "      <td>98136</td>\n",
       "      <td>47.5208</td>\n",
       "      <td>-122.393</td>\n",
       "      <td>1360</td>\n",
       "      <td>5000</td>\n",
       "    </tr>\n",
       "    <tr>\n",
       "      <td>1954400510</td>\n",
       "      <td>2/18/2015</td>\n",
       "      <td>510000.0</td>\n",
       "      <td>3</td>\n",
       "      <td>2.00</td>\n",
       "      <td>1680</td>\n",
       "      <td>8080</td>\n",
       "      <td>1.0</td>\n",
       "      <td>0.0</td>\n",
       "      <td>0.0</td>\n",
       "      <td>3</td>\n",
       "      <td>8</td>\n",
       "      <td>1680</td>\n",
       "      <td>0.0</td>\n",
       "      <td>1987</td>\n",
       "      <td>0.0</td>\n",
       "      <td>98074</td>\n",
       "      <td>47.6168</td>\n",
       "      <td>-122.045</td>\n",
       "      <td>1800</td>\n",
       "      <td>7503</td>\n",
       "    </tr>\n",
       "  </tbody>\n",
       "</table>\n",
       "</div>"
      ],
      "text/plain": [
       "                  date     price  bedrooms  ...     long  sqft_living15  sqft_lot15\n",
       "id                                          ...                                    \n",
       "7129300520  10/13/2014  221900.0         3  ... -122.257           1340        5650\n",
       "6414100192   12/9/2014  538000.0         3  ... -122.319           1690        7639\n",
       "5631500400   2/25/2015  180000.0         2  ... -122.233           2720        8062\n",
       "2487200875   12/9/2014  604000.0         4  ... -122.393           1360        5000\n",
       "1954400510   2/18/2015  510000.0         3  ... -122.045           1800        7503\n",
       "\n",
       "[5 rows x 20 columns]"
      ]
     },
     "execution_count": 90,
     "metadata": {},
     "output_type": "execute_result"
    }
   ],
   "source": [
    "df.set_index('id', inplace=True)\n",
    "df.head()"
   ]
  },
  {
   "cell_type": "markdown",
   "metadata": {},
   "source": [
    "### Null / Missing Values"
   ]
  },
  {
   "cell_type": "markdown",
   "metadata": {},
   "source": [
    "##### Scrub  1 : Null / Missing Values\n",
    "\n",
    "**Q2: How do we deal with missing values?**\n",
    " \n",
    "+ remove null values\n",
    "+ recast data types\n",
    "\n",
    "          * Drop null rows or columns as appropriate\n",
    "              * df.isna().sum()\n",
    "              * df.drop()\n",
    "              * df.drop(['col1','col2'],axis=1)\n",
    "                  * drop sqft_basement\n",
    "          \n",
    "          * Coarse Binning NUMERICAL Data\n",
    "              * replace with median or bin/convert to categorical\n",
    "                   * bin yr_built\n",
    "                   * bin sqft_basement\n",
    "                   * bin sqft_above\n",
    "          \n",
    "          * CATEGORICAL data: \n",
    "              * make NaN own category OR replace with most common category\n",
    "              * Fill in null values and recast variables for EDA\n",
    "                   * zipcode --> coded\n",
    "                   * View --> category\n",
    "                   * Waterfront --> boolean\n",
    "                   * yr_renovated --> is_reno (boolean)\n"
   ]
  },
  {
   "cell_type": "code",
   "execution_count": 94,
   "metadata": {
    "code_folding": []
   },
   "outputs": [
    {
     "name": "stdout",
     "output_type": "stream",
     "text": [
      "Columns with Null Values\n",
      "------------------------\n",
      "waterfront: \n",
      "2376 out of 21597 (11.0%)\n",
      "\n",
      "view: \n",
      "63 out of 21597 (0.29%)\n",
      "\n",
      "yr_renovated: \n",
      "3842 out of 21597 (17.79%)\n",
      "\n"
     ]
    }
   ],
   "source": [
    "# (1) Identify Null and placeholder values\n",
    "def find_nulls(df):\n",
    "    print(f\"Columns with Null Values\")\n",
    "    print(\"------------------------\")\n",
    "    for column in df:\n",
    "        if df[column].isna().sum() > 0:\n",
    "            print(f\"{df[column].name}: \\n{df[column].isna().sum()} out of {len(df[column])} ({round(df[column].isna().sum()/len(df[column])*100,2)}%)\\n\")\n",
    "\n",
    "find_nulls(df)            "
   ]
  },
  {
   "cell_type": "markdown",
   "metadata": {},
   "source": [
    "#### ['waterfront']"
   ]
  },
  {
   "cell_type": "code",
   "execution_count": 136,
   "metadata": {
    "code_folding": [
     0
    ],
    "run_control": {
     "marked": false
    }
   },
   "outputs": [],
   "source": [
    "def summarizer(data, column):\n",
    "    print(f\"\\n{data[column].name.upper()}\")\n",
    "    print(\"-\"*len(data[column].name))\n",
    "    print(f\"Nulls\\n{df[column].isna().sum()} out of {len(df[column])}({round(df[column].isna().sum()/len(df[column])*100,2)}%)\\n\")\n",
    "    print(f\"Unique Values:\\n {data[column].unique()}\\n\")\n",
    "    print(f\"Non-Null Value Counts:\\n{data[column].value_counts()}\\n\")\n",
    "    print(f\"Quick Stats:\\n{data[column].agg(['mean','median','std'])}\")"
   ]
  },
  {
   "cell_type": "code",
   "execution_count": 137,
   "metadata": {},
   "outputs": [
    {
     "name": "stdout",
     "output_type": "stream",
     "text": [
      "\n",
      "WATERFRONT\n",
      "----------\n",
      "Nulls\n",
      "0 out of 21597(0.0%)\n",
      "\n",
      "Unique Values:\n",
      " [False  True]\n",
      "\n",
      "Non-Null Value Counts:\n",
      "False    21451\n",
      "True       146\n",
      "Name: waterfront, dtype: int64\n",
      "\n",
      "Quick Stats:\n",
      "mean      0.006760\n",
      "median    0.000000\n",
      "std       0.081944\n",
      "Name: waterfront, dtype: float64\n"
     ]
    }
   ],
   "source": [
    "summarizer(df, 'waterfront')"
   ]
  },
  {
   "cell_type": "code",
   "execution_count": 106,
   "metadata": {},
   "outputs": [
    {
     "data": {
      "text/plain": [
       "0"
      ]
     },
     "execution_count": 106,
     "metadata": {},
     "output_type": "execute_result"
    }
   ],
   "source": [
    "# waterfront  : Fill nulls with most common value (0) and convert to boolean\n",
    "\n",
    "df['waterfront'].fillna(0.0, inplace=True)\n",
    "df['waterfront'].isna().sum()"
   ]
  },
  {
   "cell_type": "code",
   "execution_count": 121,
   "metadata": {},
   "outputs": [
    {
     "data": {
      "text/plain": [
       "dtype('bool')"
      ]
     },
     "execution_count": 121,
     "metadata": {},
     "output_type": "execute_result"
    }
   ],
   "source": [
    "# All values for this column are either 1 or 0 so we'll convert to Boolean:\n",
    "\n",
    "df['waterfront'] = df['waterfront'].astype('bool')\n",
    "df['waterfront'].dtype"
   ]
  },
  {
   "cell_type": "code",
   "execution_count": 158,
   "metadata": {},
   "outputs": [
    {
     "name": "stdout",
     "output_type": "stream",
     "text": [
      "False    0.99324\n",
      "True     0.00676\n",
      "Name: waterfront, dtype: float64\n"
     ]
    }
   ],
   "source": [
    "# 99% of the values are not waterfront properties - unlikely that this will be a good candidate for prediction.\n",
    "print(df['waterfront'].value_counts(normalize=True))"
   ]
  },
  {
   "cell_type": "markdown",
   "metadata": {},
   "source": [
    "#### ['yr_renovated']"
   ]
  },
  {
   "cell_type": "code",
   "execution_count": 159,
   "metadata": {},
   "outputs": [
    {
     "name": "stdout",
     "output_type": "stream",
     "text": [
      "\n",
      "YR_RENOVATED\n",
      "------------\n",
      "Nulls\n",
      "3842 out of 21597(17.79%)\n",
      "\n",
      "Unique Values:\n",
      " [   0. 1991.   nan 2002. 2010. 1992. 2013. 1994. 1978. 2005. 2003. 1984.\n",
      " 1954. 2014. 2011. 1983. 1945. 1990. 1988. 1977. 1981. 1995. 2000. 1999.\n",
      " 1998. 1970. 1989. 2004. 1986. 2007. 1987. 2006. 1985. 2001. 1980. 1971.\n",
      " 1979. 1997. 1950. 1969. 1948. 2009. 2015. 1974. 2008. 1968. 2012. 1963.\n",
      " 1951. 1962. 1953. 1993. 1996. 1955. 1982. 1956. 1940. 1976. 1946. 1975.\n",
      " 1964. 1973. 1957. 1959. 1960. 1967. 1965. 1934. 1972. 1944. 1958.]\n",
      "\n",
      "Non-Null Value Counts:\n",
      "0.0       17011\n",
      "2014.0       73\n",
      "2003.0       31\n",
      "2013.0       31\n",
      "2007.0       30\n",
      "          ...  \n",
      "1946.0        1\n",
      "1959.0        1\n",
      "1971.0        1\n",
      "1951.0        1\n",
      "1954.0        1\n",
      "Name: yr_renovated, Length: 70, dtype: int64\n",
      "\n",
      "Quick Stats:\n",
      "mean       83.636778\n",
      "median      0.000000\n",
      "std       399.946414\n",
      "Name: yr_renovated, dtype: float64\n"
     ]
    }
   ],
   "source": [
    "summarizer(df, 'yr_renovated')"
   ]
  },
  {
   "cell_type": "code",
   "execution_count": 160,
   "metadata": {},
   "outputs": [
    {
     "data": {
      "text/plain": [
       "0"
      ]
     },
     "execution_count": 160,
     "metadata": {},
     "output_type": "execute_result"
    }
   ],
   "source": [
    "# This can also be treated as a boolean since a property is either renovated or not. \n",
    "# Once again, most values = 0 (i.e. not renovated) so most likely can eliminate this as a predictor as well.\n",
    "\n",
    "# yr_renovated  : Fill nulls with most common value (0) and convert to boolean\n",
    "\n",
    "df['yr_renovated'].fillna(0.0, inplace=True)\n",
    "df['yr_renovated'].isna().sum()"
   ]
  },
  {
   "cell_type": "code",
   "execution_count": 176,
   "metadata": {},
   "outputs": [],
   "source": [
    "# Create new column 'is_renovated' (dtype:bool) \n",
    "# make all non-zero values = 1 (\"True\") \n",
    "\n",
    "\n",
    "df.loc[(df['yr_renovated'] != 0), 'is_renovated'] = 1\n",
    "df.loc[(df['yr_renovated'] == 0), 'is_renovated'] = 0"
   ]
  },
  {
   "cell_type": "code",
   "execution_count": 180,
   "metadata": {},
   "outputs": [
    {
     "data": {
      "text/plain": [
       "id\n",
       "7129300520    False\n",
       "6414100192     True\n",
       "5631500400    False\n",
       "2487200875    False\n",
       "1954400510    False\n",
       "Name: is_renovated, dtype: bool"
      ]
     },
     "execution_count": 180,
     "metadata": {},
     "output_type": "execute_result"
    }
   ],
   "source": [
    "df['is_renovated'] = df['is_renovated'].astype('bool')\n",
    "df['is_renovated'].head()"
   ]
  },
  {
   "cell_type": "markdown",
   "metadata": {},
   "source": [
    "#### ['view']"
   ]
  },
  {
   "cell_type": "code",
   "execution_count": 169,
   "metadata": {},
   "outputs": [
    {
     "name": "stdout",
     "output_type": "stream",
     "text": [
      "\n",
      "VIEW\n",
      "----\n",
      "Nulls\n",
      "0 out of 21597(0.0%)\n",
      "\n",
      "Unique Values:\n",
      " [0. 3. 4. 2. 1.]\n",
      "\n",
      "Non-Null Value Counts:\n",
      "0.0    19485\n",
      "2.0      957\n",
      "3.0      508\n",
      "1.0      330\n",
      "4.0      317\n",
      "Name: view, dtype: int64\n",
      "\n",
      "Quick Stats:\n",
      "mean      0.233181\n",
      "median    0.000000\n",
      "std       0.764673\n",
      "Name: view, dtype: float64\n"
     ]
    }
   ],
   "source": [
    "summarizer(df, 'view')"
   ]
  },
  {
   "cell_type": "code",
   "execution_count": 132,
   "metadata": {},
   "outputs": [
    {
     "data": {
      "text/plain": [
       "0"
      ]
     },
     "execution_count": 132,
     "metadata": {},
     "output_type": "execute_result"
    }
   ],
   "source": [
    "# 'view'\n",
    "#\n",
    "# Nearly all values for 'view' are 0 \n",
    "# For now we'll replace nulls with most common value (0) and convert data type to 'category'.\n",
    "\n",
    "df['view'].fillna(0, inplace=True)\n",
    "df['view'].isna().sum()"
   ]
  },
  {
   "cell_type": "code",
   "execution_count": 170,
   "metadata": {},
   "outputs": [
    {
     "data": {
      "text/plain": [
       "0.3934966693793814"
      ]
     },
     "execution_count": 170,
     "metadata": {},
     "output_type": "execute_result"
    }
   ],
   "source": [
    "# Quick correlation check with the target shows it's also not likely to be a good predictor variable anyway:\n",
    "df['view'].corr(df['price'])"
   ]
  },
  {
   "cell_type": "markdown",
   "metadata": {},
   "source": [
    "### ['sqft_basement']"
   ]
  },
  {
   "cell_type": "code",
   "execution_count": 172,
   "metadata": {},
   "outputs": [
    {
     "data": {
      "text/plain": [
       "0.0       12826\n",
       "?           454\n",
       "600.0       217\n",
       "500.0       209\n",
       "700.0       208\n",
       "          ...  \n",
       "1880.0        1\n",
       "2850.0        1\n",
       "2500.0        1\n",
       "1913.0        1\n",
       "666.0         1\n",
       "Name: sqft_basement, Length: 304, dtype: int64"
      ]
     },
     "execution_count": 172,
     "metadata": {},
     "output_type": "execute_result"
    }
   ],
   "source": [
    "#summarizer(df, 'sqft_basement')\n",
    "\n",
    "df['sqft_basement'].value_counts()"
   ]
  },
  {
   "cell_type": "markdown",
   "metadata": {},
   "source": [
    "## Numeric values stored as objects"
   ]
  },
  {
   "cell_type": "code",
   "execution_count": 93,
   "metadata": {
    "code_folding": [
     1
    ],
    "scrolled": false
   },
   "outputs": [],
   "source": [
    "# Check_column returns the datatype, null values and unique values of input series \n",
    "def check_column(series_feature, nlargest='all'):\n",
    "    \"\"\"\n",
    "    Takes a series from a dataframe (df[col]), \n",
    "    reports back info on unique values, nulls, .describe() stats.\n",
    "    \n",
    "    Args:\n",
    "    series (series (DataFrame column)): column to report    \n",
    "    \"\"\"\n",
    "    dashes = '---'*25\n",
    "    series=series_feature\n",
    "    \n",
    "    print(f\"Column: df['{series.name}']':\")\n",
    "    print(f\"dtype: {series.dtype}\")\n",
    "    \n",
    "    print(f\"isna: {series.isna().sum()} out of {len(series)} - {round(series.isna().sum()/len(series)*100,3)}%\")\n",
    "    print(f'\\nUnique non-na values:') #,df['waterfront'].unique())\n",
    "    if nlargest =='all':\n",
    "        print(series.value_counts())\n",
    "    else:\n",
    "        print(series.value_counts().nlargest(nlargest))\n",
    "    \n",
    "    print('\\nDescribe')\n",
    "    print(series.describe())\n",
    "    \n",
    "    if series.dtype != 'object':\n",
    "        sns.distplot(series)\n",
    "        plt.show()\n",
    "    else:\n",
    "        print(f\"\\n{[series.name]} is a string column and cannot be plotted\")\n",
    "\n",
    "#check_column(df['waterfront']) "
   ]
  },
  {
   "cell_type": "markdown",
   "metadata": {},
   "source": [
    "#### DATE : convert to datetime"
   ]
  },
  {
   "cell_type": "code",
   "execution_count": 12,
   "metadata": {},
   "outputs": [
    {
     "data": {
      "text/plain": [
       "id\n",
       "7129300520   2014-10-13\n",
       "6414100192   2014-12-09\n",
       "5631500400   2015-02-25\n",
       "Name: date, dtype: datetime64[ns]"
      ]
     },
     "execution_count": 12,
     "metadata": {},
     "output_type": "execute_result"
    }
   ],
   "source": [
    "#preview first to reduce errors\n",
    "pd.to_datetime(df['date']).head(3)"
   ]
  },
  {
   "cell_type": "code",
   "execution_count": 14,
   "metadata": {},
   "outputs": [],
   "source": [
    "df['date'] = pd.to_datetime(df['date'])"
   ]
  },
  {
   "cell_type": "markdown",
   "metadata": {},
   "source": [
    "#### SQFT_BASEMENT: convert to int"
   ]
  },
  {
   "cell_type": "markdown",
   "metadata": {},
   "source": [
    "#### Drop any unneeded columns"
   ]
  },
  {
   "cell_type": "code",
   "execution_count": null,
   "metadata": {
    "scrolled": false
   },
   "outputs": [],
   "source": [
    "#create copy of dataframe for dropped variables \n",
    "drop_cols =['id','lat','long','date']\n",
    "dropped_df = df[drop_cols].copy()\n",
    "# set id as index to match original df\n",
    "dropped_df.set_index('id')\n",
    "# safely drop the desired columns from orig dataset using: \n",
    "# df.drop(['col1','col2'],axis=1)\n",
    "df.drop(drop_cols,axis=1,inplace=True)"
   ]
  },
  {
   "cell_type": "markdown",
   "metadata": {},
   "source": [
    "#### Do a quick eyeball test of correlation using a heatmap:"
   ]
  },
  {
   "cell_type": "code",
   "execution_count": null,
   "metadata": {
    "scrolled": true
   },
   "outputs": [],
   "source": [
    "\n",
    "corr = df.corr()\n",
    "\n",
    "plt.figure(figsize=(20,20))\n",
    "sns.heatmap(data=corr.abs(), annot=True, cmap=sns.color_palette('Blues'))\n",
    "plt.show()"
   ]
  },
  {
   "cell_type": "code",
   "execution_count": null,
   "metadata": {
    "scrolled": false
   },
   "outputs": [],
   "source": [
    "# Subset dataframe into groups for easier viewing of data via individual subplots?\n",
    "\n",
    "pd.plotting.scatter_matrix(df, figsize=(20,20));"
   ]
  },
  {
   "cell_type": "code",
   "execution_count": null,
   "metadata": {
    "scrolled": true
   },
   "outputs": [],
   "source": [
    "def plot_reg(data, feature, target):\n",
    "    sns.regplot(x=feature, y=target, data=data)\n",
    "    plt.show()"
   ]
  },
  {
   "cell_type": "code",
   "execution_count": null,
   "metadata": {
    "scrolled": true
   },
   "outputs": [],
   "source": [
    "plot_reg(df, 'sqft_living', 'price')\n",
    "plot_reg(df, 'grade', 'price')\n",
    "plot_reg(df, 'condition', 'price')\n",
    "plot_reg(df, 'zipcode', 'price')"
   ]
  },
  {
   "cell_type": "markdown",
   "metadata": {},
   "source": [
    "##### Scrub 3: Multicollinearity\n",
    "\n",
    "**Q3: which predictors are closely related (and should be dropped)?**\n",
    "    + multicollinearity: one-hot dummy variables, data dropping\n",
    "    + remove variable having most corr with largest # of variables\n",
    "\n",
    "        * Checking for Multicollinearity\n",
    "        * use seaborn to make correlation matrix plot\n",
    "        * threshold >= 0.5 corr (rank correlations -- build custom function?) \n",
    "        * one-hot dummy variables, and data dropping\n"
   ]
  },
  {
   "cell_type": "code",
   "execution_count": null,
   "metadata": {},
   "outputs": [],
   "source": [
    "# create variables for each seris you want to pass into the xcols list and compare them against one\n",
    "y_sub = 'sqft_living'\n",
    "sqft_sub = ['sqft_living15','sqft_above', 'sqft_lot', 'sqft_lot15']\n",
    "\n",
    "def sub_scatter(xcols, y):\n",
    "    fig, axes = plt.subplots(nrows=1, ncols=4, figsize=(16,3))\n",
    "    for xcol, ax in zip(xcols, axes):\n",
    "        df.plot(kind='scatter', x=xcol, y=y, ax=ax, alpha=0.7, color='b')"
   ]
  },
  {
   "cell_type": "code",
   "execution_count": null,
   "metadata": {},
   "outputs": [],
   "source": [
    "sub_scatter(sqft_sub, y_sub)"
   ]
  },
  {
   "cell_type": "code",
   "execution_count": null,
   "metadata": {},
   "outputs": [],
   "source": [
    "# bathrooms: \n",
    "# sqft_living: 0.76\n",
    "    # sqft_above: 0.69\n",
    "    # grade: 0.67\n",
    "    # sqft_living15: 0.57\n",
    "# bedrooms: 0.51\n",
    "    # yr_built: 0.51\n",
    "# floors: 0.5\n",
    "y_sub = 'price'\n",
    "rm_sub = ['grade','condition', 'yr_built', 'view']\n",
    "\n",
    "sub_scatter(rm_sub, y_sub)"
   ]
  },
  {
   "cell_type": "code",
   "execution_count": null,
   "metadata": {},
   "outputs": [],
   "source": [
    "# bathrooms: \n",
    "# sqft_living: 0.76\n",
    "    # sqft_above: 0.69\n",
    "    # grade: 0.67\n",
    "    # sqft_living15: 0.57\n",
    "# bedrooms: 0.51\n",
    "    # yr_built: 0.51\n",
    "# floors: 0.5\n",
    "y_sub = 'sqft_living'\n",
    "rm_sub = ['bedrooms','bathrooms', 'floors', 'grade']\n",
    "\n",
    "sub_scatter(rm_sub, y_sub)"
   ]
  },
  {
   "cell_type": "code",
   "execution_count": null,
   "metadata": {},
   "outputs": [],
   "source": [
    "df['yr_renovated'].unique\n",
    "df['yr_renovated'].value_counts()\n",
    "df['yr_renovated'].isna().sum()\n",
    "df['yr_renovated'].describe()\n",
    "#RECAST AS CATEGORY\n",
    "cat_yr_renov = df['yr_renovated'].astype('category')"
   ]
  },
  {
   "cell_type": "code",
   "execution_count": null,
   "metadata": {},
   "outputs": [],
   "source": [
    "cat_yr_renov.cat.codes"
   ]
  },
  {
   "cell_type": "code",
   "execution_count": null,
   "metadata": {},
   "outputs": [],
   "source": [
    "from sklearn.preprocessing import LabelEncoder\n",
    "lb_make = LabelEncoder()\n",
    "yr_renov_coded = lb_make.fit_transform(cat_yr_renov)"
   ]
  },
  {
   "cell_type": "code",
   "execution_count": null,
   "metadata": {},
   "outputs": [],
   "source": [
    "yr_renov_coded"
   ]
  },
  {
   "cell_type": "code",
   "execution_count": null,
   "metadata": {
    "scrolled": false
   },
   "outputs": [],
   "source": [
    "# sqft_living, zipcode, and condition\n",
    "\n",
    "check_column(df['yr_renovated'])\n",
    "\n"
   ]
  },
  {
   "cell_type": "code",
   "execution_count": null,
   "metadata": {
    "code_folding": [],
    "scrolled": false
   },
   "outputs": [],
   "source": [
    "# Check columns returns the datatype, null values and unique values of input series \n",
    "def check_column(series_feature, series_target=None):#,max_unique=10):\n",
    "    \"\"\"Takes a series from a dataframe (df[col]), \n",
    "    reports back info on unique values, nulls, .describe() stats.\n",
    "    \n",
    "    \n",
    "    Args:\n",
    "        series (series (DataFrame column)): column to report    \n",
    "    \"\"\"\n",
    "    dashes = '---'*25\n",
    "    series=series_feature\n",
    "    \n",
    "    \n",
    "    \n",
    "    print(f'Unique Values for {series.name}')\n",
    "    print(dashes)\n",
    "    print(f\"series dtype is {series.dtype}\\n\")\n",
    "    \n",
    "    #Value Counts\n",
    "    display(series.value_counts())#[:max_unique])\n",
    "    print(dashes)\n",
    " \n",
    "    print('\\n\\tDescribe')\n",
    "    print(series.describe())\n",
    "    \n",
    "    if series.dtype != 'object':\n",
    "        sns.distplot(series)\n",
    "        plt.show()\n",
    "    else:\n",
    "        print(f\"{series.name} is a string column and cannot be plotted\")\n",
    "\n",
    "    if series_target is not None:\n",
    "        \n",
    "        # Add your scatterplot here\n",
    "        df.hist(figsize=(20,20));"
   ]
  },
  {
   "cell_type": "markdown",
   "metadata": {},
   "source": [
    "## Categorical Variables"
   ]
  },
  {
   "cell_type": "code",
   "execution_count": null,
   "metadata": {
    "scrolled": true
   },
   "outputs": [],
   "source": [
    "check_column(df['sqft_living'], series_target=df['price'])"
   ]
  },
  {
   "cell_type": "code",
   "execution_count": null,
   "metadata": {
    "code_folding": [
     0
    ],
    "run_control": {
     "marked": false
    },
    "scrolled": false
   },
   "outputs": [],
   "source": [
    "# MULTIPLOT\n",
    "from string import ascii_letters\n",
    "import numpy as np\n",
    "import pandas as pd\n",
    "import seaborn as sns\n",
    "import matplotlib.pyplot as plt\n",
    "\n",
    "def multiplot(df):\n",
    "\n",
    "    sns.set(style=\"white\")\n",
    "\n",
    "    # Compute the correlation matrix\n",
    "    corr = df.corr()\n",
    "    # Generate a mask for the upper triangle\n",
    "    mask = np.zeros_like(corr, dtype=np.bool)\n",
    "    mask[np.triu_indices_from(mask)] = True\n",
    "\n",
    "    # Set up the matplotlib figure\n",
    "    f, ax = plt.subplots(figsize=(16, 16))\n",
    "\n",
    "    # Generate a custom diverging colormap\n",
    "    cmap = sns.diverging_palette(220, 10, as_cmap=True)\n",
    "\n",
    "    # Draw the heatmap with the mask and correct aspect ratio\n",
    "    sns.heatmap(corr, mask=mask, annot=True, cmap=cmap, center=0,\n",
    "                \n",
    "    square=True, linewidths=.5, cbar_kws={\"shrink\": .5}) #\n",
    "    \n",
    "# multiplot(df)"
   ]
  },
  {
   "cell_type": "code",
   "execution_count": null,
   "metadata": {
    "scrolled": false
   },
   "outputs": [],
   "source": [
    "# Pos Corr with Target (Price):\n",
    "    # sqft_living: 0.7\n",
    "        # grade: 0.67\n",
    "        # sqft_above: 0.61\n",
    "        # sqft_living15: 0.59\n",
    "        # bathrooms: 0.53 "
   ]
  },
  {
   "cell_type": "code",
   "execution_count": null,
   "metadata": {
    "scrolled": false
   },
   "outputs": [],
   "source": [
    "# Multicollinearity\n",
    "\n",
    "# bathrooms: \n",
    "    # sqft_living: 0.76\n",
    "    # sqft_above: 0.69\n",
    "    # grade: 0.67\n",
    "    # sqft_living15: 0.57\n",
    "    # bedrooms: 0.51\n",
    "    # yr_built: 0.51\n",
    "    # floors: 0.5\n",
    "\n",
    "# sqft_living:\n",
    "    # sqft_above: 0.88\n",
    "    # sqft_living15: 0.76\n",
    "    # grade: 0.76\n",
    "    # bathrooms: 0.76\n",
    "    # bedrooms: 0.58\n",
    "\n",
    "# Grade\n",
    "    #sqft_living: 0.76\n",
    "    #sqft_above:  0.76\n",
    "    #sqft_living15: 0.71\n",
    "    #bathrooms: 0.67\n",
    "\n",
    "# sqft_above: \n",
    "    # sqft_living: 0.88\n",
    "    # sqft_living15: 0.73\n",
    "    # floors: 0.52\n",
    "    # grade: 0.76\n",
    "        "
   ]
  },
  {
   "cell_type": "code",
   "execution_count": null,
   "metadata": {
    "scrolled": true
   },
   "outputs": [],
   "source": [
    "fig = plot_hist_scat(df)"
   ]
  },
  {
   "cell_type": "code",
   "execution_count": null,
   "metadata": {
    "scrolled": false
   },
   "outputs": [],
   "source": [
    "\n",
    "# sqft_basement : majority of values are 0 (assuming this means there is no basement)\n",
    "# Also has a decent number of NaNs ('?'). \n",
    "# We can likely drop the entire column due to lack of data and lack of significance (corr, normality, etc)\n",
    "\n",
    "check_column(series=df['sqft_basement'])"
   ]
  },
  {
   "cell_type": "markdown",
   "metadata": {},
   "source": [
    "### Categorical (Discrete) Variables:\n",
    "a variable that can only take a finite (or countably infinite) value within a range.\n",
    "\n",
    "---\n",
    "All 3 have high corr with sqft_living but also show multicollinearity\n",
    "* bathrooms --> highest corr with price of these 3\n",
    "* bedrooms\n",
    "* floors\n",
    "---\n",
    "* waterfront --> transform to Boolean 1/0\n",
    "* yr_renovated --> transform to boolean (yr_renovated=1 or 0)\n",
    "---\n",
    "High heteroskedacicity (indicating year built has no relationship with price)\n",
    "* yr_built --> transform to bins/coarsing? submodel on correlation with yr_renovated? \n",
    "---\n",
    "* **condition** \n",
    "* grade --> has high corr with price but also high corr with sqft_living (so have to pick one)\n",
    "* view --> need to investigate to get a better understanding of what this represents / possible significance\n",
    "---\n",
    "* **zipcode** --> need to assign Code; create geoplot\n",
    "* lat --> do these corr with zipcode (can we drop them?)\n",
    "* long\n",
    "---\n",
    "* date --> transform to date time -> possible binning/coarsing to check rel. with market values if signif?\n",
    "\n",
    "### Continuous Variables:\n",
    "a continuous variable can take on any value within a range\n",
    "\n",
    "* **sqft_living** --> highest corr : price (before transformation/scaling); most normal distribution\n",
    "* sqft_lot --> not normal distribution\n",
    "* sqft_living15 #Highly skewed\n",
    "* sqft_lot15 #Highly skewed\n",
    "* sqft_above #High corr with sqft_living\n",
    "* sqft_basement #Very high number of null values --> treat '0' = no basement?"
   ]
  },
  {
   "cell_type": "code",
   "execution_count": null,
   "metadata": {
    "scrolled": false
   },
   "outputs": [],
   "source": [
    "df['bedrooms'].unique()\n",
    "#array([ 3,  2,  4,  5,  1,  6,  7,  8,  9, 11, 10, 33])\n",
    "\n",
    "df['bathrooms'].unique()\n",
    " # array([1.  , 2.25, 3.  , 2.  , 4.5 , 1.5 , 2.5 , 1.75, 2.75, 3.25, 4.  ,\n",
    "   #    3.5 , 0.75, 4.75, 5.  , 4.25, 3.75, 1.25, 5.25, 6.  , 0.5 , 5.5 ,\n",
    "   #    6.75, 5.75, 8.  , 7.5 , 7.75, 6.25, 6.5 ])\n",
    "    \n",
    "# Floors:\n",
    "\"\"\"\n",
    "1.0    10673\n",
    "2.0     8235\n",
    "1.5     1910\n",
    "3.0      611\n",
    "2.5      161\n",
    "3.5        7\n",
    "\"\"\""
   ]
  },
  {
   "cell_type": "code",
   "execution_count": null,
   "metadata": {
    "scrolled": false
   },
   "outputs": [],
   "source": [
    "# Recast appropriate columns as category\n",
    "df['zipcode'] = df['zipcode'].astype('category')\n",
    "# Recast condition as a category\n",
    "df['condition'] = df['condition'].astype('category')\n",
    "# Recast grade as a category\n",
    "df['grade'] = df['grade'].astype('category')"
   ]
  },
  {
   "cell_type": "code",
   "execution_count": null,
   "metadata": {
    "scrolled": false
   },
   "outputs": [],
   "source": [
    "# Housing prices can be affected by market swings, which would be relevant\n",
    "# to this data set if prices differed significantly between years as that would\n",
    "# skew the results.\n",
    "\n",
    "# For now, we'll convert 'date' to datetime object (possibly drop later if it's irrelevant)\n",
    "# df['date'] = pd.to_datetime(df['date'], format='%m/%d/%Y')\n",
    "# df['date'].head()"
   ]
  },
  {
   "cell_type": "markdown",
   "metadata": {},
   "source": [
    "# EXPLORE:\n",
    "    Check distributions, outliers, etc\n",
    "[ ] Check scales, ranges (df.describe())\n",
    "[x] Check histograms to get an idea of distributions (df.hist()) and dat transformations to perform\n",
    "Can also do kernel density estimates\n",
    "[x] Use scatterplots to check for linearity and possible categorical variables (df.plot(kind-'scatter')\n",
    "categoricals will look like vertical lines\n",
    "[x] Use pd.plotting.scatter_matrix to visualize possible relationships\n",
    "[x] Check for linearity"
   ]
  },
  {
   "cell_type": "markdown",
   "metadata": {},
   "source": [
    "## DATE"
   ]
  },
  {
   "cell_type": "code",
   "execution_count": 17,
   "metadata": {},
   "outputs": [
    {
     "name": "stdout",
     "output_type": "stream",
     "text": [
      "2014-05-02 00:00:00\n",
      "2015-05-27 00:00:00\n"
     ]
    }
   ],
   "source": [
    "# group data by dates/months/years to explore comparison in market fluctuations\n",
    "\n",
    "print(df.date.min())\n",
    "print(df.date.max())\n",
    "\n",
    "# Our dataset contains values spanning two years: beginning May 2014 to end of May 2015"
   ]
  },
  {
   "cell_type": "code",
   "execution_count": 21,
   "metadata": {},
   "outputs": [
    {
     "data": {
      "text/plain": [
       "2014    0.677038\n",
       "2015    0.322962\n",
       "Name: date, dtype: float64"
      ]
     },
     "execution_count": 21,
     "metadata": {},
     "output_type": "execute_result"
    }
   ],
   "source": [
    "df.date.dt.year.value_counts(normalize=True)\n",
    "# 2014    14622\n",
    "# 2015     6975\n",
    "# The majority of our data (67%) is from 2014"
   ]
  },
  {
   "cell_type": "code",
   "execution_count": 22,
   "metadata": {},
   "outputs": [
    {
     "data": {
      "text/plain": [
       "5     2414\n",
       "4     2229\n",
       "7     2211\n",
       "6     2178\n",
       "8     1939\n",
       "10    1876\n",
       "3     1875\n",
       "9     1771\n",
       "12    1470\n",
       "11    1409\n",
       "2     1247\n",
       "1      978\n",
       "Name: date, dtype: int64"
      ]
     },
     "execution_count": 22,
     "metadata": {},
     "output_type": "execute_result"
    }
   ],
   "source": [
    "df.date.dt.month.value_counts()"
   ]
  },
  {
   "cell_type": "markdown",
   "metadata": {},
   "source": [
    "### Impact of date (month or year) on price\n",
    "Question: are housing prices lower or higher in certain months (better to buy)?"
   ]
  },
  {
   "cell_type": "code",
   "execution_count": 40,
   "metadata": {},
   "outputs": [],
   "source": [
    "# create new columns for year and month\n",
    "df['year'] = df['date'].dt.year\n",
    "df['month'] = df['date'].dt.month"
   ]
  },
  {
   "cell_type": "code",
   "execution_count": 46,
   "metadata": {},
   "outputs": [
    {
     "data": {
      "text/plain": [
       "array([[1.        , 0.00372714],\n",
       "       [0.00372714, 1.        ]])"
      ]
     },
     "execution_count": 46,
     "metadata": {},
     "output_type": "execute_result"
    }
   ],
   "source": [
    "# There does not appear to be any correlation whatsoever with \n",
    "weights = np.linspace(0,1)\n",
    "np.corrcoef(df['month'], df['price'])\n",
    "np.corrcoef(df['year'], df['price'])"
   ]
  },
  {
   "cell_type": "code",
   "execution_count": 47,
   "metadata": {},
   "outputs": [
    {
     "data": {
      "text/plain": [
       "5     0.111775\n",
       "4     0.103209\n",
       "7     0.102375\n",
       "6     0.100847\n",
       "8     0.089781\n",
       "10    0.086864\n",
       "3     0.086818\n",
       "9     0.082002\n",
       "12    0.068065\n",
       "11    0.065241\n",
       "2     0.057740\n",
       "1     0.045284\n",
       "Name: month, dtype: float64"
      ]
     },
     "execution_count": 47,
     "metadata": {},
     "output_type": "execute_result"
    }
   ],
   "source": [
    "df.month.value_counts(normalize=True)"
   ]
  },
  {
   "cell_type": "code",
   "execution_count": 43,
   "metadata": {},
   "outputs": [
    {
     "data": {
      "image/png": "[encoded data removed]",
      "text/plain": [
       "<Figure size 1152x216 with 2 Axes>"
      ]
     },
     "metadata": {},
     "output_type": "display_data"
    }
   ],
   "source": [
    "# create variables for each series you want to pass into the xcols list and compare them against one\n",
    "y_sub = 'price'\n",
    "date_sub = ['year','month']\n",
    "\n",
    "def sub_scatter(xcols, y):\n",
    "    fig, axes = plt.subplots(nrows=1, ncols=2, figsize=(16,3))\n",
    "    for xcol, ax in zip(xcols, axes):\n",
    "        df.plot(kind='scatter', x=xcol, y=y, ax=ax, alpha=0.7, color='b')\n",
    "\n",
    "sub_scatter(date_sub, y_sub)"
   ]
  },
  {
   "cell_type": "code",
   "execution_count": null,
   "metadata": {
    "scrolled": true
   },
   "outputs": [],
   "source": [
    "# 1\n",
    "# Visualize linearity with a pairplot (seaborn)\n",
    "# Attempt to add a line of best fit and 95% confidence band. Aim to minimize sum of squared error.\n",
    "\n",
    "#sns.pairplot(df, X, y, kind='reg')\n",
    "\n",
    "def pairplot_loop(df=df, y='price', reg=True):\n",
    "    for col in df:\n",
    "        #col_corr = col.corr().abs()\n",
    "        sns.pairplot(df, col, y, kind='reg')\n",
    "        #if col_corr > 0.5:\n",
    "            #print('Correlation coefficient is: {0}'.format(col_corr))\n",
    "pairplot_loop(df, df.columns, y='price', reg=True)            \n",
    "# sns.pairplot(df, X, y, kind='reg')"
   ]
  },
  {
   "cell_type": "code",
   "execution_count": null,
   "metadata": {
    "code_folding": [
     5
    ],
    "scrolled": false
   },
   "outputs": [],
   "source": [
    "#SEABORN\n",
    "import matplotlib.ticker as mtick\n",
    "import matplotlib.pyplot as plt\n",
    "\n",
    "# Plots histogram and scatter (vs price) side by side\n",
    "def plot_hist_scat_sns(df,target='price'):\n",
    "    #plt.style.use('dark_background')\n",
    "\n",
    "    \n",
    "    ## ----------- DEFINE AESTHETIC CUSTOMIZATIONS ----------- ##\n",
    "    # Axis Label fonts\n",
    "    fontTitle = {'fontsize': 16,\n",
    "               'fontweight': 'bold',\n",
    "                'fontfamily':'serif'}\n",
    "\n",
    "    fontAxis = {'fontsize': 14,\n",
    "               'fontweight': 'bold',\n",
    "                'fontfamily':'serif'}\n",
    "\n",
    "    fontTicks = {'fontsize': 12,\n",
    "               'fontweight':'bold',\n",
    "                'fontfamily':'serif'}\n",
    "\n",
    "    # Formatting dollar sign labels\n",
    "    fmtPrice = '${x:,.0f}'\n",
    "    tickPrice = mtick.StrMethodFormatter(fmtPrice)\n",
    "    \n",
    "\n",
    "    ## ----------- PLOTTING ----------- ##\n",
    "    \n",
    "    ## Loop through dataframe to plot\n",
    "    for column in df.describe():\n",
    "    \n",
    "        # Create figure with subplots for current column\n",
    "        # Note: in order to use identical syntax for large # of subplots (ax[i,j]), \n",
    "        #  declare an extra row of subplots to be removed later\n",
    "        fig, ax = plt.subplots(figsize=(12,10), ncols=2, nrows=2)\n",
    "\n",
    "        ## ----- SUBPLOT 1 -----##\n",
    "        i,j = 0,0\n",
    "        ax[i,j].set_title(column.capitalize(),fontdict=fontTitle)\n",
    "        \n",
    "        # Define graphing keyword dictionaries for distplot (Subplot 1)\n",
    "        hist_kws = {\"linewidth\": 1, \"alpha\": 1, \"color\": 'blue','edgecolor':'w'}\n",
    "        kde_kws = {\"color\": \"white\", \"linewidth\": 1, \"label\": \"KDE\"}\n",
    "        \n",
    "        # Plot distplot on ax[i,j] using hist_kws and kde_kws\n",
    "        sns.distplot(df[column], norm_hist=True, kde=True,\n",
    "                     hist_kws = hist_kws, kde_kws = kde_kws,\n",
    "                     label=column+' histogram', ax=ax[i,j])\n",
    " \n",
    "\n",
    "        # Set x axis label\n",
    "        ax[i,j].set_xlabel(column.title(),fontdict=fontAxis)\n",
    "    \n",
    "        # Get x-ticks, rotate labels, and return\n",
    "        xticklab1 = ax[i,j].get_xticklabels(which = 'both')\n",
    "        ax[i,j].set_xticklabels(labels=xticklab1, fontdict=fontTicks, rotation=45)\n",
    "        ax[i,j].xaxis.set_major_formatter(mtick.ScalarFormatter())\n",
    "\n",
    "        \n",
    "        # Set y-label \n",
    "        ax[i,j].set_ylabel('Density',fontdict=fontAxis)\n",
    "        yticklab1=ax[i,j].get_yticklabels(which='both')\n",
    "        ax[i,j].set_yticklabels(labels=yticklab1,fontdict=fontTicks)\n",
    "        ax[i,j].yaxis.set_major_formatter(mtick.ScalarFormatter())\n",
    "        \n",
    "        \n",
    "        # Set y-grid\n",
    "        ax[i, j].set_axisbelow(True)\n",
    "        ax[i, j].grid(axis='y',ls='--')\n",
    "\n",
    "        \n",
    "        ## ----- SUBPLOT 2-----  ##\n",
    "        i,j = 0,1\n",
    "        ax[i,j].set_title(column.capitalize(),fontdict=fontTitle)\n",
    "\n",
    "        # Define the ketword dictionaries for  scatter plot and regression line (subplot 2)\n",
    "        line_kws={\"color\":\"white\",\"alpha\":0.5,\"lw\":4,\"ls\":\":\"}\n",
    "        scatter_kws={'s': 2, 'alpha': 0.5,'marker':'.','color':'blue'}\n",
    "\n",
    "        # Plot regplot on ax[i,j] using line_kws and scatter_kws\n",
    "        sns.regplot(df[column], df[target], \n",
    "                    line_kws = line_kws,\n",
    "                    scatter_kws = scatter_kws,\n",
    "                    ax=ax[i,j])\n",
    "        \n",
    "        # Set x-axis label\n",
    "        ax[i,j].set_xlabel(column.title(),fontdict=fontAxis)\n",
    "\n",
    "         # Get x ticks, rotate labels, and return\n",
    "        xticklab2=ax[i,j].get_xticklabels(which='both')\n",
    "        ax[i,j].set_xticklabels(labels=xticklab2,fontdict=fontTicks, rotation=45)\n",
    "        ax[i,j].xaxis.set_major_formatter(mtick.ScalarFormatter())\n",
    "\n",
    "        # Set  y-axis label\n",
    "        ax[i,j].set_ylabel('Price',fontdict=fontAxis)\n",
    "        \n",
    "        # Get, set, and format y-axis Price labels\n",
    "        yticklab = ax[i,j].get_yticklabels()\n",
    "        ax[i,j].set_yticklabels(yticklab,fontdict=fontTicks)\n",
    "        ax[i,j].get_yaxis().set_major_formatter(tickPrice) \n",
    "\n",
    "        # Set y-grid\n",
    "        ax[i, j].set_axisbelow(True)\n",
    "        ax[i, j].grid(axis='y',ls='--')       \n",
    "        \n",
    "        ## ---------- Final layout adjustments ----------- ##\n",
    "        # Deleted unused subplots \n",
    "        fig.delaxes(ax[1,1])\n",
    "        fig.delaxes(ax[1,0])\n",
    "\n",
    "        # Optimizing spatial layout\n",
    "        fig.tight_layout()\n",
    "        figtitle=column+'_dist_regr_plots.png'\n",
    "        #plt.savefig(fig_filepath+figtitle)\n",
    "    return"
   ]
  },
  {
   "cell_type": "code",
   "execution_count": null,
   "metadata": {
    "scrolled": true
   },
   "outputs": [],
   "source": [
    "# Side by side plot of Histograms and Scatterplots for each variable vs price:\n",
    "\n",
    "fig = plot_hist_scat_sns(df,target='price')"
   ]
  },
  {
   "cell_type": "markdown",
   "metadata": {},
   "source": [
    "## Outliers"
   ]
  },
  {
   "cell_type": "code",
   "execution_count": null,
   "metadata": {
    "code_folding": [
     4
    ],
    "scrolled": false
   },
   "outputs": [],
   "source": [
    "# Tukey's method using IQR to eliminate \n",
    "def detect_outliers(df, n, features):\n",
    "    outlier_indices = []\n",
    "    # iterate over features(columns)\n",
    "    for col in features:\n",
    "        # 1st quartile (25%)\n",
    "        Q1 = np.percentile(df[col], 25)\n",
    "        # 3rd quartile (75%)\n",
    "        Q3 = np.percentile(df[col],75)\n",
    "        # Interquartile range (IQR)\n",
    "        IQR = Q3 - Q1\n",
    "        # outlier step\n",
    "        outlier_step = 1.5 * IQR\n",
    "        # Determine a list of indices of outliers for feature col\n",
    "        outlier_list_col = df[(df[col] < Q1 - outlier_step) | (df[col] > Q3 + outlier_step )].index\n",
    "        # append the found outlier indices for col to the list of outlier indices \n",
    "        outlier_indices.extend(outlier_list_col)\n",
    "        # select observations containing more than 2 outliers\n",
    "        outlier_indices = Counter(outlier_indices)        \n",
    "        multiple_outliers = list(k for k, v in outlier_indices.items() if v > n)\n",
    "        return multiple_outliers \n",
    "# Outliers_to_drop = detect_outliers(data,2,[\"col1\",\"col2\"])\n",
    "# df.loc[Outliers_to_drop] # Show the outliers rows\n",
    "# Drop outliers\n",
    "# data= data.drop(Outliers_to_drop, axis = 0).reset_index(drop=True)"
   ]
  },
  {
   "cell_type": "code",
   "execution_count": null,
   "metadata": {
    "scrolled": false
   },
   "outputs": [],
   "source": [
    "features = df.columns\n",
    "#['condition', 'grade','zipcode','sqft_living', 'bathrooms']\n",
    "outliers_to_drop = detect_outliers(df, 2, features)\n",
    "df.loc[outliers_to_drop]\n"
   ]
  },
  {
   "cell_type": "code",
   "execution_count": null,
   "metadata": {
    "scrolled": false
   },
   "outputs": [],
   "source": [
    "outliers_to_drop"
   ]
  },
  {
   "cell_type": "markdown",
   "metadata": {},
   "source": [
    "# FIT AN INITIAL MODEL:\n",
    "Various forms, detail later...\n",
    "Assessing the model:\n",
    "Assess parameters (slope,intercept)\n",
    "Check if the model explains the variation in the data (RMSE, F, R_square)\n",
    "Are the coeffs, slopes, intercepts in appropriate units?\n",
    "Whats the impact of collinearity? Can we ignore?\n",
    "Revise the fitted model\n",
    "Multicollinearity is big issue for lin regression and cannot fully remove it\n",
    "Use the predictive ability of model to test it (like R2 and RMSE)\n",
    "Check for missed non-linearity\n",
    "Holdout validation / Train/test split\n",
    "use sklearn train_test_split"
   ]
  },
  {
   "cell_type": "code",
   "execution_count": null,
   "metadata": {
    "code_folding": [
     1
    ],
    "scrolled": false
   },
   "outputs": [],
   "source": [
    "# Plots histogram and scatter (vs price) side by side\n",
    "def plot_hist_scat(df,target='price',stats=False):\n",
    "#     plt.style.use('bmh')\n",
    "    plt.style.use('fivethirtyeight')\n",
    "    \n",
    "#     fontTitle = {'family': 'serif',\n",
    "#             'color':  'black',\n",
    "#             'weight': 'normal',\n",
    "#             'size': 16,\n",
    "#             }\n",
    "#     fontTicks = {'family': 'sans-serif',\n",
    "#             'color':  'black',\n",
    "#             'weight': 'normal',\n",
    "#             'size': 10,\n",
    "#             }\n",
    "    results = [['column','K_square','p-val']]\n",
    "\n",
    "    for column in df.describe():\n",
    "\n",
    "        fig = plt.figure(figsize=(8,3) )#plt.figaspect(0.5))#(5,4))\n",
    "        \n",
    "        ax1 = fig.add_subplot(121)\n",
    "        ax1.hist(df[column],density=True,label = column+' histogram',bins=20)\n",
    "        ax1.set_title(column.capitalize())\n",
    "\n",
    "        ax1.legend()\n",
    "        \n",
    "        ax2 = fig.add_subplot(122)\n",
    "        ax2.scatter(x=df[column], y=df[target],label = column+' vs price',marker='.')\n",
    "        ax2.set_title(column.capitalize())\n",
    "        ax2.legend()\n",
    "\n",
    "        fig.tight_layout()\n",
    "        if stats==True:\n",
    "            stat, p = normtest(df[column])\n",
    "#             print(f'Normality test for {column}:K_square = {stat}, p-value = {p}')\n",
    "\n",
    "            results.append([column,stat, p])\n",
    "    return pd.DataFrame(results)"
   ]
  },
  {
   "cell_type": "code",
   "execution_count": null,
   "metadata": {
    "scrolled": false
   },
   "outputs": [],
   "source": [
    "# 2\n",
    "# SK Learn - X is a feature matrix in Pandas Dataframe.\n",
    "# Y is a response vector (Pandas series)\n",
    "# Separate variables\n",
    "\n",
    "feature_cols = ['sqft_living','condition','zipcode']\n",
    "X = df[feature_cols]\n",
    "y = df['price']"
   ]
  },
  {
   "cell_type": "code",
   "execution_count": null,
   "metadata": {
    "scrolled": false
   },
   "outputs": [],
   "source": [
    "# 3\n",
    "# Splitting X & y into training and testing sets\n",
    "# By passing X and y variables into the train_test_split method,\n",
    "# we can capture the splits in data by assigning 4 variables to the result:\n",
    "\n",
    "# Import SK Learn train test split\n",
    "import sklearn\n",
    "from sklearn.cross_validation import train_test_split\n",
    "\n",
    "# Assign variables to capture train test split output\n",
    "X_train, X_test, y_train, y_test = train_test_split(X, y)\n",
    "\n"
   ]
  },
  {
   "cell_type": "code",
   "execution_count": null,
   "metadata": {
    "scrolled": false
   },
   "outputs": [],
   "source": [
    "# 4 Train the model\n",
    "\n",
    "# Import sklearn.linear_model to access LinearRegression \n",
    "from sklearn.linear_model import LinearRegression\n",
    "\n",
    "# instantiate and model fit to training data\n",
    "linreg = LinearRegression()\n",
    "\n",
    "# fit model to training data (learn coefficients)\n",
    "linreg.fit(X_train, y_train)"
   ]
  },
  {
   "cell_type": "code",
   "execution_count": null,
   "metadata": {
    "scrolled": false
   },
   "outputs": [],
   "source": [
    "# 5\n",
    "# Interpreting Coefficients\n",
    "# The coefficients will allow us to model our equation with values for our beta's. \n",
    "# The linreg variable (assigned to a LinearRegression object) extracts the intercept and coefficients\n",
    "\n",
    "# Print y-intercept\n",
    "print(linreg.intercept_)\n",
    "\n",
    "# Print beta coefficients in same order as passed\n",
    "print(linreg.coef_)\n",
    "\n",
    "# Pair the feature names and coeffiecients together\n",
    "zip(feature_cols, linreg.coef_)\n",
    "\n",
    "# The intercept is the B0 value; \n",
    "# Each coef is corresponding Beta for the X's passed in, respective order\n"
   ]
  },
  {
   "cell_type": "code",
   "execution_count": null,
   "metadata": {
    "scrolled": false
   },
   "outputs": [],
   "source": [
    "# 6 \n",
    "# Making predictions based on the model:\n",
    "# Pass the predict method to test data\n",
    "# Return prediced values of y given new test X data\n",
    "\n",
    "y_pred = linreg.predict(X_test)"
   ]
  },
  {
   "cell_type": "code",
   "execution_count": null,
   "metadata": {
    "scrolled": false
   },
   "outputs": [],
   "source": [
    "# 7 \n",
    "# Primary metrics for evaluating linear models:\n",
    "# Mean absolute error (MAE) : easiest to understand, represents average error\n",
    "# Mean Squared Error (MSE) : similar to MAE but noise is exaggerated and larger errors are \"punished\"\n",
    "# Root mean squared error (RMSE) : similar to MSE but easier to interpret bc uses base units. Primary metric*\n",
    "\n",
    "# Each of the above requires two lists as parameters: predicted values and true values\n",
    "\n",
    "# Import metrics library\n",
    "from sklearn import metrics\n",
    "\n",
    "# Print result of MAE:\n",
    "print(metrics.mean_absolute_error(y_test, y_pred))\n",
    "\n",
    "# Print resultof MSE:\n",
    "print(metrics.mean_squared_error(y_true, y_pred))\n",
    "\n",
    "# Print result of RMSE:\n",
    "print(np.sqrt(metrics.mean_squared_error(y_true, y_pred)))\n"
   ]
  },
  {
   "cell_type": "code",
   "execution_count": null,
   "metadata": {
    "scrolled": false
   },
   "outputs": [],
   "source": [
    "# 8\n",
    "# Feature Selection\n",
    "# Note which X's have minimal impact on y. Remove these to make model more accurate\n",
    "\n",
    "# Replace feature_cols & X\n",
    "# Train_test_split data\n",
    "# Fit model to linreg again using linreg.fit\n",
    "# Make predictions using (y_pred = linreg.predict(X_test))\n",
    "# Compute RMSE\n",
    "# Repeat until RMSE satisfactory"
   ]
  },
  {
   "cell_type": "code",
   "execution_count": null,
   "metadata": {
    "code_folding": [
     6
    ],
    "scrolled": false
   },
   "outputs": [],
   "source": [
    "# Choose a linear model by forward selection\n",
    "# The function below optimizes adjusted R-squared by adding features that help the most one at a time\n",
    "# until the score goes down or you run out of features.\n",
    "\n",
    "import statsmodels.formula.api as smf\n",
    "\n",
    "def forward_selected(data, response):\n",
    "    \"\"\"Linear model designed by forward selection.\n",
    "\n",
    "    Parameters:\n",
    "    -----------\n",
    "    data : pandas DataFrame with all possible predictors and response\n",
    "\n",
    "    response: string, name of response column in data\n",
    "\n",
    "    Returns:\n",
    "    --------\n",
    "    model: an \"optimal\" fitted statsmodels linear model\n",
    "           with an intercept\n",
    "           selected by forward selection\n",
    "           evaluated by adjusted R-squared\n",
    "    \"\"\"\n",
    "    remaining = set(data.columns)\n",
    "    remaining.remove(response)\n",
    "    selected = []\n",
    "    current_score, best_new_score = 0.0, 0.0\n",
    "    while remaining and current_score == best_new_score:\n",
    "        scores_with_candidates = []\n",
    "        for candidate in remaining:\n",
    "            formula = \"{} ~ {} + 1\".format(response,\n",
    "                                           ' + '.join(selected + [candidate]))\n",
    "            score = smf.ols(formula, data).fit().rsquared_adj\n",
    "            scores_with_candidates.append((score, candidate))\n",
    "        scores_with_candidates.sort()\n",
    "        best_new_score, best_candidate = scores_with_candidates.pop()\n",
    "        if current_score < best_new_score:\n",
    "            remaining.remove(best_candidate)\n",
    "            selected.append(best_candidate)\n",
    "            current_score = best_new_score\n",
    "    formula = \"{} ~ {} + 1\".format(response,\n",
    "                                   ' + '.join(selected))\n",
    "    model = smf.ols(formula, data).fit()\n",
    "    return model"
   ]
  },
  {
   "cell_type": "code",
   "execution_count": null,
   "metadata": {
    "scrolled": false
   },
   "outputs": [],
   "source": [
    "model = forward_selected(df, 'price')\n",
    "print(model.model.formula)\n",
    "print(model.rsquared_adj)\n"
   ]
  },
  {
   "cell_type": "markdown",
   "metadata": {},
   "source": [
    "Explaining/Phrasing R-Squared values\n",
    "An obtained R-squared value of say 0.85 can be put into a statement as\n",
    "\n",
    "85% of the variations in dependent variable  𝑦  are explained by the independent variable in our model."
   ]
  },
  {
   "cell_type": "markdown",
   "metadata": {},
   "source": [
    "# Visualizations"
   ]
  },
  {
   "cell_type": "markdown",
   "metadata": {},
   "source": [
    "##### TABLEAU HOW TO (temp)\n",
    "Short how-to plot geo data in Tableau:\n",
    "Load in your .csv dataset from your project.\n",
    "Let it use data interpreter. It should identify zipcode as a location.\n",
    "On your worksheet page:\n",
    "For plotting each price for each house:\n",
    "Drag the Measures Lat and Long onto the rows and columns boxes (top of sheet)\n",
    "Drag the Measure price onto the Color Button under Marks.\n",
    "It should now be listed at the bottom of the Marks panel.\n",
    "Right-click and select \"Dimension\"\n",
    "For plotting median income by zipcode:\n",
    "Drag zipcode form the Dimensions panel onto the main graph window.\n",
    "It will automatically load in map of location.\n",
    "Drag price onto the color button (it will now appear in the Marks window)\n",
    "Rich click on Price. Select \"Measure\" > Median\n",
    "Customize map features by selecting \"Map\" > Map Layers on the Menu Bar.\n"
   ]
  },
  {
   "cell_type": "code",
   "execution_count": null,
   "metadata": {
    "scrolled": false
   },
   "outputs": [],
   "source": [
    "# https://www.youtube.com/watch?v=upBvuTqOy9k&feature=youtu.be\n",
    "\n",
    "import plotly\n",
    "plotly.offline.init_notebook_mode(connected=True)\n",
    "\n",
    "import pandas as pd\n",
    "import numpy as np\n",
    "\n",
    "import plotly\n",
    "plotly.offline.init_notebook_mode(connected=True)\n",
    "import plotly.graph_objs as go\n",
    "\n",
    "from plotly.offline import download_plotlyjs, init_notebook_mode, plot, iplot\n",
    "\n",
    "init_notebook_mode(connected=True)"
   ]
  },
  {
   "cell_type": "code",
   "execution_count": null,
   "metadata": {
    "scrolled": false
   },
   "outputs": [],
   "source": []
  },
  {
   "cell_type": "code",
   "execution_count": null,
   "metadata": {
    "scrolled": false
   },
   "outputs": [],
   "source": [
    "data = go.Scatter(x=[1,2,3,4], y=[3,6,8,9], name='Blue')\n",
    "layout = go.Layout(title='Random Scatter')\n",
    "\n",
    "fig = go.Figure(data=data, layout=layout)"
   ]
  },
  {
   "cell_type": "code",
   "execution_count": null,
   "metadata": {
    "scrolled": false
   },
   "outputs": [],
   "source": []
  },
  {
   "cell_type": "markdown",
   "metadata": {},
   "source": [
    "* \"how did you pick the question(s) that you did?\"\n",
    "* \"why are these questions important from a business perspective?\"\n",
    "* \"how did you decide on the data cleaning options you performed?\"\n",
    "* \"why did you choose a given method or library?\"\n",
    "* \"why did you select those visualizations and what did you learn from each of them?\"\n",
    "* \"why did you pick those features as predictors?\"\n",
    "* \"how would you interpret the results?\"\n",
    "* \"how confident are you in the predictive quality of the results?\"\n",
    "* \"what are some of the things that could cause the results to be wrong?\""
   ]
  }
 ],
 "metadata": {
  "kernelspec": {
   "display_name": "Python [conda env:learn-env] *",
   "language": "python",
   "name": "conda-env-learn-env-py"
  },
  "language_info": {
   "codemirror_mode": {
    "name": "ipython",
    "version": 3
   },
   "file_extension": ".py",
   "mimetype": "text/x-python",
   "name": "python",
   "nbconvert_exporter": "python",
   "pygments_lexer": "ipython3",
   "version": "3.6.9"
  },
  "toc": {
   "base_numbering": 1,
   "nav_menu": {},
   "number_sections": true,
   "sideBar": true,
   "skip_h1_title": false,
   "title_cell": "Table of Contents",
   "title_sidebar": "Contents",
   "toc_cell": false,
   "toc_position": {},
   "toc_section_display": true,
   "toc_window_display": true
  },
  "varInspector": {
   "cols": {
    "lenName": 16,
    "lenType": 16,
    "lenVar": 40
   },
   "kernels_config": {
    "python": {
     "delete_cmd_postfix": "",
     "delete_cmd_prefix": "del ",
     "library": "var_list.py",
     "varRefreshCmd": "print(var_dic_list())"
    },
    "r": {
     "delete_cmd_postfix": ") ",
     "delete_cmd_prefix": "rm(",
     "library": "var_list.r",
     "varRefreshCmd": "cat(var_dic_list()) "
    }
   },
   "types_to_exclude": [
    "module",
    "function",
    "builtin_function_or_method",
    "instance",
    "_Feature"
   ],
   "window_display": false
  }
 },
 "nbformat": 4,
 "nbformat_minor": 2
}
