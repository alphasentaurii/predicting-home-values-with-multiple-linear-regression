{
 "cells": [
  {
   "cell_type": "markdown",
   "metadata": {},
   "source": [
    "---\n",
    "**Module 1 Final Project Submission**\n",
    "\n",
    "* Student name: **Ru Keïn**\n",
    "* Student pace: **Full-Time**\n",
    "* Project review date/time: **November 1, 2019 at 10:00 AM PST**\n",
    "* Instructor name: **James Irving, PhD**\n",
    "* Blog post URL: www.hakkeray.com/datascience/projects/king-county-housing-data"
   ]
  },
  {
   "cell_type": "markdown",
   "metadata": {},
   "source": [
    "**GOAL**\n",
    "* How \n",
    "\n",
    "**OBJECTIVES**\n",
    "* Identify null, missing, duplicate, and unreliable values in the data.\n",
    "* Determine best approach for analyzing each predictor: continuous vs. categorical values\n",
    "* Identify which combination of features (X) are the best predictors of the target (y). \n",
    "\n",
    "**QUESTIONS**\n",
    "* Analyze Duplicates - is there a trend within houses re-sold for higher prices?\n",
    "* "
   ]
  },
  {
   "cell_type": "markdown",
   "metadata": {},
   "source": [
    "---\n",
    "# OBTAIN\n",
    "* Import requisite libraries and data\n",
    "* Inspect columns, dataypes\n",
    "    * df.head()"
   ]
  },
  {
   "cell_type": "code",
   "execution_count": 1,
   "metadata": {
    "code_folding": [
     0
    ],
    "scrolled": false
   },
   "outputs": [
    {
     "name": "stdout",
     "output_type": "stream",
     "text": [
      "fsds_1007219  v0.4.8 loaded.  Read the docs: https://fsds.readthedocs.io/en/latest/ \n",
      "> For convenient loading of standard modules use: `>> from fsds_100719.imports import *`\n",
      "\n"
     ]
    },
    {
     "data": {
      "text/html": [
       "<style  type=\"text/css\" >\n",
       "</style><table id=\"T_6e03b9da_fce4_11e9_bac0_f40f2405a054\" ><caption>Loaded Packages and Handles</caption><thead>    <tr>        <th class=\"col_heading level0 col0\" >Package</th>        <th class=\"col_heading level0 col1\" >Handle</th>        <th class=\"col_heading level0 col2\" >Description</th>    </tr></thead><tbody>\n",
       "                <tr>\n",
       "                                <td id=\"T_6e03b9da_fce4_11e9_bac0_f40f2405a054row0_col0\" class=\"data row0 col0\" >IPython.display</td>\n",
       "                        <td id=\"T_6e03b9da_fce4_11e9_bac0_f40f2405a054row0_col1\" class=\"data row0 col1\" >dp</td>\n",
       "                        <td id=\"T_6e03b9da_fce4_11e9_bac0_f40f2405a054row0_col2\" class=\"data row0 col2\" >Display modules with helpful display and clearing commands.</td>\n",
       "            </tr>\n",
       "            <tr>\n",
       "                                <td id=\"T_6e03b9da_fce4_11e9_bac0_f40f2405a054row1_col0\" class=\"data row1 col0\" >fsds_100719</td>\n",
       "                        <td id=\"T_6e03b9da_fce4_11e9_bac0_f40f2405a054row1_col1\" class=\"data row1 col1\" >fs</td>\n",
       "                        <td id=\"T_6e03b9da_fce4_11e9_bac0_f40f2405a054row1_col2\" class=\"data row1 col2\" >Custom data science bootcamp student package</td>\n",
       "            </tr>\n",
       "            <tr>\n",
       "                                <td id=\"T_6e03b9da_fce4_11e9_bac0_f40f2405a054row2_col0\" class=\"data row2 col0\" >matplotlib</td>\n",
       "                        <td id=\"T_6e03b9da_fce4_11e9_bac0_f40f2405a054row2_col1\" class=\"data row2 col1\" >mpl</td>\n",
       "                        <td id=\"T_6e03b9da_fce4_11e9_bac0_f40f2405a054row2_col2\" class=\"data row2 col2\" >Matplotlib's base OOP module with formatting artists</td>\n",
       "            </tr>\n",
       "            <tr>\n",
       "                                <td id=\"T_6e03b9da_fce4_11e9_bac0_f40f2405a054row3_col0\" class=\"data row3 col0\" >matplotlib.pyplot</td>\n",
       "                        <td id=\"T_6e03b9da_fce4_11e9_bac0_f40f2405a054row3_col1\" class=\"data row3 col1\" >plt</td>\n",
       "                        <td id=\"T_6e03b9da_fce4_11e9_bac0_f40f2405a054row3_col2\" class=\"data row3 col2\" >Matplotlib's matlab-like plotting module</td>\n",
       "            </tr>\n",
       "            <tr>\n",
       "                                <td id=\"T_6e03b9da_fce4_11e9_bac0_f40f2405a054row4_col0\" class=\"data row4 col0\" >numpy</td>\n",
       "                        <td id=\"T_6e03b9da_fce4_11e9_bac0_f40f2405a054row4_col1\" class=\"data row4 col1\" >np</td>\n",
       "                        <td id=\"T_6e03b9da_fce4_11e9_bac0_f40f2405a054row4_col2\" class=\"data row4 col2\" >scientific computing with Python</td>\n",
       "            </tr>\n",
       "            <tr>\n",
       "                                <td id=\"T_6e03b9da_fce4_11e9_bac0_f40f2405a054row5_col0\" class=\"data row5 col0\" >pandas</td>\n",
       "                        <td id=\"T_6e03b9da_fce4_11e9_bac0_f40f2405a054row5_col1\" class=\"data row5 col1\" >pd</td>\n",
       "                        <td id=\"T_6e03b9da_fce4_11e9_bac0_f40f2405a054row5_col2\" class=\"data row5 col2\" >High performance data structures and tools</td>\n",
       "            </tr>\n",
       "            <tr>\n",
       "                                <td id=\"T_6e03b9da_fce4_11e9_bac0_f40f2405a054row6_col0\" class=\"data row6 col0\" >seaborn</td>\n",
       "                        <td id=\"T_6e03b9da_fce4_11e9_bac0_f40f2405a054row6_col1\" class=\"data row6 col1\" >sns</td>\n",
       "                        <td id=\"T_6e03b9da_fce4_11e9_bac0_f40f2405a054row6_col2\" class=\"data row6 col2\" >High-level data visualization library based on matplotlib</td>\n",
       "            </tr>\n",
       "    </tbody></table>"
      ],
      "text/plain": [
       "<pandas.io.formats.style.Styler at 0x1034ab6d8>"
      ]
     },
     "metadata": {},
     "output_type": "display_data"
    },
    {
     "data": {
      "text/html": [
       "        <script type=\"text/javascript\">\n",
       "        window.PlotlyConfig = {MathJaxConfig: 'local'};\n",
       "        if (window.MathJax) {MathJax.Hub.Config({SVG: {font: \"STIX-Web\"}});}\n",
       "        if (typeof require !== 'undefined') {\n",
       "        require.undef(\"plotly\");\n",
       "        requirejs.config({\n",
       "            paths: {\n",
       "                'plotly': ['https://cdn.plot.ly/plotly-latest.min']\n",
       "            }\n",
       "        });\n",
       "        require(['plotly'], function(Plotly) {\n",
       "            window._Plotly = Plotly;\n",
       "        });\n",
       "        }\n",
       "        </script>\n",
       "        "
      ]
     },
     "metadata": {},
     "output_type": "display_data"
    }
   ],
   "source": [
    "# import PyPi package for cohort libraries using shortcut\n",
    "#!pip install -U fsds_100719 # comment out after install so it won't run again\n",
    "import fsds_100719 as fs\n",
    "from fsds_100719.imports import *\n",
    "plt.style.use('seaborn')\n",
    "#inline_rc = dict(mpl.rcParams)\n",
    "import statsmodels.api as sm\n",
    "import statsmodels.formula.api as smf\n",
    "from scipy.stats import normaltest as normtest # D'Agostino and Pearson's omnibus test\n",
    "from collections import Counter\n",
    "from sklearn.preprocessing import RobustScaler\n",
    "from sklearn.preprocessing import MinMaxScaler"
   ]
  },
  {
   "cell_type": "code",
   "execution_count": 2,
   "metadata": {
    "code_folding": [
     0
    ],
    "scrolled": false
   },
   "outputs": [],
   "source": [
    "#ignore pink warnings\n",
    "import warnings\n",
    "warnings.filterwarnings('ignore')\n",
    "\n",
    "# Allow for large # columns\n",
    "pd.set_option('display.max_columns', 0)\n",
    "# pd.set_option('display.max_rows','')"
   ]
  },
  {
   "cell_type": "code",
   "execution_count": 120,
   "metadata": {
    "scrolled": false
   },
   "outputs": [
    {
     "data": {
      "text/html": [
       "<div>\n",
       "<style scoped>\n",
       "    .dataframe tbody tr th:only-of-type {\n",
       "        vertical-align: middle;\n",
       "    }\n",
       "\n",
       "    .dataframe tbody tr th {\n",
       "        vertical-align: top;\n",
       "    }\n",
       "\n",
       "    .dataframe thead th {\n",
       "        text-align: right;\n",
       "    }\n",
       "</style>\n",
       "<table border=\"1\" class=\"dataframe\">\n",
       "  <thead>\n",
       "    <tr style=\"text-align: right;\">\n",
       "      <th></th>\n",
       "      <th>id</th>\n",
       "      <th>date</th>\n",
       "      <th>price</th>\n",
       "      <th>bedrooms</th>\n",
       "      <th>bathrooms</th>\n",
       "      <th>sqft_living</th>\n",
       "      <th>sqft_lot</th>\n",
       "      <th>floors</th>\n",
       "      <th>waterfront</th>\n",
       "      <th>view</th>\n",
       "      <th>condition</th>\n",
       "      <th>grade</th>\n",
       "      <th>sqft_above</th>\n",
       "      <th>sqft_basement</th>\n",
       "      <th>yr_built</th>\n",
       "      <th>yr_renovated</th>\n",
       "      <th>zipcode</th>\n",
       "      <th>lat</th>\n",
       "      <th>long</th>\n",
       "      <th>sqft_living15</th>\n",
       "      <th>sqft_lot15</th>\n",
       "    </tr>\n",
       "  </thead>\n",
       "  <tbody>\n",
       "    <tr>\n",
       "      <td>0</td>\n",
       "      <td>7129300520</td>\n",
       "      <td>10/13/2014</td>\n",
       "      <td>221900.0</td>\n",
       "      <td>3</td>\n",
       "      <td>1.00</td>\n",
       "      <td>1180</td>\n",
       "      <td>5650</td>\n",
       "      <td>1.0</td>\n",
       "      <td>NaN</td>\n",
       "      <td>0.0</td>\n",
       "      <td>3</td>\n",
       "      <td>7</td>\n",
       "      <td>1180</td>\n",
       "      <td>0.0</td>\n",
       "      <td>1955</td>\n",
       "      <td>0.0</td>\n",
       "      <td>98178</td>\n",
       "      <td>47.5112</td>\n",
       "      <td>-122.257</td>\n",
       "      <td>1340</td>\n",
       "      <td>5650</td>\n",
       "    </tr>\n",
       "    <tr>\n",
       "      <td>1</td>\n",
       "      <td>6414100192</td>\n",
       "      <td>12/9/2014</td>\n",
       "      <td>538000.0</td>\n",
       "      <td>3</td>\n",
       "      <td>2.25</td>\n",
       "      <td>2570</td>\n",
       "      <td>7242</td>\n",
       "      <td>2.0</td>\n",
       "      <td>0.0</td>\n",
       "      <td>0.0</td>\n",
       "      <td>3</td>\n",
       "      <td>7</td>\n",
       "      <td>2170</td>\n",
       "      <td>400.0</td>\n",
       "      <td>1951</td>\n",
       "      <td>1991.0</td>\n",
       "      <td>98125</td>\n",
       "      <td>47.7210</td>\n",
       "      <td>-122.319</td>\n",
       "      <td>1690</td>\n",
       "      <td>7639</td>\n",
       "    </tr>\n",
       "    <tr>\n",
       "      <td>2</td>\n",
       "      <td>5631500400</td>\n",
       "      <td>2/25/2015</td>\n",
       "      <td>180000.0</td>\n",
       "      <td>2</td>\n",
       "      <td>1.00</td>\n",
       "      <td>770</td>\n",
       "      <td>10000</td>\n",
       "      <td>1.0</td>\n",
       "      <td>0.0</td>\n",
       "      <td>0.0</td>\n",
       "      <td>3</td>\n",
       "      <td>6</td>\n",
       "      <td>770</td>\n",
       "      <td>0.0</td>\n",
       "      <td>1933</td>\n",
       "      <td>NaN</td>\n",
       "      <td>98028</td>\n",
       "      <td>47.7379</td>\n",
       "      <td>-122.233</td>\n",
       "      <td>2720</td>\n",
       "      <td>8062</td>\n",
       "    </tr>\n",
       "    <tr>\n",
       "      <td>3</td>\n",
       "      <td>2487200875</td>\n",
       "      <td>12/9/2014</td>\n",
       "      <td>604000.0</td>\n",
       "      <td>4</td>\n",
       "      <td>3.00</td>\n",
       "      <td>1960</td>\n",
       "      <td>5000</td>\n",
       "      <td>1.0</td>\n",
       "      <td>0.0</td>\n",
       "      <td>0.0</td>\n",
       "      <td>5</td>\n",
       "      <td>7</td>\n",
       "      <td>1050</td>\n",
       "      <td>910.0</td>\n",
       "      <td>1965</td>\n",
       "      <td>0.0</td>\n",
       "      <td>98136</td>\n",
       "      <td>47.5208</td>\n",
       "      <td>-122.393</td>\n",
       "      <td>1360</td>\n",
       "      <td>5000</td>\n",
       "    </tr>\n",
       "    <tr>\n",
       "      <td>4</td>\n",
       "      <td>1954400510</td>\n",
       "      <td>2/18/2015</td>\n",
       "      <td>510000.0</td>\n",
       "      <td>3</td>\n",
       "      <td>2.00</td>\n",
       "      <td>1680</td>\n",
       "      <td>8080</td>\n",
       "      <td>1.0</td>\n",
       "      <td>0.0</td>\n",
       "      <td>0.0</td>\n",
       "      <td>3</td>\n",
       "      <td>8</td>\n",
       "      <td>1680</td>\n",
       "      <td>0.0</td>\n",
       "      <td>1987</td>\n",
       "      <td>0.0</td>\n",
       "      <td>98074</td>\n",
       "      <td>47.6168</td>\n",
       "      <td>-122.045</td>\n",
       "      <td>1800</td>\n",
       "      <td>7503</td>\n",
       "    </tr>\n",
       "  </tbody>\n",
       "</table>\n",
       "</div>"
      ],
      "text/plain": [
       "           id        date     price  bedrooms  bathrooms  sqft_living  sqft_lot  ...  yr_built  yr_renovated  zipcode      lat     long  sqft_living15 sqft_lot15\n",
       "0  7129300520  10/13/2014  221900.0         3       1.00         1180      5650  ...      1955           0.0    98178  47.5112 -122.257           1340       5650\n",
       "1  6414100192   12/9/2014  538000.0         3       2.25         2570      7242  ...      1951        1991.0    98125  47.7210 -122.319           1690       7639\n",
       "2  5631500400   2/25/2015  180000.0         2       1.00          770     10000  ...      1933           NaN    98028  47.7379 -122.233           2720       8062\n",
       "3  2487200875   12/9/2014  604000.0         4       3.00         1960      5000  ...      1965           0.0    98136  47.5208 -122.393           1360       5000\n",
       "4  1954400510   2/18/2015  510000.0         3       2.00         1680      8080  ...      1987           0.0    98074  47.6168 -122.045           1800       7503\n",
       "\n",
       "[5 rows x 21 columns]"
      ]
     },
     "execution_count": 120,
     "metadata": {},
     "output_type": "execute_result"
    }
   ],
   "source": [
    "# import dataset and review data types, columns, values\n",
    "df = pd.read_csv('kc_house_data.csv') \n",
    "df.head()"
   ]
  },
  {
   "cell_type": "markdown",
   "metadata": {},
   "source": [
    "---\n",
    "# SCRUB \n",
    "\n",
    "**Q1: How should we address datatype of each feature column to prepare it for EDA?**\n",
    "+ 1. find and replace nulls\n",
    "+ 2. re-cast datatypes (continuous, binary, categorical)\n",
    "+ 3. check for duplicate observations (rows)\n",
    "+ 4. preliminary analysis and visualizations\n",
    "+ 5. decide which columns and rows to drop before EDA\n",
    "\n",
    "custom functions: \n",
    "    * hot_stats()\n",
    "    * null_hunter()\n",
    "    * hot_dropper()"
   ]
  },
  {
   "cell_type": "code",
   "execution_count": 121,
   "metadata": {
    "code_folding": [
     1
    ],
    "run_control": {
     "marked": false
    }
   },
   "outputs": [],
   "source": [
    "# HOT_STATS function: display statistical summaries of a feature column\n",
    "def hot_stats(data, column, verbose=False):\n",
    "    \"\"\"\n",
    "    v.1.0\n",
    "    Scans the values of a column within a dataframe\n",
    "    and displays its datatype, nulls (incl. pct of total), \n",
    "    unique values, non-null value counts, as well as \n",
    "    statistical info if the datatype is numeric.\n",
    "    \n",
    "    Args:\n",
    "    data: a dataframe\n",
    "    column: a column within the data you want to scan *should be inside quotes ''\n",
    "    verbose (optional): boolean. Default is False.\n",
    "        Setting verbose to True will display all unique values found.   \n",
    "    \n",
    "    \n",
    "    example: \n",
    "    hot_stats(df, 'price')\n",
    "    data = df\n",
    "    column = 'price'\n",
    "    \n",
    "    Developer notes: additional features to add to v2 might\n",
    "    include:\n",
    "    -mode finder (frequency dict)\n",
    "    -more functionality for string objects\n",
    "    -side by side comparison between two features\n",
    "    -OR ability to pass multiple columns at once and display all\n",
    "    \"\"\"\n",
    "    # assigns variables to call later as shortcuts \n",
    "    feature = data[column]\n",
    "    rdash = \"--------->\"\n",
    "    ldash = \"<--------\"\n",
    "\n",
    "    # figure out which hot_stats to display based on dtype \n",
    "    if feature.dtype == 'float':\n",
    "        hot_stats = feature.describe().round(2)\n",
    "    elif feature.dtype == 'int':\n",
    "        hot_stats = feature.describe()\n",
    "    elif feature.dtype == 'object' or 'category':\n",
    "        hot_stats = feature.agg(['min','median','max'])\n",
    "    else:\n",
    "        hot_stats = None\n",
    "\n",
    "    # display statistics (returns different info depending on datatype)\n",
    "    print(rdash)\n",
    "    print(\"HOT STATS\")\n",
    "    print(ldash)\n",
    "    # display column name formatted with underline\n",
    "    print(f\"\\n{feature.name.upper()}\")  \n",
    "    # display the data type\n",
    "    print(f\"Data Type: {feature.dtype}\\n\")\n",
    "    print(hot_stats)\n",
    "    \n",
    "    \n",
    "    # find nulls and display total count and percentage\n",
    "    if feature.isna().sum() > 0:  \n",
    "        print(f\"Found\\n{feature.isna().sum()} Nulls out of {len(feature)}({round(feature.isna().sum()/len(feature)*100,2)}%)\\n\")\n",
    "    else:\n",
    "        print(\"\\nNo Nulls Found!\\n\")\n",
    "    \n",
    "    # display value counts (non-nulls)\n",
    "    print(f\"Non-Null Value Counts:\\n{feature.value_counts()}\\n\")\n",
    "    \n",
    "    # display count of unique values\n",
    "    print(f\"# Unique Values: {len(feature.unique())}\\n\")\n",
    "    # displays all unique values found if verbose set to true\n",
    "    if verbose == True:\n",
    "        print(f\"Unique Values:\\n {feature.unique()}\\n\")"
   ]
  },
  {
   "cell_type": "code",
   "execution_count": 122,
   "metadata": {
    "code_folding": [
     1
    ]
   },
   "outputs": [],
   "source": [
    "# NULL_HUNTER() function: display Null counts per column/feature\n",
    "def null_hunter(df):\n",
    "    print(f\"Columns with Null Values\")\n",
    "    print(\"------------------------\")\n",
    "    for column in df:\n",
    "        if df[column].isna().sum() > 0:\n",
    "            print(f\"{df[column].name}: \\n{df[column].isna().sum()} out of {len(df[column])} ({round(df[column].isna().sum()/len(df[column])*100,2)}%)\\n\")"
   ]
  },
  {
   "cell_type": "code",
   "execution_count": 123,
   "metadata": {
    "scrolled": false
   },
   "outputs": [
    {
     "name": "stdout",
     "output_type": "stream",
     "text": [
      "<class 'pandas.core.frame.DataFrame'>\n",
      "RangeIndex: 21597 entries, 0 to 21596\n",
      "Data columns (total 21 columns):\n",
      "id               21597 non-null int64\n",
      "date             21597 non-null object\n",
      "price            21597 non-null float64\n",
      "bedrooms         21597 non-null int64\n",
      "bathrooms        21597 non-null float64\n",
      "sqft_living      21597 non-null int64\n",
      "sqft_lot         21597 non-null int64\n",
      "floors           21597 non-null float64\n",
      "waterfront       19221 non-null float64\n",
      "view             21534 non-null float64\n",
      "condition        21597 non-null int64\n",
      "grade            21597 non-null int64\n",
      "sqft_above       21597 non-null int64\n",
      "sqft_basement    21597 non-null object\n",
      "yr_built         21597 non-null int64\n",
      "yr_renovated     17755 non-null float64\n",
      "zipcode          21597 non-null int64\n",
      "lat              21597 non-null float64\n",
      "long             21597 non-null float64\n",
      "sqft_living15    21597 non-null int64\n",
      "sqft_lot15       21597 non-null int64\n",
      "dtypes: float64(8), int64(11), object(2)\n",
      "memory usage: 3.5+ MB\n"
     ]
    }
   ],
   "source": [
    "# Display information about the variables, columns and datatypes\n",
    "df.info()"
   ]
  },
  {
   "cell_type": "markdown",
   "metadata": {},
   "source": [
    "**FIRST GLANCE - Items to note**\n",
    "* There are 2 object datatypes that contain numeric values : 'date', 'sqft_basement'\n",
    "* The total value count is 21597. Some columns appear to be missing a substantial amount of data (waterfront and yr_renovated)."
   ]
  },
  {
   "cell_type": "markdown",
   "metadata": {},
   "source": [
    "Before going further, a little house-keeping is in order. Let's breakdown the columns into groups based on feature-type as they relate to a real estate market context:\n",
    "\n",
    "TARGET\n",
    "**price**\n",
    "\n",
    "INTERIOR\n",
    "**bedrooms, bathrooms, floors**\n",
    "\n",
    "SIZE\n",
    "**sqft_living, sqft_lot, sqft_living15, sqft_lot15, sqft_above, sqft_basement**\n",
    "\n",
    "LOCATION\n",
    "**zipcode, lat, long, waterfront**\n",
    "\n",
    "QUALITY\n",
    "**condition, grade, yr_built, yr_renovated**\n",
    "\n",
    "ANALYTICS\n",
    "**date, id, view**"
   ]
  },
  {
   "cell_type": "markdown",
   "metadata": {},
   "source": [
    "## Null Hunting (null_hunter)\n",
    "\n",
    "Let's start by hunting down the nulls and then decide how best to address them (remove or replace) without skewing our analysis."
   ]
  },
  {
   "cell_type": "code",
   "execution_count": 124,
   "metadata": {
    "code_folding": [],
    "run_control": {
     "marked": false
    }
   },
   "outputs": [
    {
     "name": "stdout",
     "output_type": "stream",
     "text": [
      "Columns with Null Values\n",
      "------------------------\n",
      "waterfront: \n",
      "2376 out of 21597 (11.0%)\n",
      "\n",
      "view: \n",
      "63 out of 21597 (0.29%)\n",
      "\n",
      "yr_renovated: \n",
      "3842 out of 21597 (17.79%)\n",
      "\n"
     ]
    }
   ],
   "source": [
    "null_hunter(df)            "
   ]
  },
  {
   "cell_type": "markdown",
   "metadata": {},
   "source": [
    "NOTES:\n",
    "  * Drop null rows or columns as appropriate\n",
    "      * df.isna().sum()\n",
    "      * df.drop()\n",
    "      * df.drop(['col1','col2'],axis=1)\n",
    "\n",
    "  * Coarse Binning NUMERICAL Data\n",
    "      * replace with median or bin/convert to categorical\n",
    "           * bin yr_built\n",
    "           * bin sqft_basement\n",
    "           * bin sqft_above\n",
    "          \n",
    "  * CATEGORICAL data: \n",
    "      * make NaN own category OR replace with most common category\n",
    "      * Fill in null values and recast variables for EDA\n",
    "           * zipcode --> coded\n",
    "           * View --> category\n",
    "           * Waterfront --> boolean\n",
    "           * yr_renovated --> is_reno (boolean)"
   ]
  },
  {
   "cell_type": "markdown",
   "metadata": {},
   "source": [
    "## Data Casting (hot_stats)"
   ]
  },
  {
   "cell_type": "markdown",
   "metadata": {},
   "source": [
    "### Binaries / Boolean"
   ]
  },
  {
   "cell_type": "markdown",
   "metadata": {},
   "source": [
    "#### ['waterfront']"
   ]
  },
  {
   "cell_type": "code",
   "execution_count": 125,
   "metadata": {},
   "outputs": [
    {
     "name": "stdout",
     "output_type": "stream",
     "text": [
      "--------->\n",
      "HOT STATS\n",
      "<--------\n",
      "\n",
      "WATERFRONT\n",
      "Data Type: float64\n",
      "\n",
      "count    19221.00\n",
      "mean         0.01\n",
      "std          0.09\n",
      "min          0.00\n",
      "25%          0.00\n",
      "50%          0.00\n",
      "75%          0.00\n",
      "max          1.00\n",
      "Name: waterfront, dtype: float64\n",
      "Found\n",
      "2376 Nulls out of 21597(11.0%)\n",
      "\n",
      "Non-Null Value Counts:\n",
      "0.0    19075\n",
      "1.0      146\n",
      "Name: waterfront, dtype: int64\n",
      "\n",
      "# Unique Values: 3\n",
      "\n"
     ]
    }
   ],
   "source": [
    "hot_stats(df, 'waterfront')"
   ]
  },
  {
   "cell_type": "code",
   "execution_count": 126,
   "metadata": {
    "code_folding": [
     0
    ]
   },
   "outputs": [
    {
     "data": {
      "text/plain": [
       "0"
      ]
     },
     "execution_count": 126,
     "metadata": {},
     "output_type": "execute_result"
    }
   ],
   "source": [
    "# This really should be a boolean (property either is waterfront or is not waterfront)\n",
    "\n",
    "# Fill nulls with most common value (0.0) # float value\n",
    "df['waterfront'].fillna(0.0, inplace=True)\n",
    "#  verify changes\n",
    "df['waterfront'].isna().sum()"
   ]
  },
  {
   "cell_type": "code",
   "execution_count": 127,
   "metadata": {
    "code_folding": [
     0
    ]
   },
   "outputs": [
    {
     "data": {
      "text/plain": [
       "False    21451\n",
       "True       146\n",
       "Name: waterfront, dtype: int64"
      ]
     },
     "execution_count": 127,
     "metadata": {},
     "output_type": "execute_result"
    }
   ],
   "source": [
    "# Convert datatype to boolean (values can be either 0 or 1)\n",
    "df['waterfront'] = df['waterfront'].astype('bool')\n",
    "# verify\n",
    "df['waterfront'].value_counts()"
   ]
  },
  {
   "cell_type": "markdown",
   "metadata": {},
   "source": [
    "#### ['yr_renovated']"
   ]
  },
  {
   "cell_type": "code",
   "execution_count": 128,
   "metadata": {},
   "outputs": [
    {
     "name": "stdout",
     "output_type": "stream",
     "text": [
      "--------->\n",
      "HOT STATS\n",
      "<--------\n",
      "\n",
      "YR_RENOVATED\n",
      "Data Type: float64\n",
      "\n",
      "count    17755.00\n",
      "mean        83.64\n",
      "std        399.95\n",
      "min          0.00\n",
      "25%          0.00\n",
      "50%          0.00\n",
      "75%          0.00\n",
      "max       2015.00\n",
      "Name: yr_renovated, dtype: float64\n",
      "Found\n",
      "3842 Nulls out of 21597(17.79%)\n",
      "\n",
      "Non-Null Value Counts:\n",
      "0.0       17011\n",
      "2014.0       73\n",
      "2003.0       31\n",
      "2013.0       31\n",
      "2007.0       30\n",
      "          ...  \n",
      "1946.0        1\n",
      "1959.0        1\n",
      "1971.0        1\n",
      "1951.0        1\n",
      "1954.0        1\n",
      "Name: yr_renovated, Length: 70, dtype: int64\n",
      "\n",
      "# Unique Values: 71\n",
      "\n"
     ]
    }
   ],
   "source": [
    "hot_stats(df, 'yr_renovated')"
   ]
  },
  {
   "cell_type": "code",
   "execution_count": 129,
   "metadata": {
    "code_folding": [
     0
    ]
   },
   "outputs": [
    {
     "data": {
      "text/plain": [
       "0"
      ]
     },
     "execution_count": 129,
     "metadata": {},
     "output_type": "execute_result"
    }
   ],
   "source": [
    "# This feature is also heavily skewed with zero values. \n",
    "# It should also be treated as a boolean since a property is either renovated or it's not).\n",
    "\n",
    "# fill nulls with most common value (0)\n",
    "df['yr_renovated'].fillna(0.0, inplace=True) # use float value to match current dtype\n",
    "\n",
    "# verify change\n",
    "df['yr_renovated'].isna().sum()"
   ]
  },
  {
   "cell_type": "code",
   "execution_count": 130,
   "metadata": {
    "code_folding": [
     0
    ]
   },
   "outputs": [
    {
     "data": {
      "text/html": [
       "<div>\n",
       "<style scoped>\n",
       "    .dataframe tbody tr th:only-of-type {\n",
       "        vertical-align: middle;\n",
       "    }\n",
       "\n",
       "    .dataframe tbody tr th {\n",
       "        vertical-align: top;\n",
       "    }\n",
       "\n",
       "    .dataframe thead th {\n",
       "        text-align: right;\n",
       "    }\n",
       "</style>\n",
       "<table border=\"1\" class=\"dataframe\">\n",
       "  <thead>\n",
       "    <tr style=\"text-align: right;\">\n",
       "      <th></th>\n",
       "      <th>id</th>\n",
       "      <th>date</th>\n",
       "      <th>price</th>\n",
       "      <th>bedrooms</th>\n",
       "      <th>bathrooms</th>\n",
       "      <th>sqft_living</th>\n",
       "      <th>sqft_lot</th>\n",
       "      <th>floors</th>\n",
       "      <th>waterfront</th>\n",
       "      <th>view</th>\n",
       "      <th>condition</th>\n",
       "      <th>grade</th>\n",
       "      <th>sqft_above</th>\n",
       "      <th>sqft_basement</th>\n",
       "      <th>yr_built</th>\n",
       "      <th>yr_renovated</th>\n",
       "      <th>zipcode</th>\n",
       "      <th>lat</th>\n",
       "      <th>long</th>\n",
       "      <th>sqft_living15</th>\n",
       "      <th>sqft_lot15</th>\n",
       "      <th>is_renovated</th>\n",
       "    </tr>\n",
       "  </thead>\n",
       "  <tbody>\n",
       "    <tr>\n",
       "      <td>0</td>\n",
       "      <td>7129300520</td>\n",
       "      <td>10/13/2014</td>\n",
       "      <td>221900.0</td>\n",
       "      <td>3</td>\n",
       "      <td>1.00</td>\n",
       "      <td>1180</td>\n",
       "      <td>5650</td>\n",
       "      <td>1.0</td>\n",
       "      <td>False</td>\n",
       "      <td>0.0</td>\n",
       "      <td>3</td>\n",
       "      <td>7</td>\n",
       "      <td>1180</td>\n",
       "      <td>0.0</td>\n",
       "      <td>1955</td>\n",
       "      <td>0.0</td>\n",
       "      <td>98178</td>\n",
       "      <td>47.5112</td>\n",
       "      <td>-122.257</td>\n",
       "      <td>1340</td>\n",
       "      <td>5650</td>\n",
       "      <td>0.0</td>\n",
       "    </tr>\n",
       "    <tr>\n",
       "      <td>1</td>\n",
       "      <td>6414100192</td>\n",
       "      <td>12/9/2014</td>\n",
       "      <td>538000.0</td>\n",
       "      <td>3</td>\n",
       "      <td>2.25</td>\n",
       "      <td>2570</td>\n",
       "      <td>7242</td>\n",
       "      <td>2.0</td>\n",
       "      <td>False</td>\n",
       "      <td>0.0</td>\n",
       "      <td>3</td>\n",
       "      <td>7</td>\n",
       "      <td>2170</td>\n",
       "      <td>400.0</td>\n",
       "      <td>1951</td>\n",
       "      <td>1991.0</td>\n",
       "      <td>98125</td>\n",
       "      <td>47.7210</td>\n",
       "      <td>-122.319</td>\n",
       "      <td>1690</td>\n",
       "      <td>7639</td>\n",
       "      <td>1.0</td>\n",
       "    </tr>\n",
       "    <tr>\n",
       "      <td>2</td>\n",
       "      <td>5631500400</td>\n",
       "      <td>2/25/2015</td>\n",
       "      <td>180000.0</td>\n",
       "      <td>2</td>\n",
       "      <td>1.00</td>\n",
       "      <td>770</td>\n",
       "      <td>10000</td>\n",
       "      <td>1.0</td>\n",
       "      <td>False</td>\n",
       "      <td>0.0</td>\n",
       "      <td>3</td>\n",
       "      <td>6</td>\n",
       "      <td>770</td>\n",
       "      <td>0.0</td>\n",
       "      <td>1933</td>\n",
       "      <td>0.0</td>\n",
       "      <td>98028</td>\n",
       "      <td>47.7379</td>\n",
       "      <td>-122.233</td>\n",
       "      <td>2720</td>\n",
       "      <td>8062</td>\n",
       "      <td>0.0</td>\n",
       "    </tr>\n",
       "  </tbody>\n",
       "</table>\n",
       "</div>"
      ],
      "text/plain": [
       "           id        date     price  bedrooms  bathrooms  sqft_living  sqft_lot  ...  yr_renovated  zipcode      lat     long  sqft_living15  sqft_lot15 is_renovated\n",
       "0  7129300520  10/13/2014  221900.0         3       1.00         1180      5650  ...           0.0    98178  47.5112 -122.257           1340        5650          0.0\n",
       "1  6414100192   12/9/2014  538000.0         3       2.25         2570      7242  ...        1991.0    98125  47.7210 -122.319           1690        7639          1.0\n",
       "2  5631500400   2/25/2015  180000.0         2       1.00          770     10000  ...           0.0    98028  47.7379 -122.233           2720        8062          0.0\n",
       "\n",
       "[3 rows x 22 columns]"
      ]
     },
     "execution_count": 130,
     "metadata": {},
     "output_type": "execute_result"
    }
   ],
   "source": [
    "# Create new column 'is_renovated' with all non-zero values assigned = 1 (\"True\") \n",
    "df.loc[(df['yr_renovated'] != 0), 'is_renovated'] = 1\n",
    "# set all zero values = 0 (\"False\")\n",
    "df.loc[(df['yr_renovated'] == 0), 'is_renovated'] = 0\n",
    "\n",
    "# verify new column and values\n",
    "df.head(3)"
   ]
  },
  {
   "cell_type": "code",
   "execution_count": 131,
   "metadata": {
    "code_folding": [
     0
    ]
   },
   "outputs": [
    {
     "data": {
      "text/plain": [
       "False    20853\n",
       "True       744\n",
       "Name: is_renovated, dtype: int64"
      ]
     },
     "execution_count": 131,
     "metadata": {},
     "output_type": "execute_result"
    }
   ],
   "source": [
    "# Convert to boolean\n",
    "df['is_renovated'] = df['is_renovated'].astype('bool')\n",
    "\n",
    "# verify\n",
    "df['is_renovated'].value_counts()"
   ]
  },
  {
   "cell_type": "markdown",
   "metadata": {},
   "source": [
    "#### ['view']"
   ]
  },
  {
   "cell_type": "code",
   "execution_count": 132,
   "metadata": {},
   "outputs": [
    {
     "name": "stdout",
     "output_type": "stream",
     "text": [
      "--------->\n",
      "HOT STATS\n",
      "<--------\n",
      "\n",
      "VIEW\n",
      "Data Type: float64\n",
      "\n",
      "count    21534.00\n",
      "mean         0.23\n",
      "std          0.77\n",
      "min          0.00\n",
      "25%          0.00\n",
      "50%          0.00\n",
      "75%          0.00\n",
      "max          4.00\n",
      "Name: view, dtype: float64\n",
      "Found\n",
      "63 Nulls out of 21597(0.29%)\n",
      "\n",
      "Non-Null Value Counts:\n",
      "0.0    19422\n",
      "2.0      957\n",
      "3.0      508\n",
      "1.0      330\n",
      "4.0      317\n",
      "Name: view, dtype: int64\n",
      "\n",
      "# Unique Values: 6\n",
      "\n"
     ]
    }
   ],
   "source": [
    "hot_stats(df, 'view')"
   ]
  },
  {
   "cell_type": "code",
   "execution_count": 133,
   "metadata": {},
   "outputs": [
    {
     "data": {
      "text/plain": [
       "0"
      ]
     },
     "execution_count": 133,
     "metadata": {},
     "output_type": "execute_result"
    }
   ],
   "source": [
    "# Once again, almost all values for are 0 .0\n",
    "\n",
    "# replace nulls with most common value (0). \n",
    "df['view'].fillna(0, inplace=True)\n",
    "\n",
    "#verify\n",
    "df['view'].isna().sum()"
   ]
  },
  {
   "cell_type": "markdown",
   "metadata": {},
   "source": [
    "Due to the high number of zeros here, a better way to treat 'view' might be to re-cast it as a binary: viewed/not viewed. Alternatively, we could assign category codes. Let's copy the series into a boolean column 'viewed' and convert view to a category. We can decide if either one is useful to us once we begin EDA.  "
   ]
  },
  {
   "cell_type": "code",
   "execution_count": 134,
   "metadata": {},
   "outputs": [
    {
     "data": {
      "text/plain": [
       "CategoricalDtype(categories=[0.0, 1.0, 2.0, 3.0, 4.0], ordered=False)"
      ]
     },
     "execution_count": 134,
     "metadata": {},
     "output_type": "execute_result"
    }
   ],
   "source": [
    "# create new categorical column for view:\n",
    "df['view_cat'] = df['view'].astype('category')\n",
    "\n",
    "# verify\n",
    "df['view_cat'].dtype"
   ]
  },
  {
   "cell_type": "code",
   "execution_count": 135,
   "metadata": {},
   "outputs": [
    {
     "data": {
      "text/plain": [
       "dtype('bool')"
      ]
     },
     "execution_count": 135,
     "metadata": {},
     "output_type": "execute_result"
    }
   ],
   "source": [
    "# create new boolean column for view:\n",
    "df['viewed'] = df['view'].astype('bool')\n",
    "\n",
    "# verify\n",
    "df['viewed'].dtype"
   ]
  },
  {
   "cell_type": "markdown",
   "metadata": {},
   "source": [
    "### Categories - Nominal"
   ]
  },
  {
   "cell_type": "markdown",
   "metadata": {},
   "source": [
    "#### ['yr_built'] "
   ]
  },
  {
   "cell_type": "code",
   "execution_count": 136,
   "metadata": {},
   "outputs": [
    {
     "name": "stdout",
     "output_type": "stream",
     "text": [
      "--------->\n",
      "HOT STATS\n",
      "<--------\n",
      "\n",
      "YR_BUILT\n",
      "Data Type: int64\n",
      "\n",
      "count    21597.000000\n",
      "mean      1970.999676\n",
      "std         29.375234\n",
      "min       1900.000000\n",
      "25%       1951.000000\n",
      "50%       1975.000000\n",
      "75%       1997.000000\n",
      "max       2015.000000\n",
      "Name: yr_built, dtype: float64\n",
      "\n",
      "No Nulls Found!\n",
      "\n",
      "Non-Null Value Counts:\n",
      "2014    559\n",
      "2006    453\n",
      "2005    450\n",
      "2004    433\n",
      "2003    420\n",
      "       ... \n",
      "1933     30\n",
      "1901     29\n",
      "1902     27\n",
      "1935     24\n",
      "1934     21\n",
      "Name: yr_built, Length: 116, dtype: int64\n",
      "\n",
      "# Unique Values: 116\n",
      "\n"
     ]
    }
   ],
   "source": [
    "hot_stats(df, 'yr_built')"
   ]
  },
  {
   "cell_type": "code",
   "execution_count": 216,
   "metadata": {},
   "outputs": [
    {
     "data": {
      "image/png": "[encoded data removed]",
      "text/plain": [
       "<Figure size 432x288 with 1 Axes>"
      ]
     },
     "metadata": {
      "needs_background": "light"
     },
     "output_type": "display_data"
    }
   ],
   "source": [
    "# Let's look at the data distribution of yr_built values \n",
    "\n",
    "fig, ax = plt.subplots()\n",
    "df['yr_built'].hist(bins=10, color='#68FDFE', edgecolor='black', grid=True, alpha=0.6)\n",
    "xticks = (1900, 1920, 1940, 1960, 1980, 2000, 2015)\n",
    "yticks = (0, 500, 1000, 1500, 2000, 2500, 3000, 3500, 4000)\n",
    "plt.xticks(xticks);\n",
    "plt.yticks(yticks);\n",
    "ax.set_title('Year Built Histogram', fontsize=16)\n",
    "ax.set_xlabel('yr_built', fontsize=12)\n",
    "ax.set_ylabel('Frequency', fontsize=12);"
   ]
  },
  {
   "cell_type": "code",
   "execution_count": 188,
   "metadata": {},
   "outputs": [
    {
     "data": {
      "text/plain": [
       "0.00    1900.0\n",
       "0.25    1951.0\n",
       "0.50    1975.0\n",
       "0.75    1997.0\n",
       "1.00    2015.0\n",
       "Name: yr_built, dtype: float64"
      ]
     },
     "execution_count": 188,
     "metadata": {},
     "output_type": "execute_result"
    }
   ],
   "source": [
    "# Most houses were built during the second half of the century\n",
    "# Let’s try to normalize the distribution by creating bins for this feature.\n",
    "\n",
    "# define a binning scheme with custom ranges based on quantiles\n",
    "quantile_list = [0, .25, .5, .75, 1.]\n",
    "\n",
    "quantiles = df['yr_built'].quantile(quantile_list)\n",
    "\n",
    "quantiles # 1900, 1951, 1975, 1997, 2015"
   ]
  },
  {
   "cell_type": "code",
   "execution_count": 218,
   "metadata": {},
   "outputs": [
    {
     "data": {
      "image/png": "[encoded data removed]",
      "text/plain": [
       "<Figure size 432x288 with 1 Axes>"
      ]
     },
     "metadata": {
      "needs_background": "light"
     },
     "output_type": "display_data"
    }
   ],
   "source": [
    "# Let’s look at the original distribution histogram again with the quantiles added:\n",
    "\n",
    "fig, ax = plt.subplots()\n",
    "\n",
    "df['yr_built'].hist(bins=10, color='#68FDFE', edgecolor='black', grid=True, alpha=0.6)\n",
    "for quantile in quantiles:\n",
    "    qvl = plt.axvline(quantile, color='b')\n",
    "    ax.legend([qvl], ['Quantiles'], fontsize=10)\n",
    "    xticks = quantiles\n",
    "    yticks = (0, 500, 1000, 1500, 2000, 2500, 3000, 3500, 4000)\n",
    "    plt.xticks(xticks);\n",
    "    plt.yticks(yticks);\n",
    "    ax.set_title('Year Built Histogram with Quantiles',fontsize=16)\n",
    "    ax.set_xlabel('Year Built', fontsize=12)\n",
    "    ax.set_ylabel('Frequency', fontsize=12)"
   ]
  },
  {
   "cell_type": "code",
   "execution_count": 212,
   "metadata": {},
   "outputs": [
    {
     "data": {
      "text/html": [
       "<div>\n",
       "<style scoped>\n",
       "    .dataframe tbody tr th:only-of-type {\n",
       "        vertical-align: middle;\n",
       "    }\n",
       "\n",
       "    .dataframe tbody tr th {\n",
       "        vertical-align: top;\n",
       "    }\n",
       "\n",
       "    .dataframe thead th {\n",
       "        text-align: right;\n",
       "    }\n",
       "</style>\n",
       "<table border=\"1\" class=\"dataframe\">\n",
       "  <thead>\n",
       "    <tr style=\"text-align: right;\">\n",
       "      <th></th>\n",
       "      <th>yr_built</th>\n",
       "      <th>yb_cat</th>\n",
       "      <th>yb_range</th>\n",
       "    </tr>\n",
       "  </thead>\n",
       "  <tbody>\n",
       "    <tr>\n",
       "      <td>9000</td>\n",
       "      <td>1967</td>\n",
       "      <td>2</td>\n",
       "      <td>(1951, 1975]</td>\n",
       "    </tr>\n",
       "    <tr>\n",
       "      <td>9001</td>\n",
       "      <td>1910</td>\n",
       "      <td>1</td>\n",
       "      <td>(1900, 1951]</td>\n",
       "    </tr>\n",
       "    <tr>\n",
       "      <td>9002</td>\n",
       "      <td>1920</td>\n",
       "      <td>1</td>\n",
       "      <td>(1900, 1951]</td>\n",
       "    </tr>\n",
       "    <tr>\n",
       "      <td>9003</td>\n",
       "      <td>1996</td>\n",
       "      <td>3</td>\n",
       "      <td>(1975, 1997]</td>\n",
       "    </tr>\n",
       "    <tr>\n",
       "      <td>9004</td>\n",
       "      <td>1959</td>\n",
       "      <td>2</td>\n",
       "      <td>(1951, 1975]</td>\n",
       "    </tr>\n",
       "  </tbody>\n",
       "</table>\n",
       "</div>"
      ],
      "text/plain": [
       "      yr_built yb_cat      yb_range\n",
       "9000      1967      2  (1951, 1975]\n",
       "9001      1910      1  (1900, 1951]\n",
       "9002      1920      1  (1900, 1951]\n",
       "9003      1996      3  (1975, 1997]\n",
       "9004      1959      2  (1951, 1975]"
      ]
     },
     "execution_count": 212,
     "metadata": {},
     "output_type": "execute_result"
    }
   ],
   "source": [
    "# Bin the years in to ranges based on the quantiles.\n",
    "# label the bins for each value \n",
    "# store the yr_range and its corresponding yr_label as new columns in df\n",
    "\n",
    "yb_bins = [1900, 1951, 1975, 1997, 2015]\n",
    "\n",
    "yb_labels = [1, 2, 3, 4]\n",
    "\n",
    "# create a new column for the category range values\n",
    "df['yb_range'] = pd.cut(df['yr_built'], bins=yb_bins)\n",
    "\n",
    "# create a new column for the category labels\n",
    "df['yb_cat'] = pd.cut(df['yr_built'], bins=yb_bins, labels=yb_labels)\n",
    "\n",
    "# view the binned features corresponding to each yr_built \n",
    "df[['yr_built','yb_cat', 'yb_range']].iloc[9000:9005] # picking a random index location"
   ]
  },
  {
   "cell_type": "code",
   "execution_count": 215,
   "metadata": {},
   "outputs": [
    {
     "data": {
      "text/plain": [
       "Text(0, 0.5, 'Frequency')"
      ]
     },
     "execution_count": 215,
     "metadata": {},
     "output_type": "execute_result"
    },
    {
     "data": {
      "image/png": "[encoded data removed]",
      "text/plain": [
       "<Figure size 432x288 with 1 Axes>"
      ]
     },
     "metadata": {
      "needs_background": "light"
     },
     "output_type": "display_data"
    }
   ],
   "source": [
    "# Let's check the distribution of the binned values\n",
    "\n",
    "fig, ax = plt.subplots()\n",
    "df['yb_cat'].hist(bins=4, color='#68FDFE', edgecolor='black', grid=True, alpha=0.6)\n",
    "ax.set_title('Year Built Ranges Histogram', fontsize=12)\n",
    "ax.set_xlabel('Year Built', fontsize=12)\n",
    "ax.set_ylabel('Frequency', fontsize=12)"
   ]
  },
  {
   "cell_type": "markdown",
   "metadata": {},
   "source": [
    "#### ['floors']"
   ]
  },
  {
   "cell_type": "code",
   "execution_count": 219,
   "metadata": {},
   "outputs": [
    {
     "name": "stdout",
     "output_type": "stream",
     "text": [
      "--------->\n",
      "HOT STATS\n",
      "<--------\n",
      "\n",
      "FLOORS\n",
      "Data Type: float64\n",
      "\n",
      "count    21597.00\n",
      "mean         1.49\n",
      "std          0.54\n",
      "min          1.00\n",
      "25%          1.00\n",
      "50%          1.50\n",
      "75%          2.00\n",
      "max          3.50\n",
      "Name: floors, dtype: float64\n",
      "\n",
      "No Nulls Found!\n",
      "\n",
      "Non-Null Value Counts:\n",
      "1.0    10673\n",
      "2.0     8235\n",
      "1.5     1910\n",
      "3.0      611\n",
      "2.5      161\n",
      "3.5        7\n",
      "Name: floors, dtype: int64\n",
      "\n",
      "# Unique Values: 6\n",
      "\n"
     ]
    }
   ],
   "source": [
    "hot_stats(df, 'floors')"
   ]
  },
  {
   "cell_type": "markdown",
   "metadata": {},
   "source": [
    "Although you could theoretically have any number of floors, this really should be treated as a category (i.e. contains finite possible values). Assuming this is probably true for the other interior features (bedrooms, bathrooms). Let's look at a scatter plot using the sub_scatter function."
   ]
  },
  {
   "cell_type": "code",
   "execution_count": 226,
   "metadata": {},
   "outputs": [],
   "source": [
    "# pass a list of features into xcols and compare against the target (or another feature)\n",
    "#C839C5 = magenta\n",
    "def sub_scatter(x_cols, y):\n",
    "    fig, axes = plt.subplots(nrows=len(x_cols)%2, ncols=len(x_cols), figsize=(16,4))\n",
    "    for x_col, ax in zip(x_cols, axes):\n",
    "        df.plot(kind='scatter', x=x_col, y=y, ax=ax, color='#C839C5')"
   ]
  },
  {
   "cell_type": "code",
   "execution_count": 227,
   "metadata": {},
   "outputs": [
    {
     "data": {
      "image/png": "[encoded data removed]",
      "text/plain": [
       "<Figure size 1152x288 with 3 Axes>"
      ]
     },
     "metadata": {
      "needs_background": "light"
     },
     "output_type": "display_data"
    }
   ],
   "source": [
    "y = 'price'\n",
    "x_cols = ['floors','bedrooms', 'bathrooms']\n",
    "\n",
    "sub_scatter(x_cols, y)"
   ]
  },
  {
   "cell_type": "code",
   "execution_count": 230,
   "metadata": {},
   "outputs": [
    {
     "data": {
      "text/plain": [
       "CategoricalDtype(categories=[1.0, 1.5, 2.0, 2.5, 3.0, 3.5], ordered=False)"
      ]
     },
     "execution_count": 230,
     "metadata": {},
     "output_type": "execute_result"
    }
   ],
   "source": [
    "# Recast floors, bedrooms, and bathrooms as categories\n",
    "df['floors'] = df['floors'].astype('category')\n",
    "\n",
    "# verify\n",
    "df['floors'].dtype"
   ]
  },
  {
   "cell_type": "markdown",
   "metadata": {},
   "source": [
    "#### ['bedrooms']"
   ]
  },
  {
   "cell_type": "code",
   "execution_count": 228,
   "metadata": {},
   "outputs": [
    {
     "name": "stdout",
     "output_type": "stream",
     "text": [
      "--------->\n",
      "HOT STATS\n",
      "<--------\n",
      "\n",
      "BEDROOMS\n",
      "Data Type: int64\n",
      "\n",
      "count    21597.000000\n",
      "mean         3.373200\n",
      "std          0.926299\n",
      "min          1.000000\n",
      "25%          3.000000\n",
      "50%          3.000000\n",
      "75%          4.000000\n",
      "max         33.000000\n",
      "Name: bedrooms, dtype: float64\n",
      "\n",
      "No Nulls Found!\n",
      "\n",
      "Non-Null Value Counts:\n",
      "3     9824\n",
      "4     6882\n",
      "2     2760\n",
      "5     1601\n",
      "6      272\n",
      "1      196\n",
      "7       38\n",
      "8       13\n",
      "9        6\n",
      "10       3\n",
      "11       1\n",
      "33       1\n",
      "Name: bedrooms, dtype: int64\n",
      "\n",
      "# Unique Values: 12\n",
      "\n"
     ]
    }
   ],
   "source": [
    "hot_stats(df, 'bedrooms')"
   ]
  },
  {
   "cell_type": "code",
   "execution_count": 232,
   "metadata": {},
   "outputs": [
    {
     "data": {
      "text/plain": [
       "CategoricalDtype(categories=[1, 2, 3, 4, 5, 6, 7, 8, 9, 10, 11, 33], ordered=False)"
      ]
     },
     "execution_count": 232,
     "metadata": {},
     "output_type": "execute_result"
    }
   ],
   "source": [
    "# convert bedrooms to category\n",
    "df['bedrooms'] = df['bedrooms'].astype('category')\n",
    "\n",
    "# verify\n",
    "df['bedrooms'].dtype"
   ]
  },
  {
   "cell_type": "markdown",
   "metadata": {},
   "source": [
    "#### ['bathrooms']"
   ]
  },
  {
   "cell_type": "code",
   "execution_count": 233,
   "metadata": {},
   "outputs": [
    {
     "name": "stdout",
     "output_type": "stream",
     "text": [
      "--------->\n",
      "HOT STATS\n",
      "<--------\n",
      "\n",
      "BATHROOMS\n",
      "Data Type: float64\n",
      "\n",
      "count    21597.00\n",
      "mean         2.12\n",
      "std          0.77\n",
      "min          0.50\n",
      "25%          1.75\n",
      "50%          2.25\n",
      "75%          2.50\n",
      "max          8.00\n",
      "Name: bathrooms, dtype: float64\n",
      "\n",
      "No Nulls Found!\n",
      "\n",
      "Non-Null Value Counts:\n",
      "2.50    5377\n",
      "1.00    3851\n",
      "1.75    3048\n",
      "2.25    2047\n",
      "2.00    1930\n",
      "1.50    1445\n",
      "2.75    1185\n",
      "3.00     753\n",
      "3.50     731\n",
      "3.25     589\n",
      "3.75     155\n",
      "4.00     136\n",
      "4.50     100\n",
      "4.25      79\n",
      "0.75      71\n",
      "4.75      23\n",
      "5.00      21\n",
      "5.25      13\n",
      "5.50      10\n",
      "1.25       9\n",
      "6.00       6\n",
      "5.75       4\n",
      "0.50       4\n",
      "8.00       2\n",
      "6.25       2\n",
      "6.75       2\n",
      "6.50       2\n",
      "7.50       1\n",
      "7.75       1\n",
      "Name: bathrooms, dtype: int64\n",
      "\n",
      "# Unique Values: 29\n",
      "\n"
     ]
    }
   ],
   "source": [
    "hot_stats(df, 'bathrooms')"
   ]
  },
  {
   "cell_type": "code",
   "execution_count": 234,
   "metadata": {},
   "outputs": [
    {
     "data": {
      "text/plain": [
       "CategoricalDtype(categories=[ 0.5, 0.75,  1.0, 1.25,  1.5, 1.75,  2.0, 2.25,  2.5, 2.75,\n",
       "                   3.0, 3.25,  3.5, 3.75,  4.0, 4.25,  4.5, 4.75,  5.0, 5.25,\n",
       "                   5.5, 5.75,  6.0, 6.25,  6.5, 6.75,  7.5, 7.75,  8.0],\n",
       "                 ordered=False)"
      ]
     },
     "execution_count": 234,
     "metadata": {},
     "output_type": "execute_result"
    }
   ],
   "source": [
    "# convert bathrooms to category\n",
    "df['bathrooms'] = df['bathrooms'].astype('category')\n",
    "\n",
    "# verify\n",
    "df['bathrooms'].dtype"
   ]
  },
  {
   "cell_type": "markdown",
   "metadata": {},
   "source": [
    "### Categories - Ordinal"
   ]
  },
  {
   "cell_type": "markdown",
   "metadata": {},
   "source": [
    "#### ['zipcode']"
   ]
  },
  {
   "cell_type": "code",
   "execution_count": 235,
   "metadata": {},
   "outputs": [
    {
     "name": "stdout",
     "output_type": "stream",
     "text": [
      "--------->\n",
      "HOT STATS\n",
      "<--------\n",
      "\n",
      "ZIPCODE\n",
      "Data Type: int64\n",
      "\n",
      "count    21597.000000\n",
      "mean     98077.951845\n",
      "std         53.513072\n",
      "min      98001.000000\n",
      "25%      98033.000000\n",
      "50%      98065.000000\n",
      "75%      98118.000000\n",
      "max      98199.000000\n",
      "Name: zipcode, dtype: float64\n",
      "\n",
      "No Nulls Found!\n",
      "\n",
      "Non-Null Value Counts:\n",
      "98103    602\n",
      "98038    589\n",
      "98115    583\n",
      "98052    574\n",
      "98117    553\n",
      "        ... \n",
      "98102    104\n",
      "98010    100\n",
      "98024     80\n",
      "98148     57\n",
      "98039     50\n",
      "Name: zipcode, Length: 70, dtype: int64\n",
      "\n",
      "# Unique Values: 70\n",
      "\n"
     ]
    }
   ],
   "source": [
    "hot_stats(df, 'zipcode')"
   ]
  },
  {
   "cell_type": "code",
   "execution_count": 239,
   "metadata": {},
   "outputs": [
    {
     "data": {
      "text/plain": [
       "Text(0, 0.5, 'Frequency')"
      ]
     },
     "execution_count": 239,
     "metadata": {},
     "output_type": "execute_result"
    },
    {
     "data": {
      "image/png": "[encoded data removed]",
      "text/plain": [
       "<Figure size 432x288 with 1 Axes>"
      ]
     },
     "metadata": {
      "needs_background": "light"
     },
     "output_type": "display_data"
    }
   ],
   "source": [
    "# There are 70 unique zipcode values\n",
    "# Let's look at the data distribution of zipcode values \n",
    "fig, ax = plt.subplots()\n",
    "df['zipcode'].hist(bins=7, color='#67F86F',\n",
    "edgecolor='black', grid=True)\n",
    "ax.set_title('Zipcode Histogram', fontsize=16)\n",
    "ax.set_xlabel('Zipcodes', fontsize=12)\n",
    "ax.set_ylabel('Frequency', fontsize=12)"
   ]
  },
  {
   "cell_type": "code",
   "execution_count": 240,
   "metadata": {},
   "outputs": [
    {
     "data": {
      "text/plain": [
       "0.00    98001.0\n",
       "0.25    98033.0\n",
       "0.50    98065.0\n",
       "0.75    98118.0\n",
       "1.00    98199.0\n",
       "Name: zipcode, dtype: float64"
      ]
     },
     "execution_count": 240,
     "metadata": {},
     "output_type": "execute_result"
    }
   ],
   "source": [
    "# Let’s define a binning scheme with custom ranges for the zipcode values \n",
    "# The bins will be created based on quantiles\n",
    "\n",
    "quantile_list = [0, .25, .5, .75, 1.]\n",
    "\n",
    "quantiles = df['zipcode'].quantile(quantile_list)\n",
    "\n",
    "quantiles # 98001, 98033, 98065, 98118, 98199"
   ]
  },
  {
   "cell_type": "code",
   "execution_count": 241,
   "metadata": {},
   "outputs": [
    {
     "data": {
      "text/html": [
       "<div>\n",
       "<style scoped>\n",
       "    .dataframe tbody tr th:only-of-type {\n",
       "        vertical-align: middle;\n",
       "    }\n",
       "\n",
       "    .dataframe tbody tr th {\n",
       "        vertical-align: top;\n",
       "    }\n",
       "\n",
       "    .dataframe thead th {\n",
       "        text-align: right;\n",
       "    }\n",
       "</style>\n",
       "<table border=\"1\" class=\"dataframe\">\n",
       "  <thead>\n",
       "    <tr style=\"text-align: right;\">\n",
       "      <th></th>\n",
       "      <th>zipcode</th>\n",
       "      <th>zip_cat</th>\n",
       "      <th>zip_range</th>\n",
       "    </tr>\n",
       "  </thead>\n",
       "  <tbody>\n",
       "    <tr>\n",
       "      <td>9000</td>\n",
       "      <td>98092</td>\n",
       "      <td>3</td>\n",
       "      <td>(98065, 98118]</td>\n",
       "    </tr>\n",
       "    <tr>\n",
       "      <td>9001</td>\n",
       "      <td>98117</td>\n",
       "      <td>3</td>\n",
       "      <td>(98065, 98118]</td>\n",
       "    </tr>\n",
       "    <tr>\n",
       "      <td>9002</td>\n",
       "      <td>98144</td>\n",
       "      <td>4</td>\n",
       "      <td>(98118, 98200]</td>\n",
       "    </tr>\n",
       "    <tr>\n",
       "      <td>9003</td>\n",
       "      <td>98038</td>\n",
       "      <td>2</td>\n",
       "      <td>(98033, 98065]</td>\n",
       "    </tr>\n",
       "    <tr>\n",
       "      <td>9004</td>\n",
       "      <td>98004</td>\n",
       "      <td>1</td>\n",
       "      <td>(98000, 98033]</td>\n",
       "    </tr>\n",
       "  </tbody>\n",
       "</table>\n",
       "</div>"
      ],
      "text/plain": [
       "      zipcode zip_cat       zip_range\n",
       "9000    98092       3  (98065, 98118]\n",
       "9001    98117       3  (98065, 98118]\n",
       "9002    98144       4  (98118, 98200]\n",
       "9003    98038       2  (98033, 98065]\n",
       "9004    98004       1  (98000, 98033]"
      ]
     },
     "execution_count": 241,
     "metadata": {},
     "output_type": "execute_result"
    }
   ],
   "source": [
    "# Now we can label the bins for each value and store both the bin range \n",
    "# and its corresponding label.\n",
    "\n",
    "zip_bins = [98000, 98033, 98065, 98118, 98200]\n",
    "\n",
    "zip_labels = [1, 2, 3, 4]\n",
    "\n",
    "df['zip_range'] = pd.cut(df['zipcode'], bins=zip_bins)\n",
    "\n",
    "df['zip_cat'] = pd.cut(df['zipcode'], bins=zip_bins, labels=zip_labels)\n",
    "\n",
    "# view the binned features \n",
    "df[['zipcode','zip_cat', 'zip_range']].iloc[9000:9005] # pick a random index"
   ]
  },
  {
   "cell_type": "code",
   "execution_count": 247,
   "metadata": {},
   "outputs": [
    {
     "data": {
      "image/png": "[encoded data removed]",
      "text/plain": [
       "<Figure size 432x288 with 1 Axes>"
      ]
     },
     "metadata": {
      "needs_background": "light"
     },
     "output_type": "display_data"
    }
   ],
   "source": [
    "# visualize the quantiles in the original distribution histogram\n",
    "\n",
    "fig, ax = plt.subplots()\n",
    "\n",
    "df['zipcode'].hist(bins=7, color='#67F86F', edgecolor='black', grid=True)\n",
    "for quantile in quantiles:\n",
    "    qvl = plt.axvline(quantile, color='black')\n",
    "    ax.legend([qvl], ['Quantiles'], fontsize=10)\n",
    "    ax.set_title('Zipcode Histogram with Quantiles',fontsize=12)\n",
    "    ax.set_xlabel('Zipcodes', fontsize=12)\n",
    "    ax.set_ylabel('Frequency', fontsize=12)"
   ]
  },
  {
   "cell_type": "markdown",
   "metadata": {},
   "source": [
    "#### ['lat']  ['long']"
   ]
  },
  {
   "cell_type": "code",
   "execution_count": 113,
   "metadata": {},
   "outputs": [],
   "source": [
    "# lmplot\n",
    "\n",
    "#68FDFE = cyan\n",
    "#20C5C6 = lightcyan\n",
    "#67F86F = lightgreen\n",
    "#FD6F6B = lightred\n",
    "#FD7CFC = magenta"
   ]
  },
  {
   "cell_type": "code",
   "execution_count": 115,
   "metadata": {},
   "outputs": [],
   "source": [
    "# convert to binned categories"
   ]
  },
  {
   "cell_type": "markdown",
   "metadata": {},
   "source": [
    "#### ['condition']"
   ]
  },
  {
   "cell_type": "code",
   "execution_count": 248,
   "metadata": {},
   "outputs": [
    {
     "name": "stdout",
     "output_type": "stream",
     "text": [
      "--------->\n",
      "HOT STATS\n",
      "<--------\n",
      "\n",
      "CONDITION\n",
      "Data Type: int64\n",
      "\n",
      "count    21597.000000\n",
      "mean         3.409825\n",
      "std          0.650546\n",
      "min          1.000000\n",
      "25%          3.000000\n",
      "50%          3.000000\n",
      "75%          4.000000\n",
      "max          5.000000\n",
      "Name: condition, dtype: float64\n",
      "\n",
      "No Nulls Found!\n",
      "\n",
      "Non-Null Value Counts:\n",
      "3    14020\n",
      "4     5677\n",
      "5     1701\n",
      "2      170\n",
      "1       29\n",
      "Name: condition, dtype: int64\n",
      "\n",
      "# Unique Values: 5\n",
      "\n"
     ]
    }
   ],
   "source": [
    "hot_stats(df, 'condition')"
   ]
  },
  {
   "cell_type": "code",
   "execution_count": 249,
   "metadata": {},
   "outputs": [
    {
     "data": {
      "text/plain": [
       "CategoricalDtype(categories=[1, 2, 3, 4, 5], ordered=False)"
      ]
     },
     "execution_count": 249,
     "metadata": {},
     "output_type": "execute_result"
    }
   ],
   "source": [
    "# Condition should be treated as ordinal\n",
    "# since there is a relationship between the values (scale ranking from 1 to 5)\n",
    "\n",
    "# Recast condition as a category\n",
    "df['condition'] = df['condition'].astype('category')\n",
    "\n",
    "# verify\n",
    "df['condition'].dtype"
   ]
  },
  {
   "cell_type": "markdown",
   "metadata": {},
   "source": [
    "#### ['grade']"
   ]
  },
  {
   "cell_type": "code",
   "execution_count": 250,
   "metadata": {},
   "outputs": [
    {
     "name": "stdout",
     "output_type": "stream",
     "text": [
      "--------->\n",
      "HOT STATS\n",
      "<--------\n",
      "\n",
      "GRADE\n",
      "Data Type: int64\n",
      "\n",
      "count    21597.000000\n",
      "mean         7.657915\n",
      "std          1.173200\n",
      "min          3.000000\n",
      "25%          7.000000\n",
      "50%          7.000000\n",
      "75%          8.000000\n",
      "max         13.000000\n",
      "Name: grade, dtype: float64\n",
      "\n",
      "No Nulls Found!\n",
      "\n",
      "Non-Null Value Counts:\n",
      "7     8974\n",
      "8     6065\n",
      "9     2615\n",
      "6     2038\n",
      "10    1134\n",
      "11     399\n",
      "5      242\n",
      "12      89\n",
      "4       27\n",
      "13      13\n",
      "3        1\n",
      "Name: grade, dtype: int64\n",
      "\n",
      "# Unique Values: 11\n",
      "\n"
     ]
    },
    {
     "data": {
      "text/plain": [
       "CategoricalDtype(categories=[1, 2, 3, 4, 5], ordered=False)"
      ]
     },
     "execution_count": 250,
     "metadata": {},
     "output_type": "execute_result"
    }
   ],
   "source": [
    "# View grade stats\n",
    "hot_stats(df, 'grade')"
   ]
  },
  {
   "cell_type": "code",
   "execution_count": 251,
   "metadata": {},
   "outputs": [
    {
     "data": {
      "text/plain": [
       "CategoricalDtype(categories=[3, 4, 5, 6, 7, 8, 9, 10, 11, 12, 13], ordered=False)"
      ]
     },
     "execution_count": 251,
     "metadata": {},
     "output_type": "execute_result"
    }
   ],
   "source": [
    "# Grade should also be treated as ordinal since it is a ranked scale like condition\n",
    "\n",
    "# Recast grade as a category\n",
    "df['grade'] = df['grade'].astype('category')\n",
    "\n",
    "# verify\n",
    "df['grade'].dtype"
   ]
  },
  {
   "cell_type": "markdown",
   "metadata": {},
   "source": [
    "---\n",
    "### Objects\n",
    "We need to convert the datatypes of numeric values currently stored as objects. This will allow us to include them in the preliminary exploration and analysis. \n",
    "\n",
    "    * date -> recast as datetime\n",
    "    * sqft_basement -> recast as float\n",
    "\n",
    "#### ['date'] \n",
    "convert to datetime"
   ]
  },
  {
   "cell_type": "code",
   "execution_count": 252,
   "metadata": {},
   "outputs": [
    {
     "data": {
      "text/plain": [
       "dtype('<M8[ns]')"
      ]
     },
     "execution_count": 252,
     "metadata": {},
     "output_type": "execute_result"
    }
   ],
   "source": [
    "df['date'] = pd.to_datetime(df['date'])\n",
    "df['date'].dtype"
   ]
  },
  {
   "cell_type": "code",
   "execution_count": 253,
   "metadata": {},
   "outputs": [
    {
     "name": "stdout",
     "output_type": "stream",
     "text": [
      "--------->\n",
      "HOT STATS\n",
      "<--------\n",
      "\n",
      "DATE\n",
      "Data Type: datetime64[ns]\n",
      "\n",
      "min   2014-05-02\n",
      "max   2015-05-27\n",
      "Name: date, dtype: datetime64[ns]\n",
      "\n",
      "No Nulls Found!\n",
      "\n",
      "Non-Null Value Counts:\n",
      "2014-06-23    142\n",
      "2014-06-25    131\n",
      "2014-06-26    131\n",
      "2014-07-08    127\n",
      "2015-04-27    126\n",
      "             ... \n",
      "2014-07-27      1\n",
      "2015-03-08      1\n",
      "2014-11-02      1\n",
      "2015-05-15      1\n",
      "2015-05-24      1\n",
      "Name: date, Length: 372, dtype: int64\n",
      "\n",
      "# Unique Values: 372\n",
      "\n"
     ]
    }
   ],
   "source": [
    "hot_stats(df, 'date')"
   ]
  },
  {
   "cell_type": "markdown",
   "metadata": {},
   "source": [
    "### Continuous\n",
    "\n",
    "* SQUARE-FOOTAGE\n",
    "\n",
    "Redundancy check: is there any overlap in the measurements?\n",
    "\n",
    "* sqft_living = sqft_basement + sqft_above ?\n",
    "* sqft_lot - sqft_living = sqft_above ?\n",
    "\n",
    "\n",
    "**Continuous Variables:**\n",
    "a continuous variable can take on any value within a range\n",
    "\n",
    "* **sqft_living** --> highest corr : price (before transformation/scaling); most normal distribution\n",
    "* sqft_lot --> not normal distribution\n",
    "* sqft_living15 #Highly skewed\n",
    "* sqft_lot15 #Highly skewed\n",
    "* sqft_above #High corr with sqft_living\n",
    "* sqft_basement #Very high number of null values --> treat '0' = no basement?\n"
   ]
  },
  {
   "cell_type": "markdown",
   "metadata": {},
   "source": [
    "#### ['sqft_basement']"
   ]
  },
  {
   "cell_type": "code",
   "execution_count": 254,
   "metadata": {},
   "outputs": [
    {
     "name": "stdout",
     "output_type": "stream",
     "text": [
      "--------->\n",
      "HOT STATS\n",
      "<--------\n",
      "\n",
      "SQFT_BASEMENT\n",
      "Data Type: object\n",
      "\n",
      "min    0.0\n",
      "max      ?\n",
      "Name: sqft_basement, dtype: object\n",
      "\n",
      "No Nulls Found!\n",
      "\n",
      "Non-Null Value Counts:\n",
      "0.0       12826\n",
      "?           454\n",
      "600.0       217\n",
      "500.0       209\n",
      "700.0       208\n",
      "          ...  \n",
      "243.0         1\n",
      "2130.0        1\n",
      "1880.0        1\n",
      "2190.0        1\n",
      "2610.0        1\n",
      "Name: sqft_basement, Length: 304, dtype: int64\n",
      "\n",
      "# Unique Values: 304\n",
      "\n"
     ]
    }
   ],
   "source": [
    "# let's figure out what datatype is more appropriate for sqft_basement\n",
    "hot_stats(df, 'sqft_basement')"
   ]
  },
  {
   "cell_type": "code",
   "execution_count": 255,
   "metadata": {},
   "outputs": [],
   "source": [
    "# Note the majority of the values are zero...we could bin this as a binary \n",
    "# where the property either has a basement or does not...\n",
    "\n",
    "# For now we'll replace '?'s with string value '0.0'\n",
    "df.sqft_basement.replace(to_replace='?', value='0.0', inplace=True)"
   ]
  },
  {
   "cell_type": "code",
   "execution_count": 256,
   "metadata": {},
   "outputs": [],
   "source": [
    "# and change datatype to float.\n",
    "df['sqft_basement'] = df['sqft_basement'].astype('float')"
   ]
  },
  {
   "cell_type": "code",
   "execution_count": 257,
   "metadata": {},
   "outputs": [
    {
     "name": "stdout",
     "output_type": "stream",
     "text": [
      "--------->\n",
      "HOT STATS\n",
      "<--------\n",
      "\n",
      "SQFT_BASEMENT\n",
      "Data Type: float64\n",
      "\n",
      "count    21597.00\n",
      "mean       285.72\n",
      "std        439.82\n",
      "min          0.00\n",
      "25%          0.00\n",
      "50%          0.00\n",
      "75%        550.00\n",
      "max       4820.00\n",
      "Name: sqft_basement, dtype: float64\n",
      "\n",
      "No Nulls Found!\n",
      "\n",
      "Non-Null Value Counts:\n",
      "0.0       13280\n",
      "600.0       217\n",
      "500.0       209\n",
      "700.0       208\n",
      "800.0       201\n",
      "          ...  \n",
      "915.0         1\n",
      "295.0         1\n",
      "1281.0        1\n",
      "2130.0        1\n",
      "906.0         1\n",
      "Name: sqft_basement, Length: 303, dtype: int64\n",
      "\n",
      "# Unique Values: 303\n",
      "\n"
     ]
    }
   ],
   "source": [
    "# re-run hot_stats\n",
    "hot_stats(df, 'sqft_basement')"
   ]
  },
  {
   "cell_type": "markdown",
   "metadata": {},
   "source": [
    "That's much better. Although, lot's of zeros could be a problem. Let's check out the other square-footage features and see if those might be more useful (possibly we can change it has_basement binary or just drop basement altogether). "
   ]
  },
  {
   "cell_type": "markdown",
   "metadata": {},
   "source": [
    "#### ['sqft_above']"
   ]
  },
  {
   "cell_type": "code",
   "execution_count": 258,
   "metadata": {},
   "outputs": [
    {
     "name": "stdout",
     "output_type": "stream",
     "text": [
      "--------->\n",
      "HOT STATS\n",
      "<--------\n",
      "\n",
      "SQFT_ABOVE\n",
      "Data Type: int64\n",
      "\n",
      "count    21597.000000\n",
      "mean      1788.596842\n",
      "std        827.759761\n",
      "min        370.000000\n",
      "25%       1190.000000\n",
      "50%       1560.000000\n",
      "75%       2210.000000\n",
      "max       9410.000000\n",
      "Name: sqft_above, dtype: float64\n",
      "\n",
      "No Nulls Found!\n",
      "\n",
      "Non-Null Value Counts:\n",
      "1300    212\n",
      "1010    210\n",
      "1200    206\n",
      "1220    192\n",
      "1140    184\n",
      "       ... \n",
      "2601      1\n",
      "440       1\n",
      "2473      1\n",
      "2441      1\n",
      "1975      1\n",
      "Name: sqft_above, Length: 942, dtype: int64\n",
      "\n",
      "# Unique Values: 942\n",
      "\n"
     ]
    }
   ],
   "source": [
    "hot_stats(df, 'sqft_above')"
   ]
  },
  {
   "cell_type": "markdown",
   "metadata": {},
   "source": [
    "#### ['sqft_living']"
   ]
  },
  {
   "cell_type": "code",
   "execution_count": 259,
   "metadata": {},
   "outputs": [
    {
     "name": "stdout",
     "output_type": "stream",
     "text": [
      "--------->\n",
      "HOT STATS\n",
      "<--------\n",
      "\n",
      "SQFT_LIVING\n",
      "Data Type: int64\n",
      "\n",
      "count    21597.000000\n",
      "mean      2080.321850\n",
      "std        918.106125\n",
      "min        370.000000\n",
      "25%       1430.000000\n",
      "50%       1910.000000\n",
      "75%       2550.000000\n",
      "max      13540.000000\n",
      "Name: sqft_living, dtype: float64\n",
      "\n",
      "No Nulls Found!\n",
      "\n",
      "Non-Null Value Counts:\n",
      "1300    138\n",
      "1400    135\n",
      "1440    133\n",
      "1660    129\n",
      "1010    129\n",
      "       ... \n",
      "4970      1\n",
      "2905      1\n",
      "2793      1\n",
      "4810      1\n",
      "1975      1\n",
      "Name: sqft_living, Length: 1034, dtype: int64\n",
      "\n",
      "# Unique Values: 1034\n",
      "\n"
     ]
    }
   ],
   "source": [
    "hot_stats(df, 'sqft_living')"
   ]
  },
  {
   "cell_type": "code",
   "execution_count": 263,
   "metadata": {},
   "outputs": [
    {
     "data": {
      "text/plain": [
       "array([ True,  True,  True, ...,  True,  True,  True])"
      ]
     },
     "execution_count": 263,
     "metadata": {},
     "output_type": "execute_result"
    }
   ],
   "source": [
    "# QUESTION: Is there any overlap in the square footage measurements?\n",
    "# sqft_living == sqft_basement + sqft_above ?\n",
    "# sqft_lot - sqft_living == sqft_above ?\n",
    "\n",
    "sqft_lv = np.array(df['sqft_living'])\n",
    "sqft_ab = np.array(df['sqft_above'])\n",
    "sqft_bs = np.array(df['sqft_basement'])\n",
    "\n",
    "sqft_ab + sqft_bs == sqft_lv #array([ True,  True,  True, ...,  True,  True,  True])"
   ]
  },
  {
   "cell_type": "code",
   "execution_count": 270,
   "metadata": {},
   "outputs": [
    {
     "name": "stdout",
     "output_type": "stream",
     "text": [
      "1180\n",
      "1180.0\n",
      "2570\n",
      "2570.0\n"
     ]
    }
   ],
   "source": [
    "print(df['sqft_living'].iloc[0]) #1180\n",
    "print(df['sqft_above'].iloc[0] + df['sqft_basement'].iloc[0]) #1180\n",
    "\n",
    "print(df['sqft_living'].iloc[1]) #2570\n",
    "print(df['sqft_above'].iloc[1] + df['sqft_basement'].iloc[1]) #2570"
   ]
  },
  {
   "cell_type": "code",
   "execution_count": 271,
   "metadata": {},
   "outputs": [
    {
     "name": "stdout",
     "output_type": "stream",
     "text": [
      "True\n"
     ]
    }
   ],
   "source": [
    "# we don't need sqft_basement or sqft_above; let's drop them and keep sqft_living\n",
    "if sqft_ab.all() + sqft_bs.all() == sqft_lv.all():\n",
    "    print(\"True\")"
   ]
  },
  {
   "cell_type": "code",
   "execution_count": null,
   "metadata": {},
   "outputs": [],
   "source": [
    "# do some plots!"
   ]
  },
  {
   "cell_type": "code",
   "execution_count": null,
   "metadata": {},
   "outputs": [],
   "source": [
    "# create variables for each seris you want to pass into the xcols list and compare them against one\n",
    "y_sub = 'sqft_living'\n",
    "sqft_sub = ['sqft_living15','sqft_above', 'sqft_lot', 'sqft_lot15']\n",
    "\n",
    "def sub_scatter(xcols, y):\n",
    "    fig, axes = plt.subplots(nrows=1, ncols=4, figsize=(16,3))\n",
    "    for xcol, ax in zip(xcols, axes):\n",
    "        df.plot(kind='scatter', x=xcol, y=y, ax=ax, alpha=0.7, color='b')\n",
    "sub_scatter(sqft_sub, y_sub)"
   ]
  },
  {
   "cell_type": "markdown",
   "metadata": {},
   "source": [
    "#### ['sqft_lot']\n",
    "#### ['sqft_lot15']\n",
    "#### ['sqft_living15']"
   ]
  },
  {
   "cell_type": "code",
   "execution_count": 287,
   "metadata": {},
   "outputs": [
    {
     "name": "stdout",
     "output_type": "stream",
     "text": [
      "--------->\n",
      "HOT STATS\n",
      "<--------\n",
      "\n",
      "SQFT_LOT\n",
      "Data Type: int64\n",
      "\n",
      "count    2.142000e+04\n",
      "mean     1.512804e+04\n",
      "std      4.153080e+04\n",
      "min      5.200000e+02\n",
      "25%      5.040000e+03\n",
      "50%      7.614000e+03\n",
      "75%      1.069050e+04\n",
      "max      1.651359e+06\n",
      "Name: sqft_lot, dtype: float64\n",
      "\n",
      "No Nulls Found!\n",
      "\n",
      "Non-Null Value Counts:\n",
      "5000      355\n",
      "6000      286\n",
      "4000      249\n",
      "7200      218\n",
      "7500      118\n",
      "         ... \n",
      "9133        1\n",
      "64438       1\n",
      "953         1\n",
      "969         1\n",
      "315374      1\n",
      "Name: sqft_lot, Length: 9776, dtype: int64\n",
      "\n",
      "# Unique Values: 9776\n",
      "\n"
     ]
    }
   ],
   "source": [
    "hot_stats(df, 'sqft_lot')"
   ]
  },
  {
   "cell_type": "code",
   "execution_count": 288,
   "metadata": {},
   "outputs": [
    {
     "name": "stdout",
     "output_type": "stream",
     "text": [
      "--------->\n",
      "HOT STATS\n",
      "<--------\n",
      "\n",
      "SQFT_LOT15\n",
      "Data Type: int64\n",
      "\n",
      "count     21420.000000\n",
      "mean      12775.718161\n",
      "std       27345.621867\n",
      "min         651.000000\n",
      "25%        5100.000000\n",
      "50%        7620.000000\n",
      "75%       10086.250000\n",
      "max      871200.000000\n",
      "Name: sqft_lot15, dtype: float64\n",
      "\n",
      "No Nulls Found!\n",
      "\n",
      "Non-Null Value Counts:\n",
      "5000     425\n",
      "4000     354\n",
      "6000     285\n",
      "7200     209\n",
      "4800     144\n",
      "        ... \n",
      "11068      1\n",
      "21315      1\n",
      "35656      1\n",
      "13135      1\n",
      "6147       1\n",
      "Name: sqft_lot15, Length: 8682, dtype: int64\n",
      "\n",
      "# Unique Values: 8682\n",
      "\n"
     ]
    }
   ],
   "source": [
    "hot_stats(df, 'sqft_lot15')"
   ]
  },
  {
   "cell_type": "code",
   "execution_count": 289,
   "metadata": {},
   "outputs": [
    {
     "name": "stdout",
     "output_type": "stream",
     "text": [
      "--------->\n",
      "HOT STATS\n",
      "<--------\n",
      "\n",
      "SQFT_LIVING15\n",
      "Data Type: int64\n",
      "\n",
      "count    21420.000000\n",
      "mean      1988.384080\n",
      "std        685.537057\n",
      "min        399.000000\n",
      "25%       1490.000000\n",
      "50%       1840.000000\n",
      "75%       2370.000000\n",
      "max       6210.000000\n",
      "Name: sqft_living15, dtype: float64\n",
      "\n",
      "No Nulls Found!\n",
      "\n",
      "Non-Null Value Counts:\n",
      "1540    193\n",
      "1560    190\n",
      "1440    190\n",
      "1500    178\n",
      "1460    168\n",
      "       ... \n",
      "4890      1\n",
      "2873      1\n",
      "952       1\n",
      "3193      1\n",
      "2049      1\n",
      "Name: sqft_living15, Length: 777, dtype: int64\n",
      "\n",
      "# Unique Values: 777\n",
      "\n"
     ]
    }
   ],
   "source": [
    "hot_stats(df, 'sqft_living15')"
   ]
  },
  {
   "cell_type": "code",
   "execution_count": 290,
   "metadata": {},
   "outputs": [],
   "source": [
    "# do some plots!"
   ]
  },
  {
   "cell_type": "markdown",
   "metadata": {},
   "source": [
    "### Index"
   ]
  },
  {
   "cell_type": "markdown",
   "metadata": {},
   "source": [
    "#### ['id']"
   ]
  },
  {
   "cell_type": "code",
   "execution_count": 272,
   "metadata": {},
   "outputs": [
    {
     "name": "stdout",
     "output_type": "stream",
     "text": [
      "--------->\n",
      "HOT STATS\n",
      "<--------\n",
      "\n",
      "ID\n",
      "Data Type: int64\n",
      "\n",
      "count    2.159700e+04\n",
      "mean     4.580474e+09\n",
      "std      2.876736e+09\n",
      "min      1.000102e+06\n",
      "25%      2.123049e+09\n",
      "50%      3.904930e+09\n",
      "75%      7.308900e+09\n",
      "max      9.900000e+09\n",
      "Name: id, dtype: float64\n",
      "\n",
      "No Nulls Found!\n",
      "\n",
      "Non-Null Value Counts:\n",
      "795000620     3\n",
      "1825069031    2\n",
      "2019200220    2\n",
      "7129304540    2\n",
      "1781500435    2\n",
      "             ..\n",
      "7812801125    1\n",
      "4364700875    1\n",
      "3021059276    1\n",
      "880000205     1\n",
      "1777500160    1\n",
      "Name: id, Length: 21420, dtype: int64\n",
      "\n",
      "# Unique Values: 21420\n",
      "\n"
     ]
    }
   ],
   "source": [
    "hot_stats(df, 'id')"
   ]
  },
  {
   "cell_type": "markdown",
   "metadata": {},
   "source": [
    "The primary key we'd use as an index for this data set would be 'id'. Our assumption therefore is that the 'id' for each observation (row) is unique. Let's do a quick scan for duplicate entries to confirm this is true."
   ]
  },
  {
   "cell_type": "code",
   "execution_count": 273,
   "metadata": {},
   "outputs": [
    {
     "data": {
      "text/plain": [
       "False    21420\n",
       "True       177\n",
       "Name: id, dtype: int64"
      ]
     },
     "execution_count": 273,
     "metadata": {},
     "output_type": "execute_result"
    }
   ],
   "source": [
    "# check for duplicate id's\n",
    "df['id'].duplicated().value_counts() "
   ]
  },
  {
   "cell_type": "code",
   "execution_count": 274,
   "metadata": {},
   "outputs": [
    {
     "data": {
      "text/plain": [
       "1.0    353\n",
       "Name: is_dupe, dtype: int64"
      ]
     },
     "execution_count": 274,
     "metadata": {},
     "output_type": "execute_result"
    }
   ],
   "source": [
    "# Looks like there are in fact some duplicate ID's! Not many, but worth investigating.\n",
    "\n",
    "# Let's flag the duplicate id's by creating a new column 'is_dupe':\n",
    "df.loc[df.duplicated(subset='id', keep=False), 'is_dupe'] = 1 # mark all duplicates \n",
    "\n",
    "# verify all duplicates were flagged\n",
    "df.is_dupe.value_counts() # 353"
   ]
  },
  {
   "cell_type": "code",
   "execution_count": 275,
   "metadata": {},
   "outputs": [
    {
     "data": {
      "text/plain": [
       "21244"
      ]
     },
     "execution_count": 275,
     "metadata": {},
     "output_type": "execute_result"
    }
   ],
   "source": [
    "# the non-duplicate rows show as null in our new column\n",
    "df.is_dupe.isna().sum()"
   ]
  },
  {
   "cell_type": "code",
   "execution_count": 276,
   "metadata": {},
   "outputs": [
    {
     "data": {
      "text/plain": [
       "array([0., 1.])"
      ]
     },
     "execution_count": 276,
     "metadata": {},
     "output_type": "execute_result"
    }
   ],
   "source": [
    "# Replace 'nan' rows in is_dupe with 0.0\n",
    "df.loc[df['is_dupe'].isna(), 'is_dupe'] = 0\n",
    "\n",
    "# verify\n",
    "df['is_dupe'].unique()"
   ]
  },
  {
   "cell_type": "code",
   "execution_count": 277,
   "metadata": {},
   "outputs": [
    {
     "data": {
      "text/plain": [
       "False    21244\n",
       "True       353\n",
       "Name: is_dupe, dtype: int64"
      ]
     },
     "execution_count": 277,
     "metadata": {},
     "output_type": "execute_result"
    }
   ],
   "source": [
    "# convert column to boolean data type\n",
    "df['is_dupe'] = df['is_dupe'].astype('bool')\n",
    "# verify\n",
    "df['is_dupe'].value_counts()"
   ]
  },
  {
   "cell_type": "code",
   "execution_count": 278,
   "metadata": {},
   "outputs": [
    {
     "data": {
      "text/html": [
       "<div>\n",
       "<style scoped>\n",
       "    .dataframe tbody tr th:only-of-type {\n",
       "        vertical-align: middle;\n",
       "    }\n",
       "\n",
       "    .dataframe tbody tr th {\n",
       "        vertical-align: top;\n",
       "    }\n",
       "\n",
       "    .dataframe thead th {\n",
       "        text-align: right;\n",
       "    }\n",
       "</style>\n",
       "<table border=\"1\" class=\"dataframe\">\n",
       "  <thead>\n",
       "    <tr style=\"text-align: right;\">\n",
       "      <th></th>\n",
       "      <th>id</th>\n",
       "      <th>date</th>\n",
       "      <th>price</th>\n",
       "      <th>bedrooms</th>\n",
       "      <th>bathrooms</th>\n",
       "      <th>sqft_living</th>\n",
       "      <th>sqft_lot</th>\n",
       "      <th>floors</th>\n",
       "      <th>waterfront</th>\n",
       "      <th>view</th>\n",
       "      <th>condition</th>\n",
       "      <th>grade</th>\n",
       "      <th>sqft_above</th>\n",
       "      <th>sqft_basement</th>\n",
       "      <th>yr_built</th>\n",
       "      <th>yr_renovated</th>\n",
       "      <th>zipcode</th>\n",
       "      <th>lat</th>\n",
       "      <th>long</th>\n",
       "      <th>sqft_living15</th>\n",
       "      <th>sqft_lot15</th>\n",
       "      <th>is_renovated</th>\n",
       "      <th>view_cat</th>\n",
       "      <th>viewed</th>\n",
       "      <th>yb_range</th>\n",
       "      <th>yb_cat</th>\n",
       "      <th>zip_range</th>\n",
       "      <th>zip_cat</th>\n",
       "      <th>is_dupe</th>\n",
       "    </tr>\n",
       "  </thead>\n",
       "  <tbody>\n",
       "    <tr>\n",
       "      <td>93</td>\n",
       "      <td>6021501535</td>\n",
       "      <td>2014-07-25</td>\n",
       "      <td>430000.0</td>\n",
       "      <td>3</td>\n",
       "      <td>1.50</td>\n",
       "      <td>1580</td>\n",
       "      <td>5000</td>\n",
       "      <td>1.0</td>\n",
       "      <td>False</td>\n",
       "      <td>0.0</td>\n",
       "      <td>3</td>\n",
       "      <td>8</td>\n",
       "      <td>1290</td>\n",
       "      <td>290.0</td>\n",
       "      <td>1939</td>\n",
       "      <td>0.0</td>\n",
       "      <td>98117</td>\n",
       "      <td>47.6870</td>\n",
       "      <td>-122.386</td>\n",
       "      <td>1570</td>\n",
       "      <td>4500</td>\n",
       "      <td>False</td>\n",
       "      <td>0.0</td>\n",
       "      <td>False</td>\n",
       "      <td>(1900, 1951]</td>\n",
       "      <td>1</td>\n",
       "      <td>(98065, 98118]</td>\n",
       "      <td>3</td>\n",
       "      <td>True</td>\n",
       "    </tr>\n",
       "    <tr>\n",
       "      <td>94</td>\n",
       "      <td>6021501535</td>\n",
       "      <td>2014-12-23</td>\n",
       "      <td>700000.0</td>\n",
       "      <td>3</td>\n",
       "      <td>1.50</td>\n",
       "      <td>1580</td>\n",
       "      <td>5000</td>\n",
       "      <td>1.0</td>\n",
       "      <td>False</td>\n",
       "      <td>0.0</td>\n",
       "      <td>3</td>\n",
       "      <td>8</td>\n",
       "      <td>1290</td>\n",
       "      <td>290.0</td>\n",
       "      <td>1939</td>\n",
       "      <td>0.0</td>\n",
       "      <td>98117</td>\n",
       "      <td>47.6870</td>\n",
       "      <td>-122.386</td>\n",
       "      <td>1570</td>\n",
       "      <td>4500</td>\n",
       "      <td>False</td>\n",
       "      <td>0.0</td>\n",
       "      <td>False</td>\n",
       "      <td>(1900, 1951]</td>\n",
       "      <td>1</td>\n",
       "      <td>(98065, 98118]</td>\n",
       "      <td>3</td>\n",
       "      <td>True</td>\n",
       "    </tr>\n",
       "    <tr>\n",
       "      <td>313</td>\n",
       "      <td>4139480200</td>\n",
       "      <td>2014-06-18</td>\n",
       "      <td>1380000.0</td>\n",
       "      <td>4</td>\n",
       "      <td>3.25</td>\n",
       "      <td>4290</td>\n",
       "      <td>12103</td>\n",
       "      <td>1.0</td>\n",
       "      <td>False</td>\n",
       "      <td>3.0</td>\n",
       "      <td>3</td>\n",
       "      <td>11</td>\n",
       "      <td>2690</td>\n",
       "      <td>1600.0</td>\n",
       "      <td>1997</td>\n",
       "      <td>0.0</td>\n",
       "      <td>98006</td>\n",
       "      <td>47.5503</td>\n",
       "      <td>-122.102</td>\n",
       "      <td>3860</td>\n",
       "      <td>11244</td>\n",
       "      <td>False</td>\n",
       "      <td>3.0</td>\n",
       "      <td>True</td>\n",
       "      <td>(1975, 1997]</td>\n",
       "      <td>3</td>\n",
       "      <td>(98000, 98033]</td>\n",
       "      <td>1</td>\n",
       "      <td>True</td>\n",
       "    </tr>\n",
       "    <tr>\n",
       "      <td>314</td>\n",
       "      <td>4139480200</td>\n",
       "      <td>2014-12-09</td>\n",
       "      <td>1400000.0</td>\n",
       "      <td>4</td>\n",
       "      <td>3.25</td>\n",
       "      <td>4290</td>\n",
       "      <td>12103</td>\n",
       "      <td>1.0</td>\n",
       "      <td>False</td>\n",
       "      <td>3.0</td>\n",
       "      <td>3</td>\n",
       "      <td>11</td>\n",
       "      <td>2690</td>\n",
       "      <td>1600.0</td>\n",
       "      <td>1997</td>\n",
       "      <td>0.0</td>\n",
       "      <td>98006</td>\n",
       "      <td>47.5503</td>\n",
       "      <td>-122.102</td>\n",
       "      <td>3860</td>\n",
       "      <td>11244</td>\n",
       "      <td>False</td>\n",
       "      <td>3.0</td>\n",
       "      <td>True</td>\n",
       "      <td>(1975, 1997]</td>\n",
       "      <td>3</td>\n",
       "      <td>(98000, 98033]</td>\n",
       "      <td>1</td>\n",
       "      <td>True</td>\n",
       "    </tr>\n",
       "    <tr>\n",
       "      <td>324</td>\n",
       "      <td>7520000520</td>\n",
       "      <td>2014-09-05</td>\n",
       "      <td>232000.0</td>\n",
       "      <td>2</td>\n",
       "      <td>1.00</td>\n",
       "      <td>1240</td>\n",
       "      <td>12092</td>\n",
       "      <td>1.0</td>\n",
       "      <td>False</td>\n",
       "      <td>0.0</td>\n",
       "      <td>3</td>\n",
       "      <td>6</td>\n",
       "      <td>960</td>\n",
       "      <td>280.0</td>\n",
       "      <td>1922</td>\n",
       "      <td>1984.0</td>\n",
       "      <td>98146</td>\n",
       "      <td>47.4957</td>\n",
       "      <td>-122.352</td>\n",
       "      <td>1820</td>\n",
       "      <td>7460</td>\n",
       "      <td>True</td>\n",
       "      <td>0.0</td>\n",
       "      <td>False</td>\n",
       "      <td>(1900, 1951]</td>\n",
       "      <td>1</td>\n",
       "      <td>(98118, 98200]</td>\n",
       "      <td>4</td>\n",
       "      <td>True</td>\n",
       "    </tr>\n",
       "    <tr>\n",
       "      <td>325</td>\n",
       "      <td>7520000520</td>\n",
       "      <td>2015-03-11</td>\n",
       "      <td>240500.0</td>\n",
       "      <td>2</td>\n",
       "      <td>1.00</td>\n",
       "      <td>1240</td>\n",
       "      <td>12092</td>\n",
       "      <td>1.0</td>\n",
       "      <td>False</td>\n",
       "      <td>0.0</td>\n",
       "      <td>3</td>\n",
       "      <td>6</td>\n",
       "      <td>960</td>\n",
       "      <td>280.0</td>\n",
       "      <td>1922</td>\n",
       "      <td>1984.0</td>\n",
       "      <td>98146</td>\n",
       "      <td>47.4957</td>\n",
       "      <td>-122.352</td>\n",
       "      <td>1820</td>\n",
       "      <td>7460</td>\n",
       "      <td>True</td>\n",
       "      <td>0.0</td>\n",
       "      <td>False</td>\n",
       "      <td>(1900, 1951]</td>\n",
       "      <td>1</td>\n",
       "      <td>(98118, 98200]</td>\n",
       "      <td>4</td>\n",
       "      <td>True</td>\n",
       "    </tr>\n",
       "  </tbody>\n",
       "</table>\n",
       "</div>"
      ],
      "text/plain": [
       "             id       date      price bedrooms bathrooms  sqft_living  sqft_lot  ... view_cat  viewed      yb_range yb_cat       zip_range  zip_cat  is_dupe\n",
       "93   6021501535 2014-07-25   430000.0        3      1.50         1580      5000  ...      0.0   False  (1900, 1951]      1  (98065, 98118]        3     True\n",
       "94   6021501535 2014-12-23   700000.0        3      1.50         1580      5000  ...      0.0   False  (1900, 1951]      1  (98065, 98118]        3     True\n",
       "313  4139480200 2014-06-18  1380000.0        4      3.25         4290     12103  ...      3.0    True  (1975, 1997]      3  (98000, 98033]        1     True\n",
       "314  4139480200 2014-12-09  1400000.0        4      3.25         4290     12103  ...      3.0    True  (1975, 1997]      3  (98000, 98033]        1     True\n",
       "324  7520000520 2014-09-05   232000.0        2      1.00         1240     12092  ...      0.0   False  (1900, 1951]      1  (98118, 98200]        4     True\n",
       "325  7520000520 2015-03-11   240500.0        2      1.00         1240     12092  ...      0.0   False  (1900, 1951]      1  (98118, 98200]        4     True\n",
       "\n",
       "[6 rows x 29 columns]"
      ]
     },
     "execution_count": 278,
     "metadata": {},
     "output_type": "execute_result"
    }
   ],
   "source": [
    "# Let's now copy the duplicates into a dataframe subset for closer inspection\n",
    "# It's possible the pairs contain data missing from the other which \n",
    "# we can use to fill nulls identified previously.\n",
    "\n",
    "df_dupes = df.loc[df['is_dupe'] == True]\n",
    "\n",
    "# check out the data discrepancies between duplicates (first 3 pairs)\n",
    "df_dupes.head(6)"
   ]
  },
  {
   "cell_type": "code",
   "execution_count": 279,
   "metadata": {},
   "outputs": [
    {
     "data": {
      "text/html": [
       "<div>\n",
       "<style scoped>\n",
       "    .dataframe tbody tr th:only-of-type {\n",
       "        vertical-align: middle;\n",
       "    }\n",
       "\n",
       "    .dataframe tbody tr th {\n",
       "        vertical-align: top;\n",
       "    }\n",
       "\n",
       "    .dataframe thead th {\n",
       "        text-align: right;\n",
       "    }\n",
       "</style>\n",
       "<table border=\"1\" class=\"dataframe\">\n",
       "  <thead>\n",
       "    <tr style=\"text-align: right;\">\n",
       "      <th></th>\n",
       "      <th>id</th>\n",
       "      <th>date</th>\n",
       "      <th>price</th>\n",
       "      <th>bedrooms</th>\n",
       "      <th>bathrooms</th>\n",
       "      <th>sqft_living</th>\n",
       "      <th>sqft_lot</th>\n",
       "      <th>floors</th>\n",
       "      <th>waterfront</th>\n",
       "      <th>view</th>\n",
       "      <th>condition</th>\n",
       "      <th>grade</th>\n",
       "      <th>sqft_above</th>\n",
       "      <th>sqft_basement</th>\n",
       "      <th>yr_built</th>\n",
       "      <th>yr_renovated</th>\n",
       "      <th>zipcode</th>\n",
       "      <th>lat</th>\n",
       "      <th>long</th>\n",
       "      <th>sqft_living15</th>\n",
       "      <th>sqft_lot15</th>\n",
       "      <th>is_renovated</th>\n",
       "      <th>view_cat</th>\n",
       "      <th>viewed</th>\n",
       "      <th>yb_range</th>\n",
       "      <th>yb_cat</th>\n",
       "      <th>zip_range</th>\n",
       "      <th>zip_cat</th>\n",
       "      <th>is_dupe</th>\n",
       "    </tr>\n",
       "  </thead>\n",
       "  <tbody>\n",
       "    <tr>\n",
       "      <td>93</td>\n",
       "      <td>6021501535</td>\n",
       "      <td>2014-07-25</td>\n",
       "      <td>430000.0</td>\n",
       "      <td>3</td>\n",
       "      <td>1.5</td>\n",
       "      <td>1580</td>\n",
       "      <td>5000</td>\n",
       "      <td>1.0</td>\n",
       "      <td>False</td>\n",
       "      <td>0.0</td>\n",
       "      <td>3</td>\n",
       "      <td>8</td>\n",
       "      <td>1290</td>\n",
       "      <td>290.0</td>\n",
       "      <td>1939</td>\n",
       "      <td>0.0</td>\n",
       "      <td>98117</td>\n",
       "      <td>47.687</td>\n",
       "      <td>-122.386</td>\n",
       "      <td>1570</td>\n",
       "      <td>4500</td>\n",
       "      <td>False</td>\n",
       "      <td>0.0</td>\n",
       "      <td>False</td>\n",
       "      <td>(1900, 1951]</td>\n",
       "      <td>1</td>\n",
       "      <td>(98065, 98118]</td>\n",
       "      <td>3</td>\n",
       "      <td>True</td>\n",
       "    </tr>\n",
       "    <tr>\n",
       "      <td>94</td>\n",
       "      <td>6021501535</td>\n",
       "      <td>2014-12-23</td>\n",
       "      <td>700000.0</td>\n",
       "      <td>3</td>\n",
       "      <td>1.5</td>\n",
       "      <td>1580</td>\n",
       "      <td>5000</td>\n",
       "      <td>1.0</td>\n",
       "      <td>False</td>\n",
       "      <td>0.0</td>\n",
       "      <td>3</td>\n",
       "      <td>8</td>\n",
       "      <td>1290</td>\n",
       "      <td>290.0</td>\n",
       "      <td>1939</td>\n",
       "      <td>0.0</td>\n",
       "      <td>98117</td>\n",
       "      <td>47.687</td>\n",
       "      <td>-122.386</td>\n",
       "      <td>1570</td>\n",
       "      <td>4500</td>\n",
       "      <td>False</td>\n",
       "      <td>0.0</td>\n",
       "      <td>False</td>\n",
       "      <td>(1900, 1951]</td>\n",
       "      <td>1</td>\n",
       "      <td>(98065, 98118]</td>\n",
       "      <td>3</td>\n",
       "      <td>True</td>\n",
       "    </tr>\n",
       "  </tbody>\n",
       "</table>\n",
       "</div>"
      ],
      "text/plain": [
       "            id       date     price bedrooms bathrooms  sqft_living  sqft_lot  ... view_cat  viewed      yb_range yb_cat       zip_range  zip_cat  is_dupe\n",
       "93  6021501535 2014-07-25  430000.0        3       1.5         1580      5000  ...      0.0   False  (1900, 1951]      1  (98065, 98118]        3     True\n",
       "94  6021501535 2014-12-23  700000.0        3       1.5         1580      5000  ...      0.0   False  (1900, 1951]      1  (98065, 98118]        3     True\n",
       "\n",
       "[2 rows x 29 columns]"
      ]
     },
     "execution_count": 279,
     "metadata": {},
     "output_type": "execute_result"
    }
   ],
   "source": [
    "# Looks like the only discrepancies might occur between 'date' and 'price' values\n",
    "# Some of the prices nearly double, even when the re-sale is just a few months later!\n",
    "\n",
    "df_dupes.loc[df_dupes['id'] == 6021501535]"
   ]
  },
  {
   "cell_type": "code",
   "execution_count": 280,
   "metadata": {},
   "outputs": [
    {
     "data": {
      "text/html": [
       "<div>\n",
       "<style scoped>\n",
       "    .dataframe tbody tr th:only-of-type {\n",
       "        vertical-align: middle;\n",
       "    }\n",
       "\n",
       "    .dataframe tbody tr th {\n",
       "        vertical-align: top;\n",
       "    }\n",
       "\n",
       "    .dataframe thead th {\n",
       "        text-align: right;\n",
       "    }\n",
       "</style>\n",
       "<table border=\"1\" class=\"dataframe\">\n",
       "  <thead>\n",
       "    <tr style=\"text-align: right;\">\n",
       "      <th></th>\n",
       "      <th>date</th>\n",
       "      <th>price</th>\n",
       "      <th>bedrooms</th>\n",
       "      <th>bathrooms</th>\n",
       "      <th>sqft_living</th>\n",
       "      <th>sqft_lot</th>\n",
       "      <th>floors</th>\n",
       "      <th>waterfront</th>\n",
       "      <th>view</th>\n",
       "      <th>condition</th>\n",
       "      <th>grade</th>\n",
       "      <th>sqft_above</th>\n",
       "      <th>sqft_basement</th>\n",
       "      <th>yr_built</th>\n",
       "      <th>yr_renovated</th>\n",
       "      <th>zipcode</th>\n",
       "      <th>lat</th>\n",
       "      <th>long</th>\n",
       "      <th>sqft_living15</th>\n",
       "      <th>sqft_lot15</th>\n",
       "      <th>is_renovated</th>\n",
       "      <th>view_cat</th>\n",
       "      <th>viewed</th>\n",
       "      <th>yb_range</th>\n",
       "      <th>yb_cat</th>\n",
       "      <th>zip_range</th>\n",
       "      <th>zip_cat</th>\n",
       "      <th>is_dupe</th>\n",
       "    </tr>\n",
       "    <tr>\n",
       "      <th>id</th>\n",
       "      <th></th>\n",
       "      <th></th>\n",
       "      <th></th>\n",
       "      <th></th>\n",
       "      <th></th>\n",
       "      <th></th>\n",
       "      <th></th>\n",
       "      <th></th>\n",
       "      <th></th>\n",
       "      <th></th>\n",
       "      <th></th>\n",
       "      <th></th>\n",
       "      <th></th>\n",
       "      <th></th>\n",
       "      <th></th>\n",
       "      <th></th>\n",
       "      <th></th>\n",
       "      <th></th>\n",
       "      <th></th>\n",
       "      <th></th>\n",
       "      <th></th>\n",
       "      <th></th>\n",
       "      <th></th>\n",
       "      <th></th>\n",
       "      <th></th>\n",
       "      <th></th>\n",
       "      <th></th>\n",
       "      <th></th>\n",
       "    </tr>\n",
       "  </thead>\n",
       "  <tbody>\n",
       "    <tr>\n",
       "      <td>7129300520</td>\n",
       "      <td>2014-10-13</td>\n",
       "      <td>221900.0</td>\n",
       "      <td>3</td>\n",
       "      <td>1.00</td>\n",
       "      <td>1180</td>\n",
       "      <td>5650</td>\n",
       "      <td>1.0</td>\n",
       "      <td>False</td>\n",
       "      <td>0.0</td>\n",
       "      <td>3</td>\n",
       "      <td>7</td>\n",
       "      <td>1180</td>\n",
       "      <td>0.0</td>\n",
       "      <td>1955</td>\n",
       "      <td>0.0</td>\n",
       "      <td>98178</td>\n",
       "      <td>47.5112</td>\n",
       "      <td>-122.257</td>\n",
       "      <td>1340</td>\n",
       "      <td>5650</td>\n",
       "      <td>False</td>\n",
       "      <td>0.0</td>\n",
       "      <td>False</td>\n",
       "      <td>(1951, 1975]</td>\n",
       "      <td>2</td>\n",
       "      <td>(98118, 98200]</td>\n",
       "      <td>4</td>\n",
       "      <td>False</td>\n",
       "    </tr>\n",
       "    <tr>\n",
       "      <td>6414100192</td>\n",
       "      <td>2014-12-09</td>\n",
       "      <td>538000.0</td>\n",
       "      <td>3</td>\n",
       "      <td>2.25</td>\n",
       "      <td>2570</td>\n",
       "      <td>7242</td>\n",
       "      <td>2.0</td>\n",
       "      <td>False</td>\n",
       "      <td>0.0</td>\n",
       "      <td>3</td>\n",
       "      <td>7</td>\n",
       "      <td>2170</td>\n",
       "      <td>400.0</td>\n",
       "      <td>1951</td>\n",
       "      <td>1991.0</td>\n",
       "      <td>98125</td>\n",
       "      <td>47.7210</td>\n",
       "      <td>-122.319</td>\n",
       "      <td>1690</td>\n",
       "      <td>7639</td>\n",
       "      <td>True</td>\n",
       "      <td>0.0</td>\n",
       "      <td>False</td>\n",
       "      <td>(1900, 1951]</td>\n",
       "      <td>1</td>\n",
       "      <td>(98118, 98200]</td>\n",
       "      <td>4</td>\n",
       "      <td>False</td>\n",
       "    </tr>\n",
       "    <tr>\n",
       "      <td>5631500400</td>\n",
       "      <td>2015-02-25</td>\n",
       "      <td>180000.0</td>\n",
       "      <td>2</td>\n",
       "      <td>1.00</td>\n",
       "      <td>770</td>\n",
       "      <td>10000</td>\n",
       "      <td>1.0</td>\n",
       "      <td>False</td>\n",
       "      <td>0.0</td>\n",
       "      <td>3</td>\n",
       "      <td>6</td>\n",
       "      <td>770</td>\n",
       "      <td>0.0</td>\n",
       "      <td>1933</td>\n",
       "      <td>0.0</td>\n",
       "      <td>98028</td>\n",
       "      <td>47.7379</td>\n",
       "      <td>-122.233</td>\n",
       "      <td>2720</td>\n",
       "      <td>8062</td>\n",
       "      <td>False</td>\n",
       "      <td>0.0</td>\n",
       "      <td>False</td>\n",
       "      <td>(1900, 1951]</td>\n",
       "      <td>1</td>\n",
       "      <td>(98000, 98033]</td>\n",
       "      <td>1</td>\n",
       "      <td>False</td>\n",
       "    </tr>\n",
       "    <tr>\n",
       "      <td>2487200875</td>\n",
       "      <td>2014-12-09</td>\n",
       "      <td>604000.0</td>\n",
       "      <td>4</td>\n",
       "      <td>3.00</td>\n",
       "      <td>1960</td>\n",
       "      <td>5000</td>\n",
       "      <td>1.0</td>\n",
       "      <td>False</td>\n",
       "      <td>0.0</td>\n",
       "      <td>5</td>\n",
       "      <td>7</td>\n",
       "      <td>1050</td>\n",
       "      <td>910.0</td>\n",
       "      <td>1965</td>\n",
       "      <td>0.0</td>\n",
       "      <td>98136</td>\n",
       "      <td>47.5208</td>\n",
       "      <td>-122.393</td>\n",
       "      <td>1360</td>\n",
       "      <td>5000</td>\n",
       "      <td>False</td>\n",
       "      <td>0.0</td>\n",
       "      <td>False</td>\n",
       "      <td>(1951, 1975]</td>\n",
       "      <td>2</td>\n",
       "      <td>(98118, 98200]</td>\n",
       "      <td>4</td>\n",
       "      <td>False</td>\n",
       "    </tr>\n",
       "    <tr>\n",
       "      <td>1954400510</td>\n",
       "      <td>2015-02-18</td>\n",
       "      <td>510000.0</td>\n",
       "      <td>3</td>\n",
       "      <td>2.00</td>\n",
       "      <td>1680</td>\n",
       "      <td>8080</td>\n",
       "      <td>1.0</td>\n",
       "      <td>False</td>\n",
       "      <td>0.0</td>\n",
       "      <td>3</td>\n",
       "      <td>8</td>\n",
       "      <td>1680</td>\n",
       "      <td>0.0</td>\n",
       "      <td>1987</td>\n",
       "      <td>0.0</td>\n",
       "      <td>98074</td>\n",
       "      <td>47.6168</td>\n",
       "      <td>-122.045</td>\n",
       "      <td>1800</td>\n",
       "      <td>7503</td>\n",
       "      <td>False</td>\n",
       "      <td>0.0</td>\n",
       "      <td>False</td>\n",
       "      <td>(1975, 1997]</td>\n",
       "      <td>3</td>\n",
       "      <td>(98065, 98118]</td>\n",
       "      <td>3</td>\n",
       "      <td>False</td>\n",
       "    </tr>\n",
       "    <tr>\n",
       "      <td>...</td>\n",
       "      <td>...</td>\n",
       "      <td>...</td>\n",
       "      <td>...</td>\n",
       "      <td>...</td>\n",
       "      <td>...</td>\n",
       "      <td>...</td>\n",
       "      <td>...</td>\n",
       "      <td>...</td>\n",
       "      <td>...</td>\n",
       "      <td>...</td>\n",
       "      <td>...</td>\n",
       "      <td>...</td>\n",
       "      <td>...</td>\n",
       "      <td>...</td>\n",
       "      <td>...</td>\n",
       "      <td>...</td>\n",
       "      <td>...</td>\n",
       "      <td>...</td>\n",
       "      <td>...</td>\n",
       "      <td>...</td>\n",
       "      <td>...</td>\n",
       "      <td>...</td>\n",
       "      <td>...</td>\n",
       "      <td>...</td>\n",
       "      <td>...</td>\n",
       "      <td>...</td>\n",
       "      <td>...</td>\n",
       "      <td>...</td>\n",
       "    </tr>\n",
       "    <tr>\n",
       "      <td>263000018</td>\n",
       "      <td>2014-05-21</td>\n",
       "      <td>360000.0</td>\n",
       "      <td>3</td>\n",
       "      <td>2.50</td>\n",
       "      <td>1530</td>\n",
       "      <td>1131</td>\n",
       "      <td>3.0</td>\n",
       "      <td>False</td>\n",
       "      <td>0.0</td>\n",
       "      <td>3</td>\n",
       "      <td>8</td>\n",
       "      <td>1530</td>\n",
       "      <td>0.0</td>\n",
       "      <td>2009</td>\n",
       "      <td>0.0</td>\n",
       "      <td>98103</td>\n",
       "      <td>47.6993</td>\n",
       "      <td>-122.346</td>\n",
       "      <td>1530</td>\n",
       "      <td>1509</td>\n",
       "      <td>False</td>\n",
       "      <td>0.0</td>\n",
       "      <td>False</td>\n",
       "      <td>(1997, 2015]</td>\n",
       "      <td>4</td>\n",
       "      <td>(98065, 98118]</td>\n",
       "      <td>3</td>\n",
       "      <td>False</td>\n",
       "    </tr>\n",
       "    <tr>\n",
       "      <td>6600060120</td>\n",
       "      <td>2015-02-23</td>\n",
       "      <td>400000.0</td>\n",
       "      <td>4</td>\n",
       "      <td>2.50</td>\n",
       "      <td>2310</td>\n",
       "      <td>5813</td>\n",
       "      <td>2.0</td>\n",
       "      <td>False</td>\n",
       "      <td>0.0</td>\n",
       "      <td>3</td>\n",
       "      <td>8</td>\n",
       "      <td>2310</td>\n",
       "      <td>0.0</td>\n",
       "      <td>2014</td>\n",
       "      <td>0.0</td>\n",
       "      <td>98146</td>\n",
       "      <td>47.5107</td>\n",
       "      <td>-122.362</td>\n",
       "      <td>1830</td>\n",
       "      <td>7200</td>\n",
       "      <td>False</td>\n",
       "      <td>0.0</td>\n",
       "      <td>False</td>\n",
       "      <td>(1997, 2015]</td>\n",
       "      <td>4</td>\n",
       "      <td>(98118, 98200]</td>\n",
       "      <td>4</td>\n",
       "      <td>False</td>\n",
       "    </tr>\n",
       "    <tr>\n",
       "      <td>1523300141</td>\n",
       "      <td>2014-06-23</td>\n",
       "      <td>402101.0</td>\n",
       "      <td>2</td>\n",
       "      <td>0.75</td>\n",
       "      <td>1020</td>\n",
       "      <td>1350</td>\n",
       "      <td>2.0</td>\n",
       "      <td>False</td>\n",
       "      <td>0.0</td>\n",
       "      <td>3</td>\n",
       "      <td>7</td>\n",
       "      <td>1020</td>\n",
       "      <td>0.0</td>\n",
       "      <td>2009</td>\n",
       "      <td>0.0</td>\n",
       "      <td>98144</td>\n",
       "      <td>47.5944</td>\n",
       "      <td>-122.299</td>\n",
       "      <td>1020</td>\n",
       "      <td>2007</td>\n",
       "      <td>False</td>\n",
       "      <td>0.0</td>\n",
       "      <td>False</td>\n",
       "      <td>(1997, 2015]</td>\n",
       "      <td>4</td>\n",
       "      <td>(98118, 98200]</td>\n",
       "      <td>4</td>\n",
       "      <td>False</td>\n",
       "    </tr>\n",
       "    <tr>\n",
       "      <td>291310100</td>\n",
       "      <td>2015-01-16</td>\n",
       "      <td>400000.0</td>\n",
       "      <td>3</td>\n",
       "      <td>2.50</td>\n",
       "      <td>1600</td>\n",
       "      <td>2388</td>\n",
       "      <td>2.0</td>\n",
       "      <td>False</td>\n",
       "      <td>0.0</td>\n",
       "      <td>3</td>\n",
       "      <td>8</td>\n",
       "      <td>1600</td>\n",
       "      <td>0.0</td>\n",
       "      <td>2004</td>\n",
       "      <td>0.0</td>\n",
       "      <td>98027</td>\n",
       "      <td>47.5345</td>\n",
       "      <td>-122.069</td>\n",
       "      <td>1410</td>\n",
       "      <td>1287</td>\n",
       "      <td>False</td>\n",
       "      <td>0.0</td>\n",
       "      <td>False</td>\n",
       "      <td>(1997, 2015]</td>\n",
       "      <td>4</td>\n",
       "      <td>(98000, 98033]</td>\n",
       "      <td>1</td>\n",
       "      <td>False</td>\n",
       "    </tr>\n",
       "    <tr>\n",
       "      <td>1523300157</td>\n",
       "      <td>2014-10-15</td>\n",
       "      <td>325000.0</td>\n",
       "      <td>2</td>\n",
       "      <td>0.75</td>\n",
       "      <td>1020</td>\n",
       "      <td>1076</td>\n",
       "      <td>2.0</td>\n",
       "      <td>False</td>\n",
       "      <td>0.0</td>\n",
       "      <td>3</td>\n",
       "      <td>7</td>\n",
       "      <td>1020</td>\n",
       "      <td>0.0</td>\n",
       "      <td>2008</td>\n",
       "      <td>0.0</td>\n",
       "      <td>98144</td>\n",
       "      <td>47.5941</td>\n",
       "      <td>-122.299</td>\n",
       "      <td>1020</td>\n",
       "      <td>1357</td>\n",
       "      <td>False</td>\n",
       "      <td>0.0</td>\n",
       "      <td>False</td>\n",
       "      <td>(1997, 2015]</td>\n",
       "      <td>4</td>\n",
       "      <td>(98118, 98200]</td>\n",
       "      <td>4</td>\n",
       "      <td>False</td>\n",
       "    </tr>\n",
       "  </tbody>\n",
       "</table>\n",
       "<p>21597 rows × 28 columns</p>\n",
       "</div>"
      ],
      "text/plain": [
       "                 date     price bedrooms bathrooms  sqft_living  sqft_lot floors  ...  view_cat  viewed      yb_range yb_cat       zip_range  zip_cat  is_dupe\n",
       "id                                                                                ...                                                                         \n",
       "7129300520 2014-10-13  221900.0        3      1.00         1180      5650    1.0  ...       0.0   False  (1951, 1975]      2  (98118, 98200]        4    False\n",
       "6414100192 2014-12-09  538000.0        3      2.25         2570      7242    2.0  ...       0.0   False  (1900, 1951]      1  (98118, 98200]        4    False\n",
       "5631500400 2015-02-25  180000.0        2      1.00          770     10000    1.0  ...       0.0   False  (1900, 1951]      1  (98000, 98033]        1    False\n",
       "2487200875 2014-12-09  604000.0        4      3.00         1960      5000    1.0  ...       0.0   False  (1951, 1975]      2  (98118, 98200]        4    False\n",
       "1954400510 2015-02-18  510000.0        3      2.00         1680      8080    1.0  ...       0.0   False  (1975, 1997]      3  (98065, 98118]        3    False\n",
       "...               ...       ...      ...       ...          ...       ...    ...  ...       ...     ...           ...    ...             ...      ...      ...\n",
       "263000018  2014-05-21  360000.0        3      2.50         1530      1131    3.0  ...       0.0   False  (1997, 2015]      4  (98065, 98118]        3    False\n",
       "6600060120 2015-02-23  400000.0        4      2.50         2310      5813    2.0  ...       0.0   False  (1997, 2015]      4  (98118, 98200]        4    False\n",
       "1523300141 2014-06-23  402101.0        2      0.75         1020      1350    2.0  ...       0.0   False  (1997, 2015]      4  (98118, 98200]        4    False\n",
       "291310100  2015-01-16  400000.0        3      2.50         1600      2388    2.0  ...       0.0   False  (1997, 2015]      4  (98000, 98033]        1    False\n",
       "1523300157 2014-10-15  325000.0        2      0.75         1020      1076    2.0  ...       0.0   False  (1997, 2015]      4  (98118, 98200]        4    False\n",
       "\n",
       "[21597 rows x 28 columns]"
      ]
     },
     "execution_count": 280,
     "metadata": {},
     "output_type": "execute_result"
    }
   ],
   "source": [
    "# Set index of df_dupes to 'id'\n",
    "df_dupes.set_index('id')\n",
    "# Set index of df to 'id'\n",
    "df.set_index('id')"
   ]
  },
  {
   "cell_type": "markdown",
   "metadata": {},
   "source": [
    "## Feature Elimination"
   ]
  },
  {
   "cell_type": "code",
   "execution_count": 281,
   "metadata": {},
   "outputs": [
    {
     "name": "stdout",
     "output_type": "stream",
     "text": [
      "<class 'pandas.core.frame.DataFrame'>\n",
      "RangeIndex: 21597 entries, 0 to 21596\n",
      "Data columns (total 29 columns):\n",
      "id               21597 non-null int64\n",
      "date             21597 non-null datetime64[ns]\n",
      "price            21597 non-null float64\n",
      "bedrooms         21597 non-null category\n",
      "bathrooms        21597 non-null category\n",
      "sqft_living      21597 non-null int64\n",
      "sqft_lot         21597 non-null int64\n",
      "floors           21597 non-null category\n",
      "waterfront       21597 non-null bool\n",
      "view             21597 non-null float64\n",
      "condition        21597 non-null category\n",
      "grade            21597 non-null category\n",
      "sqft_above       21597 non-null int64\n",
      "sqft_basement    21597 non-null float64\n",
      "yr_built         21597 non-null int64\n",
      "yr_renovated     21597 non-null float64\n",
      "zipcode          21597 non-null int64\n",
      "lat              21597 non-null float64\n",
      "long             21597 non-null float64\n",
      "sqft_living15    21597 non-null int64\n",
      "sqft_lot15       21597 non-null int64\n",
      "is_renovated     21597 non-null bool\n",
      "view_cat         21597 non-null category\n",
      "viewed           21597 non-null bool\n",
      "yb_range         21510 non-null category\n",
      "yb_cat           21510 non-null category\n",
      "zip_range        21597 non-null category\n",
      "zip_cat          21597 non-null category\n",
      "is_dupe          21597 non-null bool\n",
      "dtypes: bool(4), category(10), datetime64[ns](1), float64(6), int64(8)\n",
      "memory usage: 2.8 MB\n"
     ]
    }
   ],
   "source": [
    "# At this point we can drop the rows and columns we no longer need and begin exploring \n",
    "# the data. Let's review our current feature list and data types:\n",
    "df.info()"
   ]
  },
  {
   "cell_type": "code",
   "execution_count": 282,
   "metadata": {},
   "outputs": [],
   "source": [
    "# Before we start dropping, let's save a backup copy of the current df using pickle.\n",
    "import pickle\n",
    "# create pickle data_object\n",
    "df_predrops = df"
   ]
  },
  {
   "cell_type": "code",
   "execution_count": 283,
   "metadata": {},
   "outputs": [],
   "source": [
    "with open('data.pickle', 'wb') as f:\n",
    "    pickle.dump(df_predrops, f, pickle.HIGHEST_PROTOCOL)"
   ]
  },
  {
   "cell_type": "code",
   "execution_count": 57,
   "metadata": {},
   "outputs": [],
   "source": [
    "# import df (pre-drops) with pickle\n",
    "# with open('data.pickle', 'rb') as f:\n",
    "    #df2 = pickle.load(f)"
   ]
  },
  {
   "cell_type": "code",
   "execution_count": 284,
   "metadata": {},
   "outputs": [
    {
     "name": "stdout",
     "output_type": "stream",
     "text": [
      "predrop: (21597, 29)\n",
      "postdrop: (21420, 29)\n"
     ]
    }
   ],
   "source": [
    "# let's drop the first occurring duplicate rows and keep the last ones \n",
    "# (since those more accurately reflect latest market data)\n",
    "\n",
    "# save original df.shape for comparison after dropping duplicate rows\n",
    "predrop = df.shape # (21597, 28)\n",
    "\n",
    "# first occurrence, keep last\n",
    "df.drop_duplicates(subset='id', keep ='last', inplace = True) \n",
    "\n",
    "# verify dropped rows by comparing df.shape before and after values\n",
    "print(f\"predrop: {predrop}\")\n",
    "print(f\"postdrop: {df.shape}\")"
   ]
  },
  {
   "cell_type": "code",
   "execution_count": 291,
   "metadata": {},
   "outputs": [],
   "source": [
    "# create list of columns to drop (features not needed for EDA)\n",
    "hot_drop = ['id', \n",
    "            'date', \n",
    "            'view', \n",
    "            'yr_renovated',\n",
    "            'yr_built',\n",
    "            'zipcode', \n",
    "            'lat', \n",
    "            'long', \n",
    "            'yb_range', \n",
    "            'zip_range',\n",
    "            'sqft_above', \n",
    "            'sqft_basement']"
   ]
  },
  {
   "cell_type": "code",
   "execution_count": 292,
   "metadata": {},
   "outputs": [
    {
     "name": "stdout",
     "output_type": "stream",
     "text": [
      "<class 'pandas.core.frame.DataFrame'>\n",
      "Int64Index: 21420 entries, 0 to 21596\n",
      "Data columns (total 12 columns):\n",
      "id               21420 non-null int64\n",
      "date             21420 non-null datetime64[ns]\n",
      "view             21420 non-null float64\n",
      "yr_renovated     21420 non-null float64\n",
      "yr_built         21420 non-null int64\n",
      "zipcode          21420 non-null int64\n",
      "lat              21420 non-null float64\n",
      "long             21420 non-null float64\n",
      "yb_range         21334 non-null category\n",
      "zip_range        21420 non-null category\n",
      "sqft_above       21420 non-null int64\n",
      "sqft_basement    21420 non-null float64\n",
      "dtypes: category(2), datetime64[ns](1), float64(5), int64(4)\n",
      "memory usage: 1.8 MB\n"
     ]
    }
   ],
   "source": [
    "# store hot_drop columns in separate df\n",
    "df_drops = df[hot_drop].copy()\n",
    "\n",
    "# set index of df_drops to 'id'\n",
    "df_drops.set_index('id')\n",
    "# verify\n",
    "df_drops.info()"
   ]
  },
  {
   "cell_type": "code",
   "execution_count": 293,
   "metadata": {},
   "outputs": [],
   "source": [
    "# drop it like its hot >> df.drop(hot_drop, axis=1, inplace=True)\n",
    "df.drop(hot_drop, axis=1, inplace=True)"
   ]
  },
  {
   "cell_type": "code",
   "execution_count": 294,
   "metadata": {},
   "outputs": [
    {
     "name": "stdout",
     "output_type": "stream",
     "text": [
      "<class 'pandas.core.frame.DataFrame'>\n",
      "Int64Index: 21420 entries, 0 to 21596\n",
      "Data columns (total 17 columns):\n",
      "price            21420 non-null float64\n",
      "bedrooms         21420 non-null category\n",
      "bathrooms        21420 non-null category\n",
      "sqft_living      21420 non-null int64\n",
      "sqft_lot         21420 non-null int64\n",
      "floors           21420 non-null category\n",
      "waterfront       21420 non-null bool\n",
      "condition        21420 non-null category\n",
      "grade            21420 non-null category\n",
      "sqft_living15    21420 non-null int64\n",
      "sqft_lot15       21420 non-null int64\n",
      "is_renovated     21420 non-null bool\n",
      "view_cat         21420 non-null category\n",
      "viewed           21420 non-null bool\n",
      "yb_cat           21334 non-null category\n",
      "zip_cat          21420 non-null category\n",
      "is_dupe          21420 non-null bool\n",
      "dtypes: bool(4), category(8), float64(1), int64(4)\n",
      "memory usage: 1.2 MB\n"
     ]
    }
   ],
   "source": [
    "# verify\n",
    "df.info()"
   ]
  },
  {
   "cell_type": "markdown",
   "metadata": {},
   "source": [
    "## Target"
   ]
  },
  {
   "cell_type": "markdown",
   "metadata": {},
   "source": [
    "#### ['price']"
   ]
  },
  {
   "cell_type": "code",
   "execution_count": 295,
   "metadata": {},
   "outputs": [
    {
     "name": "stdout",
     "output_type": "stream",
     "text": [
      "--------->\n",
      "HOT STATS\n",
      "<--------\n",
      "\n",
      "PRICE\n",
      "Data Type: float64\n",
      "\n",
      "count      21420.00\n",
      "mean      541861.43\n",
      "std       367556.94\n",
      "min        78000.00\n",
      "25%       324950.00\n",
      "50%       450550.00\n",
      "75%       645000.00\n",
      "max      7700000.00\n",
      "Name: price, dtype: float64\n",
      "\n",
      "No Nulls Found!\n",
      "\n",
      "Non-Null Value Counts:\n",
      "450000.0    172\n",
      "350000.0    167\n",
      "550000.0    157\n",
      "500000.0    151\n",
      "425000.0    149\n",
      "           ... \n",
      "234975.0      1\n",
      "804995.0      1\n",
      "870515.0      1\n",
      "336950.0      1\n",
      "884744.0      1\n",
      "Name: price, Length: 3595, dtype: int64\n",
      "\n",
      "# Unique Values: 3595\n",
      "\n"
     ]
    }
   ],
   "source": [
    "# Let's take a quick look at the statistical data for our dependent variable (price):\n",
    "hot_stats(df, 'price')"
   ]
  },
  {
   "cell_type": "markdown",
   "metadata": {},
   "source": [
    "Keeping the below numbers in mind could be helpful as we start exploring the data:\n",
    "\n",
    "* range: 78,000 to 7,700,000\n",
    "* mean value: 540,296\n",
    "* median value: 450,000"
   ]
  },
  {
   "cell_type": "markdown",
   "metadata": {},
   "source": [
    "# EXPLORE:\n",
    "    Check distributions, outliers, etc\n",
    "[ ] Check scales, ranges (df.describe())\n",
    "[x] Check histograms to get an idea of distributions (df.hist()) and dat transformations to perform\n",
    "Can also do kernel density estimates\n",
    "[x] Use scatterplots to check for linearity and possible categorical variables (df.plot(kind-'scatter')\n",
    "categoricals will look like vertical lines\n",
    "[x] Use pd.plotting.scatter_matrix to visualize possible relationships\n",
    "[x] Check for linearity"
   ]
  },
  {
   "cell_type": "code",
   "execution_count": 325,
   "metadata": {
    "scrolled": false
   },
   "outputs": [],
   "source": [
    "# Subset dataframe into groups for easier viewing of data via individual subplots?\n",
    "\n",
    "#pd.plotting.scatter_matrix(df, figsize=(20,20));"
   ]
  },
  {
   "cell_type": "code",
   "execution_count": 132,
   "metadata": {},
   "outputs": [],
   "source": [
    "# Which features are best predictos?\n",
    "\n",
    "\n",
    "# numeric / continuous visualizations\n",
    "\n",
    "\n",
    "\n",
    "# categorical / discrete visualizations"
   ]
  },
  {
   "cell_type": "markdown",
   "metadata": {},
   "source": [
    "## Multicollinearity\n",
    "Heatmap: Absolute Correlation Matrix"
   ]
  },
  {
   "cell_type": "markdown",
   "metadata": {},
   "source": [
    "##### Scrub 3: Multicollinearity\n",
    "\n",
    "**Q3: which predictors are closely related (and should be dropped)?**\n",
    "    + multicollinearity: one-hot dummy variables, data dropping\n",
    "    + remove variable having most corr with largest # of variables\n",
    "\n",
    "        * Checking for Multicollinearity\n",
    "        * use seaborn to make correlation matrix plot\n",
    "        * threshold >= 0.5 corr (rank correlations -- build custom function?) \n",
    "        * one-hot dummy variables, and data dropping\n"
   ]
  },
  {
   "cell_type": "code",
   "execution_count": null,
   "metadata": {},
   "outputs": [],
   "source": [
    "# Pos Corr with Target (Price):\n",
    "    # sqft_living: 0.7\n",
    "        # grade: 0.67\n",
    "        # sqft_above: 0.61\n",
    "        # sqft_living15: 0.59\n",
    "        # bathrooms: 0.53 \n",
    "\n",
    "# Multicollinearity\n",
    "\n",
    "# bathrooms: \n",
    "    # sqft_living: 0.76\n",
    "    # sqft_above: 0.69\n",
    "    # grade: 0.67\n",
    "    # sqft_living15: 0.57\n",
    "    # bedrooms: 0.51\n",
    "    # yr_built: 0.51\n",
    "    # floors: 0.5\n",
    "\n",
    "# sqft_living:\n",
    "    # sqft_above: 0.88\n",
    "    # sqft_living15: 0.76\n",
    "    # grade: 0.76\n",
    "    # bathrooms: 0.76\n",
    "    # bedrooms: 0.58\n",
    "\n",
    "# Grade\n",
    "    #sqft_living: 0.76\n",
    "    #sqft_above:  0.76\n",
    "    #sqft_living15: 0.71\n",
    "    #bathrooms: 0.67\n",
    "\n",
    "# sqft_above: \n",
    "    # sqft_living: 0.88\n",
    "    # sqft_living15: 0.73\n",
    "    # floors: 0.52\n",
    "    # grade: 0.76\n",
    "        "
   ]
  },
  {
   "cell_type": "code",
   "execution_count": 300,
   "metadata": {
    "scrolled": false
   },
   "outputs": [
    {
     "data": {
      "image/png": "[encoded data removed]",
      "text/plain": [
       "<Figure size 1080x1080 with 2 Axes>"
      ]
     },
     "metadata": {
      "needs_background": "light"
     },
     "output_type": "display_data"
    }
   ],
   "source": [
    "corr = df.corr()\n",
    "\n",
    "plt.figure(figsize=(15,15))\n",
    "sns.heatmap(data=corr.abs(), annot=True, cmap=sns.color_palette('Purples'))\n",
    "plt.show()"
   ]
  },
  {
   "cell_type": "code",
   "execution_count": 320,
   "metadata": {},
   "outputs": [
    {
     "name": "stdout",
     "output_type": "stream",
     "text": [
      "0.5252152971165565\n",
      "0.7012948591175869\n",
      "0.5837916994556076\n",
      "0.6668349564389758\n"
     ]
    }
   ],
   "source": [
    "# Quick correlation check with the target (price) indicates none of the columns addressed above will be useful predictors (all have correlation coefficients below 0.5)\n",
    "print(df['bathrooms'].corr(df['price']))\n",
    "print(df['sqft_living'].corr(df['price']))\n",
    "print(df['sqft_living15'].corr(df['price']))\n",
    "print(df['grade'].corr(df['price']))\n"
   ]
  },
  {
   "cell_type": "code",
   "execution_count": 301,
   "metadata": {
    "scrolled": true
   },
   "outputs": [],
   "source": [
    "def plot_reg(data, feature, target):\n",
    "    sns.regplot(x=feature, y=target, data=data)\n",
    "    plt.show()"
   ]
  },
  {
   "cell_type": "code",
   "execution_count": 324,
   "metadata": {
    "scrolled": true
   },
   "outputs": [
    {
     "data": {
      "image/png": "[encoded data removed]",
      "text/plain": [
       "<Figure size 432x288 with 1 Axes>"
      ]
     },
     "metadata": {
      "needs_background": "light"
     },
     "output_type": "display_data"
    }
   ],
   "source": [
    "plot_reg(df, 'sqft_living', 'price')\n"
   ]
  },
  {
   "cell_type": "code",
   "execution_count": null,
   "metadata": {},
   "outputs": [],
   "source": [
    "# bathrooms: \n",
    "# sqft_living: 0.76\n",
    "    # sqft_above: 0.69\n",
    "    # grade: 0.67\n",
    "    # sqft_living15: 0.57\n",
    "# bedrooms: 0.51\n",
    "    # yr_built: 0.51\n",
    "# floors: 0.5\n",
    "y_sub = 'price'\n",
    "rm_sub = ['grade','condition', 'yr_built', 'view']\n",
    "\n",
    "sub_scatter(rm_sub, y_sub)"
   ]
  },
  {
   "cell_type": "markdown",
   "metadata": {},
   "source": [
    "---\n",
    "### Category Codes"
   ]
  },
  {
   "cell_type": "code",
   "execution_count": 143,
   "metadata": {},
   "outputs": [
    {
     "data": {
      "text/plain": [
       "array([98178, 98125, 98028, ..., 98144, 98027, 98144])"
      ]
     },
     "execution_count": 143,
     "metadata": {},
     "output_type": "execute_result"
    }
   ],
   "source": [
    "# codify categorical features\n",
    "df[\"yr_built\"] = df[\"yr_built\"].cat.codes\n",
    "df[\"zc_range\"] = df[\"zc_range\"].cat.codes\n",
    "\n",
    "#create dummy columns to store cat.codes\n",
    "zipcode_dummy = pd.get_dummies(bins_zip, prefix=\"zip\")\n",
    "year_dummy = pd.get_dummies(bins_year, prefix=\"yr\")\n",
    "\n",
    "#drop now obsolete columns\n",
    "df = df.drop([\"yr_built\",\"zipcode\"], axis=1)\n",
    "\n",
    "df = pd.concat([df, zipcode_dummy, year_dummy], axis=1)\n",
    "\n",
    "#double check that everything is as it should be\n"
   ]
  },
  {
   "cell_type": "code",
   "execution_count": 19,
   "metadata": {},
   "outputs": [
    {
     "data": {
      "text/html": [
       "<div>\n",
       "<style scoped>\n",
       "    .dataframe tbody tr th:only-of-type {\n",
       "        vertical-align: middle;\n",
       "    }\n",
       "\n",
       "    .dataframe tbody tr th {\n",
       "        vertical-align: top;\n",
       "    }\n",
       "\n",
       "    .dataframe thead th {\n",
       "        text-align: right;\n",
       "    }\n",
       "</style>\n",
       "<table border=\"1\" class=\"dataframe\">\n",
       "  <thead>\n",
       "    <tr style=\"text-align: right;\">\n",
       "      <th></th>\n",
       "      <th>1</th>\n",
       "      <th>2</th>\n",
       "      <th>3</th>\n",
       "      <th>4</th>\n",
       "      <th>5</th>\n",
       "    </tr>\n",
       "  </thead>\n",
       "  <tbody>\n",
       "    <tr>\n",
       "      <td>0</td>\n",
       "      <td>0</td>\n",
       "      <td>0</td>\n",
       "      <td>1</td>\n",
       "      <td>0</td>\n",
       "      <td>0</td>\n",
       "    </tr>\n",
       "    <tr>\n",
       "      <td>1</td>\n",
       "      <td>0</td>\n",
       "      <td>0</td>\n",
       "      <td>1</td>\n",
       "      <td>0</td>\n",
       "      <td>0</td>\n",
       "    </tr>\n",
       "    <tr>\n",
       "      <td>2</td>\n",
       "      <td>0</td>\n",
       "      <td>0</td>\n",
       "      <td>1</td>\n",
       "      <td>0</td>\n",
       "      <td>0</td>\n",
       "    </tr>\n",
       "  </tbody>\n",
       "</table>\n",
       "</div>"
      ],
      "text/plain": [
       "   1  2  3  4  5\n",
       "0  0  0  1  0  0\n",
       "1  0  0  1  0  0\n",
       "2  0  0  1  0  0"
      ]
     },
     "execution_count": 19,
     "metadata": {},
     "output_type": "execute_result"
    }
   ],
   "source": [
    "# Recast 'condition' as a category:\n",
    "condition_series = df['condition']\n",
    "cat_condition = condition_series.astype('category')\n",
    "\n",
    "# get_dummies\n",
    "pd.get_dummies(cat_condition)\n",
    "\n",
    "# LabelBinarizer\n",
    "from sklearn.preprocessing import LabelBinarizer\n",
    "lb = LabelBinarizer()\n",
    "condition_dummies = lb.fit_transform(cat_condition)\n",
    "\n",
    "# Convert back to dataframe\n",
    "condition_dum_df = pd.DataFrame(condition_dummies, columns=lb.classes_)\n",
    "\n",
    "# Avoid Multicollinearity Trap\n",
    "# One can be predicted based on others unless we drop one of the dummy cols:\n",
    "pd.get_dummies(cat_condition, drop_first=True)\n",
    "condition_dum_df.head(3)"
   ]
  },
  {
   "cell_type": "code",
   "execution_count": null,
   "metadata": {},
   "outputs": [],
   "source": [
    "# Remove category columns and replace with dummy cols:\n",
    "\n",
    "# Create Dummies\n",
    "grade_dummies = pd.get_dummies(df['grade'], prefix='grade', drop_first=True)\n",
    "condition_dummies = pd.get_dummies(df['condition'], prefix='condition', drop_first=True)\n",
    "floors_dummies = pd.get_dummies(df['floors'], prefix='floors', drop_first=True)\n",
    "\n",
    "# Remove original columns\n",
    "\n",
    "\n",
    "# Add dummy columns \n"
   ]
  },
  {
   "cell_type": "code",
   "execution_count": null,
   "metadata": {},
   "outputs": [],
   "source": [
    "# bathrooms: \n",
    "# sqft_living: 0.76\n",
    "    # sqft_above: 0.69\n",
    "    # grade: 0.67\n",
    "    # sqft_living15: 0.57\n",
    "# bedrooms: 0.51\n",
    "    # yr_built: 0.51\n",
    "# floors: 0.5\n",
    "y_sub = 'sqft_living'\n",
    "rm_sub = ['bedrooms','bathrooms', 'floors', 'grade']\n",
    "\n",
    "sub_scatter(rm_sub, y_sub)"
   ]
  },
  {
   "cell_type": "code",
   "execution_count": null,
   "metadata": {},
   "outputs": [],
   "source": [
    "df['yr_renovated'].unique\n",
    "df['yr_renovated'].value_counts()\n",
    "df['yr_renovated'].isna().sum()\n",
    "df['yr_renovated'].describe()\n",
    "#RECAST AS CATEGORY\n",
    "cat_yr_renov = df['yr_renovated'].astype('category')"
   ]
  },
  {
   "cell_type": "code",
   "execution_count": null,
   "metadata": {},
   "outputs": [],
   "source": [
    "cat_yr_renov.cat.codes"
   ]
  },
  {
   "cell_type": "code",
   "execution_count": null,
   "metadata": {},
   "outputs": [],
   "source": [
    "from sklearn.preprocessing import LabelEncoder\n",
    "lb_make = LabelEncoder()\n",
    "yr_renov_coded = lb_make.fit_transform(cat_yr_renov)"
   ]
  },
  {
   "cell_type": "code",
   "execution_count": null,
   "metadata": {},
   "outputs": [],
   "source": [
    "yr_renov_coded"
   ]
  },
  {
   "cell_type": "code",
   "execution_count": null,
   "metadata": {
    "scrolled": false
   },
   "outputs": [],
   "source": [
    "# sqft_living, zipcode, and condition\n",
    "\n",
    "check_column(df['yr_renovated'])\n",
    "\n"
   ]
  },
  {
   "cell_type": "code",
   "execution_count": null,
   "metadata": {
    "code_folding": [
     1
    ],
    "scrolled": false
   },
   "outputs": [],
   "source": [
    "# Check columns returns the datatype, null values and unique values of input series \n",
    "def check_column(series_feature, series_target=None):#,max_unique=10):\n",
    "    \"\"\"Takes a series from a dataframe (df[col]), \n",
    "    reports back info on unique values, nulls, .describe() stats.\n",
    "    \n",
    "    \n",
    "    Args:\n",
    "        series (series (DataFrame column)): column to report    \n",
    "    \"\"\"\n",
    "    dashes = '---'*25\n",
    "    series=series_feature\n",
    "    \n",
    "    \n",
    "    \n",
    "    print(f'Unique Values for {series.name}')\n",
    "    print(dashes)\n",
    "    print(f\"series dtype is {series.dtype}\\n\")\n",
    "    \n",
    "    #Value Counts\n",
    "    display(series.value_counts())#[:max_unique])\n",
    "    print(dashes)\n",
    " \n",
    "    print('\\n\\tDescribe')\n",
    "    print(series.describe())\n",
    "    \n",
    "    if series.dtype != 'object':\n",
    "        sns.distplot(series)\n",
    "        plt.show()\n",
    "    else:\n",
    "        print(f\"{series.name} is a string column and cannot be plotted\")\n",
    "\n",
    "    if series_target is not None:\n",
    "        \n",
    "        # Add your scatterplot here\n",
    "        df.hist(figsize=(20,20));"
   ]
  },
  {
   "cell_type": "code",
   "execution_count": null,
   "metadata": {
    "scrolled": true
   },
   "outputs": [],
   "source": [
    "check_column(df['sqft_living'], series_target=df['price'])"
   ]
  },
  {
   "cell_type": "code",
   "execution_count": null,
   "metadata": {
    "code_folding": [
     0
    ],
    "run_control": {
     "marked": false
    },
    "scrolled": false
   },
   "outputs": [],
   "source": [
    "# MULTIPLOT\n",
    "from string import ascii_letters\n",
    "import numpy as np\n",
    "import pandas as pd\n",
    "import seaborn as sns\n",
    "import matplotlib.pyplot as plt\n",
    "\n",
    "def multiplot(df):\n",
    "\n",
    "    sns.set(style=\"white\")\n",
    "\n",
    "    # Compute the correlation matrix\n",
    "    corr = df.corr()\n",
    "    # Generate a mask for the upper triangle\n",
    "    mask = np.zeros_like(corr, dtype=np.bool)\n",
    "    mask[np.triu_indices_from(mask)] = True\n",
    "\n",
    "    # Set up the matplotlib figure\n",
    "    f, ax = plt.subplots(figsize=(16, 16))\n",
    "\n",
    "    # Generate a custom diverging colormap\n",
    "    cmap = sns.diverging_palette(220, 10, as_cmap=True)\n",
    "\n",
    "    # Draw the heatmap with the mask and correct aspect ratio\n",
    "    sns.heatmap(corr, mask=mask, annot=True, cmap=cmap, center=0,\n",
    "                \n",
    "    square=True, linewidths=.5, cbar_kws={\"shrink\": .5}) #\n",
    "    \n",
    "# multiplot(df)"
   ]
  },
  {
   "cell_type": "code",
   "execution_count": null,
   "metadata": {
    "scrolled": true
   },
   "outputs": [],
   "source": [
    "fig = plot_hist_scat(df)"
   ]
  },
  {
   "cell_type": "code",
   "execution_count": 43,
   "metadata": {
    "scrolled": false
   },
   "outputs": [],
   "source": [
    "#ord_features = [\"view\", \"condition\",\"grade\",\"bedrooms\", \"bathrooms\", \"floors\"]\n",
    "#run the features through lmplot as a forloop to build graph\n",
    "#for x in ord_features:\n",
    "#    sns.lmplot(data=df, x=\"long\", y=\"lat\", fit_reg=False, hue=x, height=10)\n",
    "#plt.show()"
   ]
  },
  {
   "cell_type": "code",
   "execution_count": 44,
   "metadata": {
    "scrolled": true
   },
   "outputs": [],
   "source": [
    "# check data discrepancies between duplicates (if any):\n",
    "\n",
    "# 1 - compare price (house value) and date of sale:\n",
    "\n",
    "# dupes         date        price\n",
    "# 6021501535   12/23/2014   700,000\n",
    "#               7/25/2014   430,000\n",
    "    \n",
    "# 4139480200   12/9/2014\n",
    "# 7520000520   3/11/2015\n",
    "# 3969300030   12/29/2014\n",
    "# 2231500030   3/24/2015\n",
    "\n",
    "\n",
    "\n",
    "#for df['id'] in df:\n",
    "#    if df['id'] == \n",
    "#        print(f\"{df.id} : {date} : {price}\\n\")\n",
    "     #  4139480200\n",
    "#dupes_id = dupes['id']\n",
    "#dupes_price = dupes['price']\n",
    "\n",
    "# 2 - compare other discrepancies and/or missing values "
   ]
  },
  {
   "cell_type": "code",
   "execution_count": 45,
   "metadata": {},
   "outputs": [],
   "source": [
    "#colormap = ('skyblue', 'salmon', 'lightgreen')\n",
    "#plt.figure()\n",
    "#pd.plotting.parallel_coordinates(df, 'price', 'sqft_living' color=colormap);\n",
    "\n",
    "#pd.plotting.scatter_matrix(df);"
   ]
  },
  {
   "cell_type": "markdown",
   "metadata": {},
   "source": [
    "## DATE"
   ]
  },
  {
   "cell_type": "code",
   "execution_count": null,
   "metadata": {},
   "outputs": [],
   "source": [
    "# group data by dates/months/years to explore comparison in market fluctuations\n",
    "\n",
    "print(df.date.min())\n",
    "print(df.date.max())\n",
    "\n",
    "# Our dataset contains values spanning two years: beginning May 2014 to end of May 2015"
   ]
  },
  {
   "cell_type": "code",
   "execution_count": null,
   "metadata": {},
   "outputs": [],
   "source": [
    "df.date.dt.year.value_counts(normalize=True)\n",
    "# 2014    14622\n",
    "# 2015     6975\n",
    "# The majority of our data (67%) is from 2014"
   ]
  },
  {
   "cell_type": "code",
   "execution_count": null,
   "metadata": {},
   "outputs": [],
   "source": [
    "df.date.dt.month.value_counts()"
   ]
  },
  {
   "cell_type": "markdown",
   "metadata": {},
   "source": [
    "### Impact of date (month or year) on price\n",
    "Question: are housing prices lower or higher in certain months (better to buy)?"
   ]
  },
  {
   "cell_type": "code",
   "execution_count": null,
   "metadata": {},
   "outputs": [],
   "source": [
    "# create new columns for year and month\n",
    "df['year'] = df['date'].dt.year\n",
    "df['month'] = df['date'].dt.month"
   ]
  },
  {
   "cell_type": "code",
   "execution_count": null,
   "metadata": {},
   "outputs": [],
   "source": [
    "# There does not appear to be any correlation whatsoever with \n",
    "weights = np.linspace(0,1)\n",
    "np.corrcoef(df['month'], df['price'])\n",
    "np.corrcoef(df['year'], df['price'])"
   ]
  },
  {
   "cell_type": "code",
   "execution_count": null,
   "metadata": {},
   "outputs": [],
   "source": [
    "df.month.value_counts(normalize=True)"
   ]
  },
  {
   "cell_type": "code",
   "execution_count": null,
   "metadata": {},
   "outputs": [],
   "source": [
    "# create variables for each series you want to pass into the xcols list and compare them against one\n",
    "y_sub = 'price'\n",
    "date_sub = ['year','month']\n",
    "\n",
    "def sub_scatter(xcols, y):\n",
    "    fig, axes = plt.subplots(nrows=1, ncols=2, figsize=(16,3))\n",
    "    for xcol, ax in zip(xcols, axes):\n",
    "        df.plot(kind='scatter', x=xcol, y=y, ax=ax, alpha=0.7, color='b')\n",
    "\n",
    "sub_scatter(date_sub, y_sub)"
   ]
  },
  {
   "cell_type": "code",
   "execution_count": null,
   "metadata": {
    "scrolled": true
   },
   "outputs": [],
   "source": [
    "# 1\n",
    "# Visualize linearity with a pairplot (seaborn)\n",
    "# Attempt to add a line of best fit and 95% confidence band. Aim to minimize sum of squared error.\n",
    "\n",
    "#sns.pairplot(df, X, y, kind='reg')\n",
    "\n",
    "def pairplot_loop(df=df, y='price', reg=True):\n",
    "    for col in df:\n",
    "        #col_corr = col.corr().abs()\n",
    "        sns.pairplot(df, col, y, kind='reg')\n",
    "        #if col_corr > 0.5:\n",
    "            #print('Correlation coefficient is: {0}'.format(col_corr))\n",
    "pairplot_loop(df, df.columns, y='price', reg=True)            \n",
    "# sns.pairplot(df, X, y, kind='reg')"
   ]
  },
  {
   "cell_type": "code",
   "execution_count": null,
   "metadata": {
    "code_folding": [
     5
    ],
    "scrolled": false
   },
   "outputs": [],
   "source": [
    "#SEABORN\n",
    "import matplotlib.ticker as mtick\n",
    "import matplotlib.pyplot as plt\n",
    "\n",
    "# Plots histogram and scatter (vs price) side by side\n",
    "def plot_hist_scat_sns(df,target='price'):\n",
    "    #plt.style.use('dark_background')\n",
    "\n",
    "    \n",
    "    ## ----------- DEFINE AESTHETIC CUSTOMIZATIONS ----------- ##\n",
    "    # Axis Label fonts\n",
    "    fontTitle = {'fontsize': 16,\n",
    "               'fontweight': 'bold',\n",
    "                'fontfamily':'serif'}\n",
    "\n",
    "    fontAxis = {'fontsize': 14,\n",
    "               'fontweight': 'bold',\n",
    "                'fontfamily':'serif'}\n",
    "\n",
    "    fontTicks = {'fontsize': 12,\n",
    "               'fontweight':'bold',\n",
    "                'fontfamily':'serif'}\n",
    "\n",
    "    # Formatting dollar sign labels\n",
    "    fmtPrice = '${x:,.0f}'\n",
    "    tickPrice = mtick.StrMethodFormatter(fmtPrice)\n",
    "    \n",
    "\n",
    "    ## ----------- PLOTTING ----------- ##\n",
    "    \n",
    "    ## Loop through dataframe to plot\n",
    "    for column in df.describe():\n",
    "    \n",
    "        # Create figure with subplots for current column\n",
    "        # Note: in order to use identical syntax for large # of subplots (ax[i,j]), \n",
    "        #  declare an extra row of subplots to be removed later\n",
    "        fig, ax = plt.subplots(figsize=(12,10), ncols=2, nrows=2)\n",
    "\n",
    "        ## ----- SUBPLOT 1 -----##\n",
    "        i,j = 0,0\n",
    "        ax[i,j].set_title(column.capitalize(),fontdict=fontTitle)\n",
    "        \n",
    "        # Define graphing keyword dictionaries for distplot (Subplot 1)\n",
    "        hist_kws = {\"linewidth\": 1, \"alpha\": 1, \"color\": 'blue','edgecolor':'w'}\n",
    "        kde_kws = {\"color\": \"white\", \"linewidth\": 1, \"label\": \"KDE\"}\n",
    "        \n",
    "        # Plot distplot on ax[i,j] using hist_kws and kde_kws\n",
    "        sns.distplot(df[column], norm_hist=True, kde=True,\n",
    "                     hist_kws = hist_kws, kde_kws = kde_kws,\n",
    "                     label=column+' histogram', ax=ax[i,j])\n",
    " \n",
    "\n",
    "        # Set x axis label\n",
    "        ax[i,j].set_xlabel(column.title(),fontdict=fontAxis)\n",
    "    \n",
    "        # Get x-ticks, rotate labels, and return\n",
    "        xticklab1 = ax[i,j].get_xticklabels(which = 'both')\n",
    "        ax[i,j].set_xticklabels(labels=xticklab1, fontdict=fontTicks, rotation=45)\n",
    "        ax[i,j].xaxis.set_major_formatter(mtick.ScalarFormatter())\n",
    "\n",
    "        \n",
    "        # Set y-label \n",
    "        ax[i,j].set_ylabel('Density',fontdict=fontAxis)\n",
    "        yticklab1=ax[i,j].get_yticklabels(which='both')\n",
    "        ax[i,j].set_yticklabels(labels=yticklab1,fontdict=fontTicks)\n",
    "        ax[i,j].yaxis.set_major_formatter(mtick.ScalarFormatter())\n",
    "        \n",
    "        \n",
    "        # Set y-grid\n",
    "        ax[i, j].set_axisbelow(True)\n",
    "        ax[i, j].grid(axis='y',ls='--')\n",
    "\n",
    "        \n",
    "        ## ----- SUBPLOT 2-----  ##\n",
    "        i,j = 0,1\n",
    "        ax[i,j].set_title(column.capitalize(),fontdict=fontTitle)\n",
    "\n",
    "        # Define the ketword dictionaries for  scatter plot and regression line (subplot 2)\n",
    "        line_kws={\"color\":\"white\",\"alpha\":0.5,\"lw\":4,\"ls\":\":\"}\n",
    "        scatter_kws={'s': 2, 'alpha': 0.5,'marker':'.','color':'blue'}\n",
    "\n",
    "        # Plot regplot on ax[i,j] using line_kws and scatter_kws\n",
    "        sns.regplot(df[column], df[target], \n",
    "                    line_kws = line_kws,\n",
    "                    scatter_kws = scatter_kws,\n",
    "                    ax=ax[i,j])\n",
    "        \n",
    "        # Set x-axis label\n",
    "        ax[i,j].set_xlabel(column.title(),fontdict=fontAxis)\n",
    "\n",
    "         # Get x ticks, rotate labels, and return\n",
    "        xticklab2=ax[i,j].get_xticklabels(which='both')\n",
    "        ax[i,j].set_xticklabels(labels=xticklab2,fontdict=fontTicks, rotation=45)\n",
    "        ax[i,j].xaxis.set_major_formatter(mtick.ScalarFormatter())\n",
    "\n",
    "        # Set  y-axis label\n",
    "        ax[i,j].set_ylabel('Price',fontdict=fontAxis)\n",
    "        \n",
    "        # Get, set, and format y-axis Price labels\n",
    "        yticklab = ax[i,j].get_yticklabels()\n",
    "        ax[i,j].set_yticklabels(yticklab,fontdict=fontTicks)\n",
    "        ax[i,j].get_yaxis().set_major_formatter(tickPrice) \n",
    "\n",
    "        # Set y-grid\n",
    "        ax[i, j].set_axisbelow(True)\n",
    "        ax[i, j].grid(axis='y',ls='--')       \n",
    "        \n",
    "        ## ---------- Final layout adjustments ----------- ##\n",
    "        # Deleted unused subplots \n",
    "        fig.delaxes(ax[1,1])\n",
    "        fig.delaxes(ax[1,0])\n",
    "\n",
    "        # Optimizing spatial layout\n",
    "        fig.tight_layout()\n",
    "        figtitle=column+'_dist_regr_plots.png'\n",
    "        #plt.savefig(fig_filepath+figtitle)\n",
    "    return"
   ]
  },
  {
   "cell_type": "code",
   "execution_count": null,
   "metadata": {
    "scrolled": true
   },
   "outputs": [],
   "source": [
    "# Side by side plot of Histograms and Scatterplots for each variable vs price:\n",
    "\n",
    "fig = plot_hist_scat_sns(df,target='price')"
   ]
  },
  {
   "cell_type": "markdown",
   "metadata": {},
   "source": [
    "## Outliers"
   ]
  },
  {
   "cell_type": "code",
   "execution_count": null,
   "metadata": {
    "code_folding": [
     4
    ],
    "scrolled": false
   },
   "outputs": [],
   "source": [
    "# Tukey's method using IQR to eliminate \n",
    "def detect_outliers(df, n, features):\n",
    "    outlier_indices = []\n",
    "    # iterate over features(columns)\n",
    "    for col in features:\n",
    "        # 1st quartile (25%)\n",
    "        Q1 = np.percentile(df[col], 25)\n",
    "        # 3rd quartile (75%)\n",
    "        Q3 = np.percentile(df[col],75)\n",
    "        # Interquartile range (IQR)\n",
    "        IQR = Q3 - Q1\n",
    "        # outlier step\n",
    "        outlier_step = 1.5 * IQR\n",
    "        # Determine a list of indices of outliers for feature col\n",
    "        outlier_list_col = df[(df[col] < Q1 - outlier_step) | (df[col] > Q3 + outlier_step )].index\n",
    "        # append the found outlier indices for col to the list of outlier indices \n",
    "        outlier_indices.extend(outlier_list_col)\n",
    "        # select observations containing more than 2 outliers\n",
    "        outlier_indices = Counter(outlier_indices)        \n",
    "        multiple_outliers = list(k for k, v in outlier_indices.items() if v > n)\n",
    "        return multiple_outliers \n",
    "# Outliers_to_drop = detect_outliers(data,2,[\"col1\",\"col2\"])\n",
    "# df.loc[Outliers_to_drop] # Show the outliers rows\n",
    "# Drop outliers\n",
    "# data= data.drop(Outliers_to_drop, axis = 0).reset_index(drop=True)"
   ]
  },
  {
   "cell_type": "code",
   "execution_count": null,
   "metadata": {
    "scrolled": false
   },
   "outputs": [],
   "source": [
    "features = df.columns\n",
    "#['condition', 'grade','zipcode','sqft_living', 'bathrooms']\n",
    "outliers_to_drop = detect_outliers(df, 2, features)\n",
    "df.loc[outliers_to_drop]\n"
   ]
  },
  {
   "cell_type": "code",
   "execution_count": null,
   "metadata": {
    "scrolled": false
   },
   "outputs": [],
   "source": [
    "outliers_to_drop"
   ]
  },
  {
   "cell_type": "markdown",
   "metadata": {},
   "source": [
    "# FIT AN INITIAL MODEL:\n",
    "Various forms, detail later...\n",
    "Assessing the model:\n",
    "Assess parameters (slope,intercept)\n",
    "Check if the model explains the variation in the data (RMSE, F, R_square)\n",
    "Are the coeffs, slopes, intercepts in appropriate units?\n",
    "Whats the impact of collinearity? Can we ignore?\n",
    "Revise the fitted model\n",
    "Multicollinearity is big issue for lin regression and cannot fully remove it\n",
    "Use the predictive ability of model to test it (like R2 and RMSE)\n",
    "Check for missed non-linearity\n",
    "Holdout validation / Train/test split\n",
    "use sklearn train_test_split"
   ]
  },
  {
   "cell_type": "code",
   "execution_count": null,
   "metadata": {
    "code_folding": [],
    "scrolled": false
   },
   "outputs": [],
   "source": [
    "# Plots histogram and scatter (vs price) side by side\n",
    "def plot_hist_scat(df,target='price',stats=False):\n",
    "#     plt.style.use('bmh')\n",
    "    plt.style.use('fivethirtyeight')\n",
    "    \n",
    "#     fontTitle = {'family': 'serif',\n",
    "#             'color':  'black',\n",
    "#             'weight': 'normal',\n",
    "#             'size': 16,\n",
    "#             }\n",
    "#     fontTicks = {'family': 'sans-serif',\n",
    "#             'color':  'black',\n",
    "#             'weight': 'normal',\n",
    "#             'size': 10,\n",
    "#             }\n",
    "    results = [['column','K_square','p-val']]\n",
    "\n",
    "    for column in df.describe():\n",
    "\n",
    "        fig = plt.figure(figsize=(8,3) )#plt.figaspect(0.5))#(5,4))\n",
    "        \n",
    "        ax1 = fig.add_subplot(121)\n",
    "        ax1.hist(df[column],density=True,label = column+' histogram',bins=20)\n",
    "        ax1.set_title(column.capitalize())\n",
    "\n",
    "        ax1.legend()\n",
    "        \n",
    "        ax2 = fig.add_subplot(122)\n",
    "        ax2.scatter(x=df[column], y=df[target],label = column+' vs price',marker='.')\n",
    "        ax2.set_title(column.capitalize())\n",
    "        ax2.legend()\n",
    "\n",
    "        fig.tight_layout()\n",
    "        if stats==True:\n",
    "            stat, p = normtest(df[column])\n",
    "#             print(f'Normality test for {column}:K_square = {stat}, p-value = {p}')\n",
    "\n",
    "            results.append([column,stat, p])\n",
    "    return pd.DataFrame(results)"
   ]
  },
  {
   "cell_type": "code",
   "execution_count": null,
   "metadata": {
    "scrolled": false
   },
   "outputs": [],
   "source": [
    "# 2\n",
    "# SK Learn - X is a feature matrix in Pandas Dataframe.\n",
    "# Y is a response vector (Pandas series)\n",
    "# Separate variables\n",
    "\n",
    "feature_cols = ['sqft_living','condition','zipcode']\n",
    "X = df[feature_cols]\n",
    "y = df['price']"
   ]
  },
  {
   "cell_type": "code",
   "execution_count": null,
   "metadata": {
    "scrolled": false
   },
   "outputs": [],
   "source": [
    "# 3\n",
    "# Splitting X & y into training and testing sets\n",
    "# By passing X and y variables into the train_test_split method,\n",
    "# we can capture the splits in data by assigning 4 variables to the result:\n",
    "\n",
    "# Import SK Learn train test split\n",
    "import sklearn\n",
    "from sklearn.cross_validation import train_test_split\n",
    "\n",
    "# Assign variables to capture train test split output\n",
    "X_train, X_test, y_train, y_test = train_test_split(X, y)\n",
    "\n"
   ]
  },
  {
   "cell_type": "code",
   "execution_count": null,
   "metadata": {
    "scrolled": false
   },
   "outputs": [],
   "source": [
    "# 4 Train the model\n",
    "\n",
    "# Import sklearn.linear_model to access LinearRegression \n",
    "from sklearn.linear_model import LinearRegression\n",
    "\n",
    "# instantiate and model fit to training data\n",
    "linreg = LinearRegression()\n",
    "\n",
    "# fit model to training data (learn coefficients)\n",
    "linreg.fit(X_train, y_train)"
   ]
  },
  {
   "cell_type": "code",
   "execution_count": null,
   "metadata": {
    "scrolled": false
   },
   "outputs": [],
   "source": [
    "# 5\n",
    "# Interpreting Coefficients\n",
    "# The coefficients will allow us to model our equation with values for our beta's. \n",
    "# The linreg variable (assigned to a LinearRegression object) extracts the intercept and coefficients\n",
    "\n",
    "# Print y-intercept\n",
    "print(linreg.intercept_)\n",
    "\n",
    "# Print beta coefficients in same order as passed\n",
    "print(linreg.coef_)\n",
    "\n",
    "# Pair the feature names and coeffiecients together\n",
    "zip(feature_cols, linreg.coef_)\n",
    "\n",
    "# The intercept is the B0 value; \n",
    "# Each coef is corresponding Beta for the X's passed in, respective order\n"
   ]
  },
  {
   "cell_type": "code",
   "execution_count": null,
   "metadata": {
    "scrolled": false
   },
   "outputs": [],
   "source": [
    "# 6 \n",
    "# Making predictions based on the model:\n",
    "# Pass the predict method to test data\n",
    "# Return prediced values of y given new test X data\n",
    "\n",
    "y_pred = linreg.predict(X_test)"
   ]
  },
  {
   "cell_type": "code",
   "execution_count": null,
   "metadata": {
    "scrolled": false
   },
   "outputs": [],
   "source": [
    "# 7 \n",
    "# Primary metrics for evaluating linear models:\n",
    "# Mean absolute error (MAE) : easiest to understand, represents average error\n",
    "# Mean Squared Error (MSE) : similar to MAE but noise is exaggerated and larger errors are \"punished\"\n",
    "# Root mean squared error (RMSE) : similar to MSE but easier to interpret bc uses base units. Primary metric*\n",
    "\n",
    "# Each of the above requires two lists as parameters: predicted values and true values\n",
    "\n",
    "# Import metrics library\n",
    "from sklearn import metrics\n",
    "\n",
    "# Print result of MAE:\n",
    "print(metrics.mean_absolute_error(y_test, y_pred))\n",
    "\n",
    "# Print resultof MSE:\n",
    "print(metrics.mean_squared_error(y_true, y_pred))\n",
    "\n",
    "# Print result of RMSE:\n",
    "print(np.sqrt(metrics.mean_squared_error(y_true, y_pred)))\n"
   ]
  },
  {
   "cell_type": "code",
   "execution_count": null,
   "metadata": {
    "scrolled": false
   },
   "outputs": [],
   "source": [
    "# 8\n",
    "# Feature Selection\n",
    "# Note which X's have minimal impact on y. Remove these to make model more accurate\n",
    "\n",
    "# Replace feature_cols & X\n",
    "# Train_test_split data\n",
    "# Fit model to linreg again using linreg.fit\n",
    "# Make predictions using (y_pred = linreg.predict(X_test))\n",
    "# Compute RMSE\n",
    "# Repeat until RMSE satisfactory"
   ]
  },
  {
   "cell_type": "code",
   "execution_count": null,
   "metadata": {
    "code_folding": [
     6
    ],
    "scrolled": false
   },
   "outputs": [],
   "source": [
    "# Choose a linear model by forward selection\n",
    "# The function below optimizes adjusted R-squared by adding features that help the most one at a time\n",
    "# until the score goes down or you run out of features.\n",
    "\n",
    "import statsmodels.formula.api as smf\n",
    "\n",
    "def forward_selected(data, response):\n",
    "    \"\"\"Linear model designed by forward selection.\n",
    "\n",
    "    Parameters:\n",
    "    -----------\n",
    "    data : pandas DataFrame with all possible predictors and response\n",
    "\n",
    "    response: string, name of response column in data\n",
    "\n",
    "    Returns:\n",
    "    --------\n",
    "    model: an \"optimal\" fitted statsmodels linear model\n",
    "           with an intercept\n",
    "           selected by forward selection\n",
    "           evaluated by adjusted R-squared\n",
    "    \"\"\"\n",
    "    remaining = set(data.columns)\n",
    "    remaining.remove(response)\n",
    "    selected = []\n",
    "    current_score, best_new_score = 0.0, 0.0\n",
    "    while remaining and current_score == best_new_score:\n",
    "        scores_with_candidates = []\n",
    "        for candidate in remaining:\n",
    "            formula = \"{} ~ {} + 1\".format(response,\n",
    "                                           ' + '.join(selected + [candidate]))\n",
    "            score = smf.ols(formula, data).fit().rsquared_adj\n",
    "            scores_with_candidates.append((score, candidate))\n",
    "        scores_with_candidates.sort()\n",
    "        best_new_score, best_candidate = scores_with_candidates.pop()\n",
    "        if current_score < best_new_score:\n",
    "            remaining.remove(best_candidate)\n",
    "            selected.append(best_candidate)\n",
    "            current_score = best_new_score\n",
    "    formula = \"{} ~ {} + 1\".format(response,\n",
    "                                   ' + '.join(selected))\n",
    "    model = smf.ols(formula, data).fit()\n",
    "    return model"
   ]
  },
  {
   "cell_type": "code",
   "execution_count": null,
   "metadata": {
    "scrolled": false
   },
   "outputs": [],
   "source": [
    "model = forward_selected(df, 'price')\n",
    "print(model.model.formula)\n",
    "print(model.rsquared_adj)\n"
   ]
  },
  {
   "cell_type": "markdown",
   "metadata": {},
   "source": [
    "Explaining/Phrasing R-Squared values\n",
    "An obtained R-squared value of say 0.85 can be put into a statement as\n",
    "\n",
    "85% of the variations in dependent variable  𝑦  are explained by the independent variable in our model."
   ]
  },
  {
   "cell_type": "markdown",
   "metadata": {},
   "source": [
    "# Visualizations"
   ]
  },
  {
   "cell_type": "markdown",
   "metadata": {},
   "source": [
    "##### TABLEAU HOW TO (temp)\n",
    "Short how-to plot geo data in Tableau:\n",
    "Load in your .csv dataset from your project.\n",
    "Let it use data interpreter. It should identify zipcode as a location.\n",
    "On your worksheet page:\n",
    "For plotting each price for each house:\n",
    "Drag the Measures Lat and Long onto the rows and columns boxes (top of sheet)\n",
    "Drag the Measure price onto the Color Button under Marks.\n",
    "It should now be listed at the bottom of the Marks panel.\n",
    "Right-click and select \"Dimension\"\n",
    "For plotting median income by zipcode:\n",
    "Drag zipcode form the Dimensions panel onto the main graph window.\n",
    "It will automatically load in map of location.\n",
    "Drag price onto the color button (it will now appear in the Marks window)\n",
    "Rich click on Price. Select \"Measure\" > Median\n",
    "Customize map features by selecting \"Map\" > Map Layers on the Menu Bar.\n"
   ]
  },
  {
   "cell_type": "code",
   "execution_count": null,
   "metadata": {
    "scrolled": false
   },
   "outputs": [],
   "source": [
    "# https://www.youtube.com/watch?v=upBvuTqOy9k&feature=youtu.be\n",
    "\n",
    "import plotly\n",
    "plotly.offline.init_notebook_mode(connected=True)\n",
    "\n",
    "import pandas as pd\n",
    "import numpy as np\n",
    "\n",
    "import plotly\n",
    "plotly.offline.init_notebook_mode(connected=True)\n",
    "import plotly.graph_objs as go\n",
    "\n",
    "from plotly.offline import download_plotlyjs, init_notebook_mode, plot, iplot\n",
    "\n",
    "init_notebook_mode(connected=True)"
   ]
  },
  {
   "cell_type": "code",
   "execution_count": null,
   "metadata": {
    "scrolled": false
   },
   "outputs": [],
   "source": []
  },
  {
   "cell_type": "code",
   "execution_count": null,
   "metadata": {
    "scrolled": false
   },
   "outputs": [],
   "source": [
    "data = go.Scatter(x=[1,2,3,4], y=[3,6,8,9], name='Blue')\n",
    "layout = go.Layout(title='Random Scatter')\n",
    "\n",
    "fig = go.Figure(data=data, layout=layout)"
   ]
  },
  {
   "cell_type": "code",
   "execution_count": null,
   "metadata": {
    "scrolled": false
   },
   "outputs": [],
   "source": []
  },
  {
   "cell_type": "markdown",
   "metadata": {},
   "source": [
    "* \"how did you pick the question(s) that you did?\"\n",
    "* \"why are these questions important from a business perspective?\"\n",
    "* \"how did you decide on the data cleaning options you performed?\"\n",
    "* \"why did you choose a given method or library?\"\n",
    "* \"why did you select those visualizations and what did you learn from each of them?\"\n",
    "* \"why did you pick those features as predictors?\"\n",
    "* \"how would you interpret the results?\"\n",
    "* \"how confident are you in the predictive quality of the results?\"\n",
    "* \"what are some of the things that could cause the results to be wrong?\""
   ]
  }
 ],
 "metadata": {
  "kernelspec": {
   "display_name": "Python [conda env:learn-env] *",
   "language": "python",
   "name": "conda-env-learn-env-py"
  },
  "language_info": {
   "codemirror_mode": {
    "name": "ipython",
    "version": 3
   },
   "file_extension": ".py",
   "mimetype": "text/x-python",
   "name": "python",
   "nbconvert_exporter": "python",
   "pygments_lexer": "ipython3",
   "version": "3.6.9"
  },
  "toc": {
   "base_numbering": 1,
   "nav_menu": {},
   "number_sections": true,
   "sideBar": true,
   "skip_h1_title": false,
   "title_cell": "Table of Contents",
   "title_sidebar": "Contents",
   "toc_cell": false,
   "toc_position": {
    "height": "calc(100% - 180px)",
    "left": "10px",
    "top": "150px",
    "width": "256px"
   },
   "toc_section_display": true,
   "toc_window_display": true
  },
  "varInspector": {
   "cols": {
    "lenName": 16,
    "lenType": 16,
    "lenVar": 40
   },
   "kernels_config": {
    "python": {
     "delete_cmd_postfix": "",
     "delete_cmd_prefix": "del ",
     "library": "var_list.py",
     "varRefreshCmd": "print(var_dic_list())"
    },
    "r": {
     "delete_cmd_postfix": ") ",
     "delete_cmd_prefix": "rm(",
     "library": "var_list.r",
     "varRefreshCmd": "cat(var_dic_list()) "
    }
   },
   "types_to_exclude": [
    "module",
    "function",
    "builtin_function_or_method",
    "instance",
    "_Feature"
   ],
   "window_display": false
  }
 },
 "nbformat": 4,
 "nbformat_minor": 2
}
